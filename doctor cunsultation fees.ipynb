{
 "cells": [
  {
   "cell_type": "markdown",
   "metadata": {},
   "source": [
    "# Predict A Doctor's Consultation Fee "
   ]
  },
  {
   "cell_type": "markdown",
   "metadata": {},
   "source": [
    "# key_Reason to predict the doctor Consultation Fee\n",
    "We have all been in situation where we go to a doctor in emergency and find that the consultation fees are too high. As a data scientist we all should do better. What if you have data that records important details about a doctor and you get to build a model to predict the doctor’s consulting fee.?"
   ]
  },
  {
   "cell_type": "markdown",
   "metadata": {},
   "source": [
    "# Feature detail:"
   ]
  },
  {
   "cell_type": "raw",
   "metadata": {},
   "source": [
    "Size of training set: 5961 records\n",
    "\n",
    "Size of test set: 1987 records"
   ]
  },
  {
   "cell_type": "raw",
   "metadata": {},
   "source": [
    "FEATURES:\n",
    "\n",
    "Qualification: Qualification and degrees held by the doctor\n",
    "\n",
    "Experience: Experience of the doctor in number of years\n",
    "\n",
    "Rating: Rating given by patients\n",
    "\n",
    "Profile: Type of the doctor\n",
    "\n",
    "Miscellaeous_Info: Extra information about the doctor\n",
    "\n",
    "Fees: Fees charged by the doctor\n",
    "\n",
    "Place: Area and the city where the doctor is located."
   ]
  },
  {
   "cell_type": "code",
   "execution_count": 1,
   "metadata": {},
   "outputs": [],
   "source": [
    "#importing all the necessary library\n",
    "import pandas as pd\n",
    "import numpy as np\n",
    "import matplotlib.pyplot as plt\n",
    "import seaborn as sns\n",
    "\n",
    "#import warnings\n",
    "import warnings\n",
    "warnings.filterwarnings('ignore')"
   ]
  },
  {
   "cell_type": "code",
   "execution_count": 2,
   "metadata": {},
   "outputs": [],
   "source": [
    "#loading train and test data\n",
    "test= pd.read_csv('doctor_consult_test.csv')\n",
    "train= pd.read_excel('Final_train.xlsx')"
   ]
  },
  {
   "cell_type": "code",
   "execution_count": 3,
   "metadata": {},
   "outputs": [
    {
     "data": {
      "text/html": [
       "<div>\n",
       "<style scoped>\n",
       "    .dataframe tbody tr th:only-of-type {\n",
       "        vertical-align: middle;\n",
       "    }\n",
       "\n",
       "    .dataframe tbody tr th {\n",
       "        vertical-align: top;\n",
       "    }\n",
       "\n",
       "    .dataframe thead th {\n",
       "        text-align: right;\n",
       "    }\n",
       "</style>\n",
       "<table border=\"1\" class=\"dataframe\">\n",
       "  <thead>\n",
       "    <tr style=\"text-align: right;\">\n",
       "      <th></th>\n",
       "      <th>Qualification</th>\n",
       "      <th>Experience</th>\n",
       "      <th>Rating</th>\n",
       "      <th>Place</th>\n",
       "      <th>Profile</th>\n",
       "      <th>Miscellaneous_Info</th>\n",
       "      <th>Fees</th>\n",
       "    </tr>\n",
       "  </thead>\n",
       "  <tbody>\n",
       "    <tr>\n",
       "      <th>0</th>\n",
       "      <td>BHMS, MD - Homeopathy</td>\n",
       "      <td>24 years experience</td>\n",
       "      <td>100%</td>\n",
       "      <td>Kakkanad, Ernakulam</td>\n",
       "      <td>Homeopath</td>\n",
       "      <td>100% 16 Feedback Kakkanad, Ernakulam</td>\n",
       "      <td>100</td>\n",
       "    </tr>\n",
       "    <tr>\n",
       "      <th>1</th>\n",
       "      <td>BAMS, MD - Ayurveda Medicine</td>\n",
       "      <td>12 years experience</td>\n",
       "      <td>98%</td>\n",
       "      <td>Whitefield, Bangalore</td>\n",
       "      <td>Ayurveda</td>\n",
       "      <td>98% 76 Feedback Whitefield, Bangalore</td>\n",
       "      <td>350</td>\n",
       "    </tr>\n",
       "    <tr>\n",
       "      <th>2</th>\n",
       "      <td>MBBS, MS - Otorhinolaryngology</td>\n",
       "      <td>9 years experience</td>\n",
       "      <td>NaN</td>\n",
       "      <td>Mathikere - BEL, Bangalore</td>\n",
       "      <td>ENT Specialist</td>\n",
       "      <td>NaN</td>\n",
       "      <td>300</td>\n",
       "    </tr>\n",
       "    <tr>\n",
       "      <th>3</th>\n",
       "      <td>BSc - Zoology, BAMS</td>\n",
       "      <td>12 years experience</td>\n",
       "      <td>NaN</td>\n",
       "      <td>Bannerghatta Road, Bangalore</td>\n",
       "      <td>Ayurveda</td>\n",
       "      <td>Bannerghatta Road, Bangalore ₹250 Available on...</td>\n",
       "      <td>250</td>\n",
       "    </tr>\n",
       "    <tr>\n",
       "      <th>4</th>\n",
       "      <td>BAMS</td>\n",
       "      <td>20 years experience</td>\n",
       "      <td>100%</td>\n",
       "      <td>Keelkattalai, Chennai</td>\n",
       "      <td>Ayurveda</td>\n",
       "      <td>100% 4 Feedback Keelkattalai, Chennai</td>\n",
       "      <td>250</td>\n",
       "    </tr>\n",
       "  </tbody>\n",
       "</table>\n",
       "</div>"
      ],
      "text/plain": [
       "                    Qualification           Experience Rating  \\\n",
       "0           BHMS, MD - Homeopathy  24 years experience   100%   \n",
       "1    BAMS, MD - Ayurveda Medicine  12 years experience    98%   \n",
       "2  MBBS, MS - Otorhinolaryngology   9 years experience    NaN   \n",
       "3             BSc - Zoology, BAMS  12 years experience    NaN   \n",
       "4                            BAMS  20 years experience   100%   \n",
       "\n",
       "                          Place         Profile  \\\n",
       "0           Kakkanad, Ernakulam       Homeopath   \n",
       "1         Whitefield, Bangalore        Ayurveda   \n",
       "2    Mathikere - BEL, Bangalore  ENT Specialist   \n",
       "3  Bannerghatta Road, Bangalore        Ayurveda   \n",
       "4         Keelkattalai, Chennai        Ayurveda   \n",
       "\n",
       "                                  Miscellaneous_Info  Fees  \n",
       "0               100% 16 Feedback Kakkanad, Ernakulam   100  \n",
       "1              98% 76 Feedback Whitefield, Bangalore   350  \n",
       "2                                                NaN   300  \n",
       "3  Bannerghatta Road, Bangalore ₹250 Available on...   250  \n",
       "4              100% 4 Feedback Keelkattalai, Chennai   250  "
      ]
     },
     "execution_count": 3,
     "metadata": {},
     "output_type": "execute_result"
    }
   ],
   "source": [
    "#seeing first five row of train data\n",
    "train.head()"
   ]
  },
  {
   "cell_type": "code",
   "execution_count": 4,
   "metadata": {},
   "outputs": [
    {
     "data": {
      "text/html": [
       "<div>\n",
       "<style scoped>\n",
       "    .dataframe tbody tr th:only-of-type {\n",
       "        vertical-align: middle;\n",
       "    }\n",
       "\n",
       "    .dataframe tbody tr th {\n",
       "        vertical-align: top;\n",
       "    }\n",
       "\n",
       "    .dataframe thead th {\n",
       "        text-align: right;\n",
       "    }\n",
       "</style>\n",
       "<table border=\"1\" class=\"dataframe\">\n",
       "  <thead>\n",
       "    <tr style=\"text-align: right;\">\n",
       "      <th></th>\n",
       "      <th>Qualification</th>\n",
       "      <th>Experience</th>\n",
       "      <th>Rating</th>\n",
       "      <th>Place</th>\n",
       "      <th>Profile</th>\n",
       "      <th>Miscellaneous_Info</th>\n",
       "    </tr>\n",
       "  </thead>\n",
       "  <tbody>\n",
       "    <tr>\n",
       "      <th>0</th>\n",
       "      <td>MBBS</td>\n",
       "      <td>35 years experience</td>\n",
       "      <td>NaN</td>\n",
       "      <td>Ghatkopar East, Mumbai</td>\n",
       "      <td>General Medicine</td>\n",
       "      <td>NaN</td>\n",
       "    </tr>\n",
       "    <tr>\n",
       "      <th>1</th>\n",
       "      <td>MBBS, Diploma in Otorhinolaryngology (DLO)</td>\n",
       "      <td>31 years experience</td>\n",
       "      <td>NaN</td>\n",
       "      <td>West Marredpally, Hyderabad</td>\n",
       "      <td>ENT Specialist</td>\n",
       "      <td>NaN</td>\n",
       "    </tr>\n",
       "    <tr>\n",
       "      <th>2</th>\n",
       "      <td>MBBS, DDVL</td>\n",
       "      <td>40 years experience</td>\n",
       "      <td>70%</td>\n",
       "      <td>KK Nagar, Chennai</td>\n",
       "      <td>Dermatologists</td>\n",
       "      <td>70% 4 Feedback KK Nagar, Chennai</td>\n",
       "    </tr>\n",
       "    <tr>\n",
       "      <th>3</th>\n",
       "      <td>BAMS</td>\n",
       "      <td>0 years experience</td>\n",
       "      <td>NaN</td>\n",
       "      <td>New Ashok Nagar, Delhi</td>\n",
       "      <td>Ayurveda</td>\n",
       "      <td>NaN</td>\n",
       "    </tr>\n",
       "    <tr>\n",
       "      <th>4</th>\n",
       "      <td>BDS, MDS - Conservative Dentistry &amp; Endodontics</td>\n",
       "      <td>16 years experience</td>\n",
       "      <td>100%</td>\n",
       "      <td>Kanakpura Road, Bangalore</td>\n",
       "      <td>Dentist</td>\n",
       "      <td>General Dentistry Conservative Dentistry Cosme...</td>\n",
       "    </tr>\n",
       "  </tbody>\n",
       "</table>\n",
       "</div>"
      ],
      "text/plain": [
       "                                     Qualification           Experience  \\\n",
       "0                                             MBBS  35 years experience   \n",
       "1       MBBS, Diploma in Otorhinolaryngology (DLO)  31 years experience   \n",
       "2                                       MBBS, DDVL  40 years experience   \n",
       "3                                             BAMS   0 years experience   \n",
       "4  BDS, MDS - Conservative Dentistry & Endodontics  16 years experience   \n",
       "\n",
       "  Rating                        Place           Profile  \\\n",
       "0    NaN       Ghatkopar East, Mumbai  General Medicine   \n",
       "1    NaN  West Marredpally, Hyderabad    ENT Specialist   \n",
       "2    70%            KK Nagar, Chennai    Dermatologists   \n",
       "3    NaN       New Ashok Nagar, Delhi          Ayurveda   \n",
       "4   100%    Kanakpura Road, Bangalore           Dentist   \n",
       "\n",
       "                                  Miscellaneous_Info  \n",
       "0                                                NaN  \n",
       "1                                                NaN  \n",
       "2                   70% 4 Feedback KK Nagar, Chennai  \n",
       "3                                                NaN  \n",
       "4  General Dentistry Conservative Dentistry Cosme...  "
      ]
     },
     "execution_count": 4,
     "metadata": {},
     "output_type": "execute_result"
    }
   ],
   "source": [
    "#seeing first five row of train data\n",
    "test.head()"
   ]
  },
  {
   "cell_type": "code",
   "execution_count": 5,
   "metadata": {},
   "outputs": [
    {
     "name": "stdout",
     "output_type": "stream",
     "text": [
      "(5961, 7)\n",
      "\n",
      "(1987, 6)\n"
     ]
    }
   ],
   "source": [
    "#lets check the shape of train and test data\n",
    "print(train.shape)\n",
    "print()\n",
    "print(test.shape)"
   ]
  },
  {
   "cell_type": "raw",
   "metadata": {},
   "source": [
    "now from here we first analyze the train data, then the same process will be repeted for test data, cause if we combined both the train and test data there will be possibilities of data leakage, so will analyze the data set individually."
   ]
  },
  {
   "cell_type": "markdown",
   "metadata": {},
   "source": [
    "# Train Data"
   ]
  },
  {
   "cell_type": "code",
   "execution_count": 6,
   "metadata": {},
   "outputs": [
    {
     "data": {
      "text/plain": [
       "Index(['Qualification', 'Experience', 'Rating', 'Place', 'Profile',\n",
       "       'Miscellaneous_Info', 'Fees'],\n",
       "      dtype='object')"
      ]
     },
     "execution_count": 6,
     "metadata": {},
     "output_type": "execute_result"
    }
   ],
   "source": [
    "#lets check the columns first\n",
    "train.columns"
   ]
  },
  {
   "cell_type": "code",
   "execution_count": 7,
   "metadata": {},
   "outputs": [
    {
     "data": {
      "text/plain": [
       "Qualification         object\n",
       "Experience            object\n",
       "Rating                object\n",
       "Place                 object\n",
       "Profile               object\n",
       "Miscellaneous_Info    object\n",
       "Fees                   int64\n",
       "dtype: object"
      ]
     },
     "execution_count": 7,
     "metadata": {},
     "output_type": "execute_result"
    }
   ],
   "source": [
    "#lets check the data types\n",
    "train.dtypes"
   ]
  },
  {
   "cell_type": "raw",
   "metadata": {},
   "source": [
    "we an observe except the Fees columns all are of Object types."
   ]
  },
  {
   "cell_type": "code",
   "execution_count": 8,
   "metadata": {},
   "outputs": [
    {
     "data": {
      "text/plain": [
       "Qualification            0\n",
       "Experience               0\n",
       "Rating                3302\n",
       "Place                   25\n",
       "Profile                  0\n",
       "Miscellaneous_Info    2620\n",
       "Fees                     0\n",
       "dtype: int64"
      ]
     },
     "execution_count": 8,
     "metadata": {},
     "output_type": "execute_result"
    }
   ],
   "source": [
    "#lets check the null value present in our data set\n",
    "train.isnull().sum()"
   ]
  },
  {
   "cell_type": "raw",
   "metadata": {},
   "source": [
    "observation:\n",
    "   ** we can observe that out of total 5961 data there is 3302 data which is null in Rating columns.\n",
    "   ** place columns having null value present 25\n",
    "   ** miscellaneous_info is having 2620 null values, lets drop this columns cause this columns doesnt has impact on my target         variable."
   ]
  },
  {
   "cell_type": "code",
   "execution_count": 9,
   "metadata": {},
   "outputs": [
    {
     "data": {
      "text/html": [
       "<div>\n",
       "<style scoped>\n",
       "    .dataframe tbody tr th:only-of-type {\n",
       "        vertical-align: middle;\n",
       "    }\n",
       "\n",
       "    .dataframe tbody tr th {\n",
       "        vertical-align: top;\n",
       "    }\n",
       "\n",
       "    .dataframe thead th {\n",
       "        text-align: right;\n",
       "    }\n",
       "</style>\n",
       "<table border=\"1\" class=\"dataframe\">\n",
       "  <thead>\n",
       "    <tr style=\"text-align: right;\">\n",
       "      <th></th>\n",
       "      <th>Qualification</th>\n",
       "      <th>Experience</th>\n",
       "      <th>Rating</th>\n",
       "      <th>Place</th>\n",
       "      <th>Profile</th>\n",
       "      <th>Fees</th>\n",
       "    </tr>\n",
       "  </thead>\n",
       "  <tbody>\n",
       "    <tr>\n",
       "      <th>0</th>\n",
       "      <td>BHMS, MD - Homeopathy</td>\n",
       "      <td>24 years experience</td>\n",
       "      <td>100%</td>\n",
       "      <td>Kakkanad, Ernakulam</td>\n",
       "      <td>Homeopath</td>\n",
       "      <td>100</td>\n",
       "    </tr>\n",
       "    <tr>\n",
       "      <th>1</th>\n",
       "      <td>BAMS, MD - Ayurveda Medicine</td>\n",
       "      <td>12 years experience</td>\n",
       "      <td>98%</td>\n",
       "      <td>Whitefield, Bangalore</td>\n",
       "      <td>Ayurveda</td>\n",
       "      <td>350</td>\n",
       "    </tr>\n",
       "    <tr>\n",
       "      <th>2</th>\n",
       "      <td>MBBS, MS - Otorhinolaryngology</td>\n",
       "      <td>9 years experience</td>\n",
       "      <td>NaN</td>\n",
       "      <td>Mathikere - BEL, Bangalore</td>\n",
       "      <td>ENT Specialist</td>\n",
       "      <td>300</td>\n",
       "    </tr>\n",
       "    <tr>\n",
       "      <th>3</th>\n",
       "      <td>BSc - Zoology, BAMS</td>\n",
       "      <td>12 years experience</td>\n",
       "      <td>NaN</td>\n",
       "      <td>Bannerghatta Road, Bangalore</td>\n",
       "      <td>Ayurveda</td>\n",
       "      <td>250</td>\n",
       "    </tr>\n",
       "    <tr>\n",
       "      <th>4</th>\n",
       "      <td>BAMS</td>\n",
       "      <td>20 years experience</td>\n",
       "      <td>100%</td>\n",
       "      <td>Keelkattalai, Chennai</td>\n",
       "      <td>Ayurveda</td>\n",
       "      <td>250</td>\n",
       "    </tr>\n",
       "    <tr>\n",
       "      <th>...</th>\n",
       "      <td>...</td>\n",
       "      <td>...</td>\n",
       "      <td>...</td>\n",
       "      <td>...</td>\n",
       "      <td>...</td>\n",
       "      <td>...</td>\n",
       "    </tr>\n",
       "    <tr>\n",
       "      <th>5956</th>\n",
       "      <td>MBBS, MS - ENT</td>\n",
       "      <td>19 years experience</td>\n",
       "      <td>98%</td>\n",
       "      <td>Basavanagudi, Bangalore</td>\n",
       "      <td>ENT Specialist</td>\n",
       "      <td>300</td>\n",
       "    </tr>\n",
       "    <tr>\n",
       "      <th>5957</th>\n",
       "      <td>MBBS</td>\n",
       "      <td>33 years experience</td>\n",
       "      <td>NaN</td>\n",
       "      <td>Nungambakkam, Chennai</td>\n",
       "      <td>General Medicine</td>\n",
       "      <td>100</td>\n",
       "    </tr>\n",
       "    <tr>\n",
       "      <th>5958</th>\n",
       "      <td>MBBS</td>\n",
       "      <td>41 years experience</td>\n",
       "      <td>97%</td>\n",
       "      <td>Greater Kailash Part 2, Delhi</td>\n",
       "      <td>General Medicine</td>\n",
       "      <td>600</td>\n",
       "    </tr>\n",
       "    <tr>\n",
       "      <th>5959</th>\n",
       "      <td>MBBS, MD - General Medicine</td>\n",
       "      <td>15 years experience</td>\n",
       "      <td>90%</td>\n",
       "      <td>Vileparle West, Mumbai</td>\n",
       "      <td>General Medicine</td>\n",
       "      <td>100</td>\n",
       "    </tr>\n",
       "    <tr>\n",
       "      <th>5960</th>\n",
       "      <td>BDS, MDS - Orthodontics</td>\n",
       "      <td>17 years experience</td>\n",
       "      <td>100%</td>\n",
       "      <td>Pitampura, Delhi</td>\n",
       "      <td>Dentist</td>\n",
       "      <td>200</td>\n",
       "    </tr>\n",
       "  </tbody>\n",
       "</table>\n",
       "<p>5961 rows × 6 columns</p>\n",
       "</div>"
      ],
      "text/plain": [
       "                       Qualification           Experience Rating  \\\n",
       "0              BHMS, MD - Homeopathy  24 years experience   100%   \n",
       "1       BAMS, MD - Ayurveda Medicine  12 years experience    98%   \n",
       "2     MBBS, MS - Otorhinolaryngology   9 years experience    NaN   \n",
       "3                BSc - Zoology, BAMS  12 years experience    NaN   \n",
       "4                               BAMS  20 years experience   100%   \n",
       "...                              ...                  ...    ...   \n",
       "5956                  MBBS, MS - ENT  19 years experience    98%   \n",
       "5957                            MBBS  33 years experience    NaN   \n",
       "5958                            MBBS  41 years experience    97%   \n",
       "5959     MBBS, MD - General Medicine  15 years experience    90%   \n",
       "5960         BDS, MDS - Orthodontics  17 years experience   100%   \n",
       "\n",
       "                              Place           Profile  Fees  \n",
       "0               Kakkanad, Ernakulam         Homeopath   100  \n",
       "1             Whitefield, Bangalore          Ayurveda   350  \n",
       "2        Mathikere - BEL, Bangalore    ENT Specialist   300  \n",
       "3      Bannerghatta Road, Bangalore          Ayurveda   250  \n",
       "4             Keelkattalai, Chennai          Ayurveda   250  \n",
       "...                             ...               ...   ...  \n",
       "5956        Basavanagudi, Bangalore    ENT Specialist   300  \n",
       "5957          Nungambakkam, Chennai  General Medicine   100  \n",
       "5958  Greater Kailash Part 2, Delhi  General Medicine   600  \n",
       "5959         Vileparle West, Mumbai  General Medicine   100  \n",
       "5960               Pitampura, Delhi           Dentist   200  \n",
       "\n",
       "[5961 rows x 6 columns]"
      ]
     },
     "execution_count": 9,
     "metadata": {},
     "output_type": "execute_result"
    }
   ],
   "source": [
    "#lets drop Miscellaneous_Info\n",
    "train.drop(columns='Miscellaneous_Info',inplace=True)\n",
    "train\n",
    "# below we can observe Miscellaneous_Info is dropped."
   ]
  },
  {
   "cell_type": "code",
   "execution_count": 10,
   "metadata": {},
   "outputs": [
    {
     "data": {
      "text/plain": [
       "Qualification    0\n",
       "Experience       0\n",
       "Rating           0\n",
       "Place            0\n",
       "Profile          0\n",
       "Fees             0\n",
       "dtype: int64"
      ]
     },
     "execution_count": 10,
     "metadata": {},
     "output_type": "execute_result"
    }
   ],
   "source": [
    "#lets fill the null value with the most frequent value\n",
    "from sklearn.impute import SimpleImputer\n",
    "imp = SimpleImputer(strategy='most_frequent')\n",
    "col=['Rating','Place']\n",
    "for i in col:\n",
    "    train[i]=imp.fit_transform(train[i].values.reshape(-1,1))\n",
    "#lets check the null value again\n",
    "train.isnull().sum()\n",
    "# we can observe there is no null value present in the dataset"
   ]
  },
  {
   "cell_type": "code",
   "execution_count": 11,
   "metadata": {},
   "outputs": [
    {
     "name": "stdout",
     "output_type": "stream",
     "text": [
      "<class 'pandas.core.frame.DataFrame'>\n",
      "RangeIndex: 5961 entries, 0 to 5960\n",
      "Data columns (total 6 columns):\n",
      " #   Column         Non-Null Count  Dtype \n",
      "---  ------         --------------  ----- \n",
      " 0   Qualification  5961 non-null   object\n",
      " 1   Experience     5961 non-null   object\n",
      " 2   Rating         5961 non-null   object\n",
      " 3   Place          5961 non-null   object\n",
      " 4   Profile        5961 non-null   object\n",
      " 5   Fees           5961 non-null   int64 \n",
      "dtypes: int64(1), object(5)\n",
      "memory usage: 279.5+ KB\n"
     ]
    }
   ],
   "source": [
    "#lets check the information about the train datasets.\n",
    "train.info()"
   ]
  },
  {
   "cell_type": "raw",
   "metadata": {},
   "source": [
    "observation:\n",
    "    1. we can observe that all the columns are object type except the fees columns.\n",
    "    2. Before going further we have to chenge the columns data types because our model doesnt undersatnd these string values."
   ]
  },
  {
   "cell_type": "markdown",
   "metadata": {},
   "source": [
    "# summay statistics"
   ]
  },
  {
   "cell_type": "code",
   "execution_count": 12,
   "metadata": {},
   "outputs": [
    {
     "data": {
      "text/html": [
       "<div>\n",
       "<style scoped>\n",
       "    .dataframe tbody tr th:only-of-type {\n",
       "        vertical-align: middle;\n",
       "    }\n",
       "\n",
       "    .dataframe tbody tr th {\n",
       "        vertical-align: top;\n",
       "    }\n",
       "\n",
       "    .dataframe thead th {\n",
       "        text-align: right;\n",
       "    }\n",
       "</style>\n",
       "<table border=\"1\" class=\"dataframe\">\n",
       "  <thead>\n",
       "    <tr style=\"text-align: right;\">\n",
       "      <th></th>\n",
       "      <th>Fees</th>\n",
       "    </tr>\n",
       "  </thead>\n",
       "  <tbody>\n",
       "    <tr>\n",
       "      <th>count</th>\n",
       "      <td>5961.000000</td>\n",
       "    </tr>\n",
       "    <tr>\n",
       "      <th>mean</th>\n",
       "      <td>307.944640</td>\n",
       "    </tr>\n",
       "    <tr>\n",
       "      <th>std</th>\n",
       "      <td>190.920373</td>\n",
       "    </tr>\n",
       "    <tr>\n",
       "      <th>min</th>\n",
       "      <td>5.000000</td>\n",
       "    </tr>\n",
       "    <tr>\n",
       "      <th>25%</th>\n",
       "      <td>150.000000</td>\n",
       "    </tr>\n",
       "    <tr>\n",
       "      <th>50%</th>\n",
       "      <td>300.000000</td>\n",
       "    </tr>\n",
       "    <tr>\n",
       "      <th>75%</th>\n",
       "      <td>500.000000</td>\n",
       "    </tr>\n",
       "    <tr>\n",
       "      <th>max</th>\n",
       "      <td>950.000000</td>\n",
       "    </tr>\n",
       "  </tbody>\n",
       "</table>\n",
       "</div>"
      ],
      "text/plain": [
       "              Fees\n",
       "count  5961.000000\n",
       "mean    307.944640\n",
       "std     190.920373\n",
       "min       5.000000\n",
       "25%     150.000000\n",
       "50%     300.000000\n",
       "75%     500.000000\n",
       "max     950.000000"
      ]
     },
     "execution_count": 12,
     "metadata": {},
     "output_type": "execute_result"
    }
   ],
   "source": [
    "train.describe()"
   ]
  },
  {
   "cell_type": "raw",
   "metadata": {},
   "source": [
    "observation:\n",
    "    1. maximum Fees charge by doctor =950\n",
    "    2. minimum fees charge by doctor =5\n",
    "    3. we can observe that there mean is greater than media so my data is right skewed.\n",
    "    4. we can also observe that there is difference in 75% and maximum so we can observe some outliers in the dataset. "
   ]
  },
  {
   "cell_type": "markdown",
   "metadata": {},
   "source": [
    "# Exploring Ctagorical columns"
   ]
  },
  {
   "cell_type": "code",
   "execution_count": 13,
   "metadata": {},
   "outputs": [
    {
     "name": "stdout",
     "output_type": "stream",
     "text": [
      "Qualification  :  ['BHMS, MD - Homeopathy' 'BAMS, MD - Ayurveda Medicine'\n",
      " 'MBBS, MS - Otorhinolaryngology' ...\n",
      " 'MD - Dermatology , Venereology & Leprosy, MBBS, Fellowship In Dermatosurgery'\n",
      " 'BDS, certification in smile designing'\n",
      " 'MD - Homeopathy, Post Graduate Diploma in Healthcare Management(PGDHM), DHMS (Diploma in Homeopathic Medicine and Surgery)']\n",
      "BDS                                                                                                              488\n",
      "BHMS                                                                                                             477\n",
      "BAMS                                                                                                             471\n",
      "MBBS                                                                                                             334\n",
      "MBBS, MS - ENT                                                                                                   220\n",
      "                                                                                                                ... \n",
      "BDS, MDS - Paedodontics And Preventive Dentistry, FAGE                                                             1\n",
      "BHMS, MD - Homeopathy, Certificate in Food and Nutrition                                                           1\n",
      "MBBS, Diploma in Dermatology & Venerology, MD - Skin & VD                                                          1\n",
      "MD - Ayurvedic Obstetrics and Gynecology, BAMS                                                                     1\n",
      "MBBS, Indian Diploma Critical Care Medicine (IDCCM), Diploma in Emergency Medicine, Diploma in Anesthesiology      1\n",
      "Name: Qualification, Length: 1420, dtype: int64\n",
      "*****************************************************************************************\n",
      "\n",
      "\n",
      "Experience  :  ['24 years experience' '12 years experience' '9 years experience'\n",
      " '20 years experience' '8 years experience' '42 years experience'\n",
      " '10 years experience' '14 years experience' '23 years experience'\n",
      " '5 years experience' '7 years experience' '21 years experience'\n",
      " '19 years experience' '41 years experience' '31 years experience'\n",
      " '25 years experience' '16 years experience' '15 years experience'\n",
      " '11 years experience' '22 years experience' '38 years experience'\n",
      " '6 years experience' '36 years experience' '13 years experience'\n",
      " '18 years experience' '46 years experience' '40 years experience'\n",
      " '49 years experience' '33 years experience' '0 years experience'\n",
      " '27 years experience' '30 years experience' '52 years experience'\n",
      " '60 years experience' '26 years experience' '35 years experience'\n",
      " '34 years experience' '39 years experience' '32 years experience'\n",
      " '17 years experience' '28 years experience' '58 years experience'\n",
      " '4 years experience' '45 years experience' '44 years experience'\n",
      " '3 years experience' '37 years experience' '50 years experience'\n",
      " '29 years experience' '43 years experience' '54 years experience'\n",
      " '66 years experience' '2 years experience' '51 years experience'\n",
      " '47 years experience' '48 years experience' '53 years experience'\n",
      " '56 years experience' '61 years experience' '59 years experience'\n",
      " '57 years experience' '55 years experience' '65 years experience'\n",
      " '64 years experience']\n",
      "9 years experience     323\n",
      "10 years experience    294\n",
      "11 years experience    288\n",
      "8 years experience     282\n",
      "12 years experience    279\n",
      "                      ... \n",
      "61 years experience      1\n",
      "59 years experience      1\n",
      "64 years experience      1\n",
      "65 years experience      1\n",
      "58 years experience      1\n",
      "Name: Experience, Length: 64, dtype: int64\n",
      "*****************************************************************************************\n",
      "\n",
      "\n",
      "Rating  :  ['100%' '98%' '99%' '79%' '95%' '97%' '94%' '88%' '90%' '80%' '93%' '36%'\n",
      " '78%' '87%' '96%' '82%' '89%' '74%' '86%' '92%' '83%' '76%' '85%' '56%'\n",
      " '91%' '68%' '60%' '75%' '69%' '73%' '67%' '77%' '33%' '55%' '71%' '84%'\n",
      " '45%' '63%' '72%' '81%' '62%' '57%' '7%' '48%' '40%' '70%' '64%' '65%'\n",
      " '47%' '58%' '53%']\n",
      "100%    3986\n",
      "98%      290\n",
      "99%      259\n",
      "97%      241\n",
      "96%      220\n",
      "95%      178\n",
      "94%      115\n",
      "93%      109\n",
      "90%       66\n",
      "92%       66\n",
      "91%       60\n",
      "89%       42\n",
      "88%       41\n",
      "85%       27\n",
      "82%       23\n",
      "83%       21\n",
      "86%       21\n",
      "80%       19\n",
      "77%       16\n",
      "87%       14\n",
      "79%       13\n",
      "84%       13\n",
      "81%       12\n",
      "67%       12\n",
      "71%        9\n",
      "76%        9\n",
      "73%        8\n",
      "75%        8\n",
      "60%        7\n",
      "74%        7\n",
      "78%        6\n",
      "56%        5\n",
      "68%        5\n",
      "69%        4\n",
      "70%        4\n",
      "72%        3\n",
      "57%        3\n",
      "62%        2\n",
      "55%        2\n",
      "33%        2\n",
      "63%        2\n",
      "64%        2\n",
      "40%        1\n",
      "45%        1\n",
      "48%        1\n",
      "53%        1\n",
      "58%        1\n",
      "36%        1\n",
      "47%        1\n",
      "65%        1\n",
      "7%         1\n",
      "Name: Rating, dtype: int64\n",
      "*****************************************************************************************\n",
      "\n",
      "\n",
      "Place  :  ['Kakkanad, Ernakulam' 'Whitefield, Bangalore'\n",
      " 'Mathikere - BEL, Bangalore' 'Bannerghatta Road, Bangalore'\n",
      " 'Keelkattalai, Chennai' 'Porur, Chennai' 'Karol Bagh, Delhi'\n",
      " 'Arekere, Bangalore' 'Old City, Hyderabad' 'Athani, Ernakulam'\n",
      " 'Thousand Lights, Chennai' 'Somajiguda, Hyderabad'\n",
      " 'Coimbatore Racecourse, Coimbatore' 'Jubilee Hills, Hyderabad'\n",
      " 'Kondli, Delhi' 'Saroor Nagar, Hyderabad' 'Tambaram West, Chennai'\n",
      " 'Purasawakkam, Chennai' 'KPHB, Hyderabad' 'HSR Layout, Bangalore'\n",
      " 'Pollachi, Coimbatore' 'Vasundhra Enclave, Delhi' 'Chembur, Mumbai'\n",
      " 'Thammanam, Ernakulam' 'Andheri, Mumbai' 'Pattom, Thiruvananthapuram'\n",
      " 'Kukatpally, Hyderabad' 'Vadavalli, Coimbatore' 'Defence Colony, Delhi'\n",
      " 'Banjara Hills, Hyderabad' 'Sion West, Mumbai' 'CR Park, Delhi'\n",
      " 'Mogappair East, Chennai' 'IP Extension, Delhi'\n",
      " 'Safdarjung Enclave, Delhi' 'New Friends Colony, Delhi'\n",
      " 'Borivali West, Mumbai' 'Saket, Delhi' 'Malad, Mumbai'\n",
      " 'Hyder Nagar, Hyderabad' 'Dahisar West, Mumbai' 'RT Nagar, Bangalore'\n",
      " 'Powai, Mumbai' 'Basheerbagh, Hyderabad' 'Musheerabad, Hyderabad'\n",
      " 'AS Rao Nagar, Hyderabad' 'Madhapur, Hyderabad' 'Gandhinagar, Hyderabad'\n",
      " 'Chetpet, Chennai' 'Vileparle East, Mumbai'\n",
      " 'Yelahanka New Town, Bangalore' 'Kodambakkam, Chennai'\n",
      " 'Malleswaram, Bangalore' 'Pallikaranai, Chennai' 'Nallakunta, Hyderabad'\n",
      " 'Paschim Vihar, Delhi' 'Meera Bagh, Delhi' 'Chattarpur, Delhi'\n",
      " 'Andheri West, Mumbai' 'Himayat Nagar, Hyderabad' 'Adambakkam, Chennai'\n",
      " 'Punjabi Bagh, Delhi' 'Mahalaxmi, Mumbai' 'Kalina, Mumbai'\n",
      " 'Attapur, Hyderabad' 'Lakdikapul, Hyderabad' 'Ambattur, Chennai'\n",
      " 'Ramnagar, Coimbatore' 'Shalimar Bagh, Delhi' 'Nungambakkam, Chennai'\n",
      " 'Miyapur, Hyderabad' 'Sagarpur, Delhi' 'Girgaon, Mumbai'\n",
      " 'Jayanagar, Bangalore' 'Palayam, Thiruvananthapuram' 'Munirka, Delhi'\n",
      " 'Tuglakabad, Delhi' 'Moosarambagh, Hyderabad' 'Anna Nagar East, Chennai'\n",
      " 'Bandra West, Mumbai' 'Kanakpura Road, Bangalore' 'Green Park, Delhi'\n",
      " 'Maduravoyal, Chennai' 'Dahisar East, Mumbai' 'Moosapet, Hyderabad'\n",
      " 'Koramangala, Bangalore' 'TV Medical College, Thiruvananthapuram'\n",
      " 'Kadavanthra, Ernakulam' 'Greams Road, Chennai' 'Bommanahalli, Bangalore'\n",
      " 'T Nagar, Chennai' 'Yelahanka, Bangalore' 'Hazrat Nizamuddin, Delhi'\n",
      " 'Old Rajendra Nagar, Delhi' 'Dadar West, Mumbai' 'Indiranagar, Bangalore'\n",
      " 'Perumbakkam, Chennai' 'Shaikpet, Hyderabad' 'Vyttila, Ernakulam'\n",
      " 'Khar West, Mumbai' 'Goregaon West, Mumbai' 'Bakkarwala, Delhi'\n",
      " 'Nesapakkam, Chennai' 'BTM Layout 2nd Stage, Bangalore'\n",
      " 'Ashok Nagar, Chennai' 'Chandivali, Mumbai' 'Uttam Nagar, Delhi'\n",
      " 'Gujranwala Town, Delhi' 'Greater Kailash Part 1, Delhi'\n",
      " 'Panchsheel Park, Delhi' 'Thoraipakkam, Chennai'\n",
      " 'South Extension 2, Delhi' 'Kandivali East, Mumbai' 'Pitampura, Delhi'\n",
      " 'Banashankari 3rd Stage, Bangalore' 'Kolenchery, Ernakulam'\n",
      " 'Kumaraswamy Layout, Bangalore' 'Vadapalani, Chennai'\n",
      " 'Manikonda, Hyderabad' 'Gandhipuram, Coimbatore'\n",
      " 'Yeshwanthpur, Bangalore' 'Ayanavaram, Chennai'\n",
      " 'Basaveshwaranagar, Bangalore' 'Malad West, Mumbai' 'Vikas Puri, Delhi'\n",
      " 'Kondapur, Hyderabad' 'Andheri East, Mumbai' 'Sulur, Coimbatore'\n",
      " 'Adyar, Chennai' 'Krishna Nagar, Delhi' 'Langer House, Hyderabad'\n",
      " 'Thiruvanmiyur, Chennai' 'Dwarka, Delhi' 'Bhandup West, Mumbai'\n",
      " 'Janak Puri, Delhi' 'Rajajinagar, Bangalore' 'South Extension 1, Delhi'\n",
      " 'Kemps Corner, Mumbai' 'Peelamedu, Coimbatore' 'Kandivali West, Mumbai'\n",
      " 'Thevara, Ernakulam' 'Wilson Garden, Bangalore' 'Wadala, Mumbai'\n",
      " 'Pahar Ganj, Delhi' 'Chanchalguda, Hyderabad' 'Chikkadpally, Hyderabad'\n",
      " 'Pasur-avanashi, Coimbatore' 'Nagarbhavi, Bangalore'\n",
      " 'Lajpat Nagar, Delhi' 'Mayur Vihar Ph-I, Delhi' 'Dilshad Garden, Delhi'\n",
      " 'Vijayanagar, Bangalore' 'Alwarpet, Chennai'\n",
      " 'Pappanamcode, Thiruvananthapuram' 'Aluva, Ernakulam'\n",
      " 'Nariman Point, Mumbai' 'Kilkattalai, Chennai' 'Dilsukhnagar, Hyderabad'\n",
      " 'Kurla West, Mumbai' 'Begumpet, Hyderabad' 'Kaloor, Ernakulam'\n",
      " 'Hitech City, Hyderabad' 'Goregaon East, Mumbai'\n",
      " 'Velandipalayam, Coimbatore' 'Ghatkopar East, Mumbai'\n",
      " 'Mulund West, Mumbai' 'Yousufguda, Hyderabad' 'Ghatkopar West, Mumbai'\n",
      " 'TVM Beach, Thiruvananthapuram' 'Vanagaram, Chennai' 'Worli, Mumbai'\n",
      " 'Koramangala 1 Block, Bangalore' 'Saki Vihar Road, Mumbai'\n",
      " 'Versova, Mumbai' 'CV Raman Nagar, Bangalore' 'Secunderabad, Hyderabad'\n",
      " 'BTM Layout 1st Stage, Bangalore' 'Ramkoti, Hyderabad'\n",
      " 'MRC Nagar, Chennai' 'Malkajgiri, Hyderabad' 'Gachibowli, Hyderabad'\n",
      " 'Mogappair West, Chennai' 'Mayur Vihar Ph-III, Delhi'\n",
      " 'Kurla East, Mumbai' 'Ashok Vihar, Delhi' 'Mahim, Mumbai'\n",
      " 'Villivakkam, Chennai' 'Srinagar Colony, Hyderabad' 'Chromepet, Chennai'\n",
      " 'Pammal, Chennai' 'Banashankari, Bangalore' 'Velachery, Chennai'\n",
      " 'Chanakyapuri, Delhi' 'Kalyan Nagar, Bangalore' 'Oshiwara, Mumbai'\n",
      " 'Karapakkam, Chennai' 'Borivali, Mumbai' 'Mylapore, Chennai'\n",
      " 'Electronics City, Bangalore' 'Perungudi, Chennai'\n",
      " 'Basavanagudi, Bangalore' 'MG Road, Bangalore' 'Thiruvottiyur, Chennai'\n",
      " 'Greater Kailash Part 2, Delhi' 'Bilekahalli, Bangalore'\n",
      " 'Nanganallur, Chennai' 'Rohini, Delhi' 'Thrikkakara, Ernakulam'\n",
      " 'Manapakkam, Chennai' 'Bellandur, Bangalore' 'Ameerpet, Hyderabad'\n",
      " 'Thiruvallom, Thiruvananthapuram' 'R.S. Puram, Coimbatore'\n",
      " 'Kumarapuram, Thiruvananthapuram' 'Palam Colony, Delhi' 'Manali, Chennai'\n",
      " 'Valasaravakkam, Chennai' 'Barkatpura, Hyderabad'\n",
      " 'Singanallur, Coimbatore' 'Mulund, Mumbai' 'Dadar East, Mumbai'\n",
      " 'Borabanda, Hyderabad' 'Model Town 3, Delhi' 'Ulsoor, Bangalore'\n",
      " 'Bhayandar West, Mumbai' 'Hari Nagar, Delhi' 'Horamavu, Bangalore'\n",
      " 'Santacruz East, Mumbai' 'OMR Road, Chennai' 'Kammana Halli, Bangalore'\n",
      " 'Tilak Nagar, Delhi' 'Panathur, Bangalore'\n",
      " 'Rajarajeshwarinagar, Bangalore' 'Paravur, Ernakulam'\n",
      " 'Preet Vihar, Delhi' 'Chembur East, Mumbai' 'Jakkur, Bangalore'\n",
      " 'Vanasthalipuram, Hyderabad' 'Mandaveli, Chennai'\n",
      " 'Kumara Park West, Bangalore' 'Domlur, Bangalore'\n",
      " 'Jeevanbhimanagar, Bangalore' 'Santacruz West, Mumbai'\n",
      " 'Shankar Vihar, Delhi' 'Jogeshwari East, Mumbai'\n",
      " 'Kasavanahalli, Bangalore' 'Ambalamukku, Thiruvananthapuram'\n",
      " 'Jhilmil Colony, Delhi' 'Dwarka Sector 7, Delhi' 'Tatabad, Coimbatore'\n",
      " 'Marine Lines, Mumbai' 'Tolichowki, Hyderabad' 'Sundarapuram, Coimbatore'\n",
      " 'Kothanur, Bangalore' 'Chinmaya Nagar, Chennai' 'Vasant Vihar, Delhi'\n",
      " 'Mehdipatnam, Hyderabad' 'Kadugodi, Bangalore' 'Ganapathy, Coimbatore'\n",
      " 'SR Nagar, Hyderabad' 'Perambur, Chennai' 'Opera House, Mumbai'\n",
      " 'Selvapuram, Coimbatore' 'Karkardooma, Delhi' 'Alwarthirunagar, Chennai'\n",
      " 'KR Puram, Bangalore' 'Ramesh Nagar, Delhi' 'Malakpet, Hyderabad'\n",
      " 'Tondiarpet, Chennai' 'Vikrampuri Colony, Hyderabad'\n",
      " 'Besant Nagar, Chennai' 'Vasant Kunj, Delhi' 'Banaswadi, Bangalore'\n",
      " 'BTM Layout, Bangalore' 'Medavakkam, Chennai' 'Vileparle West, Mumbai'\n",
      " 'Sahakaranagar, Bangalore' 'LB Nagar, Hyderabad' 'Punjagutta, Hyderabad'\n",
      " 'Yamuna Vihar, Delhi' 'Marathahalli, Bangalore'\n",
      " 'JP Nagar 2 Phase, Bangalore' 'Rani Bagh, Delhi' 'Jayamahal, Bangalore'\n",
      " 'Nagpada, Mumbai' 'Kundalahalli, Bangalore' 'Kailash Colony, Delhi'\n",
      " 'Pandav Nagar, Delhi' 'Karkhana, Hyderabad' 'West Mambalam, Chennai'\n",
      " 'Aminjikarai, Chennai' 'Madipakkam, Chennai' 'Charkop, Mumbai'\n",
      " 'Adarsh Nagar, Delhi' 'Dadar, Mumbai' 'Kaggadasapura, Bangalore'\n",
      " 'Matunga, Mumbai' 'Sun city, Hyderabad' 'Mahadevapura, Bangalore'\n",
      " 'Kalady, Ernakulam' 'Anna Nagar West, Chennai' 'Mayur Vihar Ph-II, Delhi'\n",
      " 'Tis Hazari, Delhi' 'Vennala, Ernakulam' 'Mira Road, Mumbai'\n",
      " 'Alwal, Hyderabad' 'Trimulgherry, Hyderabad'\n",
      " 'Raja Annamalai Puram, Chennai' 'JP Nagar 7 Phase, Bangalore'\n",
      " 'Old Bowenpally, Hyderabad' 'Santosh Nagar, Hyderabad'\n",
      " 'Hope College, Coimbatore' 'Mulund East, Mumbai' 'Mount Road, Chennai'\n",
      " 'Patel Nagar West, Delhi' 'Jayanagar 4 Block, Bangalore'\n",
      " 'West Marredpally, Hyderabad' 'Jagriti Enclave, Delhi'\n",
      " 'Sarita Vihar, Delhi' 'Rajendra Nagar, Hyderabad'\n",
      " 'Thudiyalur, Coimbatore' 'Bhayandar East, Mumbai'\n",
      " 'Narayanguda, Hyderabad' 'Kothapet, Hyderabad' 'KK Nagar, Chennai'\n",
      " 'Tripunithura, Ernakulam' 'Model Town, Delhi'\n",
      " 'Suchitra Circle, Hyderabad' 'Pusa Road, Delhi'\n",
      " 'Vijaynagar Colony, Hyderabad' 'Alandur, Chennai' 'Cuffe Parade, Mumbai'\n",
      " 'Kalkaji, Delhi' 'Saibaba Colony, Coimbatore'\n",
      " 'Kattakada, Thiruvananthapuram' 'Jogeshwari West, Mumbai'\n",
      " 'Erragadda, Hyderabad' 'Tilak Nagar, Hyderabad' 'Edapally, Ernakulam'\n",
      " 'Patparganj, Delhi' 'Sainikpuri, Hyderabad' 'Nanjundapuram, Coimbatore'\n",
      " 'Nizampet, Hyderabad' 'Kolathur, Chennai' 'Chamarajpet, Bangalore'\n",
      " 'Kala Ghoda, Mumbai' 'Padmarao Nagar, Hyderabad' 'Uppal, Hyderabad'\n",
      " 'Guduvanchery, Chennai' 'Satya Niketan, Delhi' 'Chanda Nagar, Hyderabad'\n",
      " 'Sowripalayam, Coimbatore' 'Vikhroli West, Mumbai'\n",
      " 'Rajouri Garden, Delhi' 'Alaknanda, Delhi' 'Millers Road, Bangalore'\n",
      " 'Kandanchavadi, Chennai' 'Vigyan Vihar, Delhi' 'Bandra East, Mumbai'\n",
      " 'Vilankurichi, Coimbatore' 'Malad East, Mumbai' 'Prabhadevi, Mumbai'\n",
      " 'Ulloor, Thiruvananthapuram' 'Rajakilpakkam, Chennai'\n",
      " 'Greater Kailash, Delhi' 'Madinaguda, Hyderabad' 'Borivali East, Mumbai'\n",
      " 'Juhu, Mumbai' 'Mugalivakkam, Chennai' 'Hebbal, Bangalore'\n",
      " 'Kirti Nagar, Delhi' 'Balaramapuram, Thiruvananthapuram'\n",
      " 'Bhandup East, Mumbai' 'VV Puram, Bangalore' 'Kilpauk, Chennai'\n",
      " 'Jacob Circle, Mumbai' 'Singasandra, Bangalore' 'Khairatabad, Hyderabad'\n",
      " 'Coimbatore Aerodrome, Coimbatore' 'J.C Nagar, Bangalore'\n",
      " 'Naraina Vihar, Delhi' 'Virugambakkam, Chennai' 'RK Puram, Delhi'\n",
      " 'Banashankari 1st Stage, Bangalore' 'Lajpat Nagar 4, Delhi'\n",
      " 'Jayanagar 5 Block, Bangalore' 'Kalyanpuri, Hyderabad'\n",
      " 'Tambaram, Chennai' 'Laxmi Nagar, Delhi' 'Anand Vihar, Delhi'\n",
      " 'Charni Road, Mumbai' 'Patel Nagar East, Delhi'\n",
      " 'Jayanagar 9 Block, Bangalore' 'Ecil, Hyderabad'\n",
      " 'Ramamurthy Nagar, Bangalore' 'Raj Nagar - 2, Delhi'\n",
      " 'Chunabhatti, Mumbai' 'Vikhroli East, Mumbai' 'Shakarpur, Delhi'\n",
      " 'Shahdara, Delhi' 'Govandi, Mumbai' 'Mira Bhayandar, Mumbai'\n",
      " 'Doddanekundi, Bangalore' 'Madhu Vihar, Delhi' 'Guindy, Chennai'\n",
      " 'Palarivattom, Ernakulam' 'Charminar, Hyderabad'\n",
      " 'Old Airport Road, Bangalore' 'Sarjapur Road, Bangalore' 'Okhla, Delhi'\n",
      " 'Baghlingampally, Hyderabad' 'Trombay, Mumbai' 'HRBR Layout, Bangalore'\n",
      " 'Fort, Mumbai' 'Shastri Nagar, Delhi' 'Red Hills, Chennai'\n",
      " 'New BEL Road, Bangalore' 'Park Town, Chennai' 'Frazer Town, Bangalore'\n",
      " 'Falaknuma, Hyderabad' 'Rohini Sector 7, Delhi' 'East Of Kailash, Delhi'\n",
      " 'Chintadripet, Chennai' 'Tagore Garden, Delhi' 'Tri Nagar, Delhi'\n",
      " 'Muttada, Thiruvananthapuram' 'Munnekollal, Bangalore'\n",
      " 'TV Museum, Thiruvananthapuram' 'Shivalik, Delhi' 'Neb Sarai, Delhi'\n",
      " 'Mahalakshmi Layout, Bangalore' 'Mankhurd, Mumbai' 'Kamla Nagar, Delhi'\n",
      " 'Saravanampatti, Coimbatore' 'Selaiyur, Chennai' 'Saligramam, Chennai'\n",
      " 'Thirumullaivoyal, Chennai' 'Teynampet, Chennai' 'Kochi, Ernakulam'\n",
      " 'Vidyaranyapura, Bangalore' 'Mogappair, Chennai' 'Mazgaon, Mumbai'\n",
      " 'Shivaji Nagar, Bangalore' 'Jangpura, Delhi'\n",
      " 'Kaudiar Square, Thiruvananthapuram' 'Arumbakkam, Chennai'\n",
      " 'Cherai, Ernakulam' 'Mira-Bhayandar Road, Mumbai' 'Ram Nagar, Delhi'\n",
      " 'Parel, Mumbai' 'Thanisandra, Bangalore' 'Pragathi Nagar, Hyderabad'\n",
      " 'Karamana, Thiruvananthapuram' 'AECS Layout, Bangalore'\n",
      " 'Nizamuddin East, Delhi' 'Ramanathapuram, Coimbatore'\n",
      " 'Anna Nagar, Chennai' 'Shenoy Nagar, Chennai' 'Siddhapudur, Coimbatore'\n",
      " 'Keshav Puram, Delhi' 'Edakochi, Ernakulam' 'Nagawara, Bangalore'\n",
      " 'Chintal, Hyderabad' 'Malviya Nagar, Delhi' 'Karwan, Hyderabad'\n",
      " 'Vazhakulam, Ernakulam' 'PMG Jn, Thiruvananthapuram'\n",
      " 'Dwarka Sector 6, Delhi' 'Viveknagar, Bangalore' 'Balapur, Hyderabad'\n",
      " 'Banashankari 2nd Stage, Bangalore' 'Azadpur, Delhi' 'Moti Nagar, Delhi'\n",
      " 'Sakinaka, Mumbai' 'Thoppumpady, Ernakulam' 'Sanath Nagar, Hyderabad'\n",
      " 'Royapettah, Chennai' 'Koramangala 5 Block, Bangalore'\n",
      " 'Kanjurmarg, Mumbai' 'Ernakulam College, Ernakulam' 'Urapakkam, Chennai'\n",
      " 'Coimbatore Ukkadam, Coimbatore' 'Sreekaryam, Thiruvananthapuram'\n",
      " 'Ernakulam North, Ernakulam' 'Sultanpur, Delhi' 'Banerji Road, Ernakulam'\n",
      " 'Balkampet, Hyderabad' 'Kavundampalayam, Coimbatore'\n",
      " 'Kanchanbagh, Hyderabad' 'Patel Nagar, Delhi' 'Kilokri, Delhi'\n",
      " 'Hoodi, Bangalore' 'New Seemapuri, Delhi' 'Seshadripuram, Bangalore'\n",
      " 'Vijaynagar, Delhi' 'Bowenpally, Hyderabad' 'Ondipudur, Coimbatore'\n",
      " 'Triplicane, Chennai' 'Richmond Town, Bangalore'\n",
      " 'New Rajendra Nagar, Delhi' 'Jahangirpuri, Delhi' 'Vivek Vihar, Delhi'\n",
      " 'Malleshpalya, Bangalore' 'Pezhakkappilly, Ernakulam'\n",
      " 'Lingampally, Hyderabad' 'Jamia Nagar, Delhi' 'Begum Bazar, Hyderabad'\n",
      " 'Lower Parel, Mumbai' 'ECR Road, Chennai' 'Nangloi, Delhi'\n",
      " 'Chintalmet, Hyderabad' 'West Of Chord Road, Bangalore' 'SV Road, Mumbai'\n",
      " 'JP Nagar 5 Phase, Bangalore' 'Sanjay Nagar, Bangalore'\n",
      " 'Panampilly Nagar, Ernakulam' 'Dharavi, Mumbai' 'Abbigere, Bangalore'\n",
      " 'Manacaud, Thiruvananthapuram' 'Poonamalle, Chennai' 'Najafgarh, Delhi'\n",
      " 'Uttarahalli, Bangalore' 'Sembakkam, Chennai' 'Tarnaka, Hyderabad'\n",
      " 'Nandanam, Chennai' 'Saidapet, Chennai' 'Choolaimedu, Chennai'\n",
      " 'Perungalathur, Chennai' 'Gulabi Bagh, Delhi' 'Jasola, Delhi'\n",
      " 'JP Nagar 3 Phase, Bangalore' 'Uppilipalayam, Coimbatore'\n",
      " 'Sadashivanagar, Bangalore' 'Rohini Sector 24, Delhi'\n",
      " 'Muvattupuzha, Ernakulam' 'Khan Market, Delhi' 'Abids, Hyderabad'\n",
      " 'Geeta Colony, Delhi' 'Madandapuram, Chennai' 'Dwarka Sector 22, Delhi'\n",
      " 'Grant Road, Mumbai' 'Jeedimetla, Hyderabad' 'Tambaram East, Chennai'\n",
      " 'Kothaguda, Hyderabad' 'Hauz Khas, Delhi' 'Habsiguda, Hyderabad'\n",
      " 'Breach Candy, Mumbai' 'Vidyanagar, Bangalore' 'Begur, Bangalore'\n",
      " 'Dahisar, Mumbai' 'Pachalam, Ernakulam' 'Perumbavoor, Ernakulam'\n",
      " 'Avadi, Chennai' 'Coimbatore Central, Coimbatore' 'Lokhandwala, Mumbai'\n",
      " 'Tiruvottiyur, Chennai' 'Ullal Upanagara, Bangalore'\n",
      " 'Perurkada, Thiruvananthapuram' 'Ashok Vihar Phase 3, Delhi'\n",
      " 'Walkeshwar, Mumbai' 'Saidabad, Hyderabad'\n",
      " 'Koramangala 6 Block, Bangalore' 'New Ashok Nagar, Delhi'\n",
      " 'Peddar Road, Mumbai' 'Aya Nagar, Delhi' 'JP Nagar, Bangalore'\n",
      " 'Sasthamangalam, Thiruvananthapuram' 'Yakutpura, Hyderabad'\n",
      " 'Sampangiramnagar, Bangalore' 'Kasturi nagar, Bangalore'\n",
      " 'Pallavaram, Chennai' 'Moti Bagh, Delhi' 'Mukherjee Nagar, Delhi'\n",
      " 'Byculla, Mumbai' 'Peeragarhi, Delhi' 'Amberpet, Hyderabad'\n",
      " 'JP Nagar 6 Phase, Bangalore' 'Sholinganallur, Chennai'\n",
      " 'Langford Road, Bangalore' 'Cumballa Hill, Mumbai' 'Colaba, Mumbai'\n",
      " 'Qutab Institutional Area, Delhi' 'Dommasandra, Bangalore'\n",
      " 'Malabar Hill, Mumbai' 'Koramangala 8 Block, Bangalore'\n",
      " 'Rohini Sector 22, Delhi' 'Lothkunta, Hyderabad'\n",
      " 'HAL 2nd Stage, Bangalore' 'Jayanagar 7 Block, Bangalore'\n",
      " 'Vadasserikonam, Thiruvananthapuram' 'East Marredpally, Hyderabad'\n",
      " 'Kelambakkam, Chennai' 'Chinchpokli, Mumbai' 'Delhi Cantt, Delhi'\n",
      " 'Padmanabhanagar, Bangalore' 'Sheikh Sarai, Delhi'\n",
      " 'Washermenpet, Chennai' 'Konanakunte, Bangalore'\n",
      " 'Ashok Vihar Phase 1, Delhi' 'Thirumala, Thiruvananthapuram'\n",
      " 'Sarjapura, Bangalore' 'JP Nagar 1 Phase, Bangalore' 'JB Nagar, Mumbai'\n",
      " 'Paruthippara, Thiruvananthapuram' 'Vikhroli, Mumbai'\n",
      " 'JP Nagar 8 Phase, Bangalore' 'GTB Nagar, Delhi' 'Vidyanagar, Hyderabad'\n",
      " 'Masab Tank, Hyderabad' 'Hafeezpet, Hyderabad' 'Jeevan Park, Delhi'\n",
      " 'Dwarka Sector 5, Delhi' 'Civil Lines, Delhi' 'Anand Niketan, Delhi'\n",
      " 'Pappanaickenpalayam, Coimbatore' 'Koovappady, Ernakulam'\n",
      " 'Dwarka, Sector 5, Delhi' 'Srirampuram, Bangalore' 'Korattur, Chennai'\n",
      " 'Pappanaickenpudur, Coimbatore' 'Gandhi Nagar, Delhi'\n",
      " 'Vignan Nagar, Bangalore' 'Ganganagar, Bangalore' 'Elamakkara, Ernakulam'\n",
      " 'Boduppal, Hyderabad' 'Tilak Nagar, Mumbai' 'Khetwadi, Mumbai'\n",
      " 'Kengeri, Bangalore' 'Sion East, Mumbai' 'Rohini Sector 6, Delhi'\n",
      " 'Kazhakuttam, Thiruvananthapuram' 'Goregaon, Mumbai'\n",
      " 'Peroor, Thiruvananthapuram' 'New Thippasandra, Bangalore'\n",
      " 'Jalahalli, Bangalore' 'King Koti, Hyderabad'\n",
      " 'Kallambalam, Thiruvananthapuram' 'Dwarka Sector 13, Delhi'\n",
      " 'Residency Road, Bangalore' 'Radhakrishnan Salai, Chennai'\n",
      " 'Hulimavu, Bangalore' 'Dasarahalli, Bangalore' 'Vileparle, Mumbai'\n",
      " 'Delhi, Delhi' 'Kachiguda, Hyderabad' 'Venkitapuram, Coimbatore'\n",
      " 'Kuniamuthur, Coimbatore' 'TV Chalai, Thiruvananthapuram'\n",
      " 'Serilingampally, Hyderabad' 'RMV 2nd Stage, Bangalore'\n",
      " 'Champapet, Hyderabad' 'Surya Niketan, Delhi' 'Kovilpalayam, Coimbatore'\n",
      " 'Nampally, Hyderabad' 'Siddapura, Bangalore' 'Neredmet, Hyderabad'\n",
      " 'Vellakinar, Coimbatore' 'Egmore, Chennai' 'Katwaria Sarai, Delhi'\n",
      " 'Navalur, Chennai' 'Mehrauli, Delhi' 'HBR Layout, Bangalore'\n",
      " 'Subhash Nagar, Delhi' 'Mallepally, Hyderabad' 'Eroor South, Ernakulam'\n",
      " 'Lajpat Nagar III, Delhi' 'Kodungaiyur, Chennai'\n",
      " 'Kuppakonanpudur, Coimbatore' 'Paradise, Hyderabad'\n",
      " 'Rohini Sector 4, Delhi' 'Koramangala 4 Block, Bangalore'\n",
      " 'Dwarka Sector 3, Delhi' 'Durga Puri, Delhi' 'Kalamassery, Ernakulam'\n",
      " 'Gulmohar Park, Delhi' 'Adugodi, Bangalore' 'Moti Nagar, Hyderabad'\n",
      " 'Nallagandla, Hyderabad' 'Gowrivakkam, Chennai' 'Periyar Nagar, Chennai'\n",
      " 'Austin Town, Bangalore' 'Afzalgunj, Hyderabad'\n",
      " 'Cotton Hill, Thiruvananthapuram' 'Goldwins, Coimbatore'\n",
      " 'Kuravankonam, Thiruvananthapuram' 'Rohini Sector 3, Delhi'\n",
      " 'Lado Sarai, Delhi' 'Koramangala 2 Block, Bangalore' 'Madangir, Delhi'\n",
      " 'Marine Drive, Mumbai' 'Marine Drive, Ernakulam' 'Angamaly, Ernakulam'\n",
      " 'Neelankarai, Chennai' 'Churchgate, Mumbai' 'Kalapatti, Coimbatore'\n",
      " 'Nand Nagri, Delhi' 'Kandivali, Mumbai' 'Madanpura, Mumbai'\n",
      " 'Hegde Nagar, Bangalore' 'Domalguda, Hyderabad' 'Mumbai Central, Mumbai'\n",
      " 'Vasanthnagar, Bangalore' 'Kapashera, Delhi' 'August Kranti Marg, Delhi'\n",
      " 'Krishna Nagar, Hyderabad' 'Lal baug, Mumbai'\n",
      " 'Perumathura, Thiruvananthapuram' 'Molarband, Delhi' 'Piravom, Ernakulam'\n",
      " 'Neeti Bagh, Delhi' 'Kishanbagh, Hyderabad' 'Shantinagar, Bangalore'\n",
      " 'Poojapura, Thiruvananthapuram' 'Rathinapuri, Coimbatore'\n",
      " 'Model Town 1, Delhi' 'Koothattukulam, Ernakulam' 'Anand Lok, Delhi'\n",
      " 'Pappanaickenpalayam West, Coimbatore' 'Subzi Mandi, Delhi'\n",
      " 'Sion, Mumbai' 'Nagole, Hyderabad' 'TVM Pettah, Thiruvananthapuram'\n",
      " 'Changampuzha Nagar, Ernakulam' 'Puzhal, Chennai'\n",
      " 'Vanchiyur, Thiruvananthapuram' 'Sukh Vihar, Delhi'\n",
      " 'Kovalam, Thiruvananthapuram' 'Swasthya Vihar, Delhi' 'Tardeo, Mumbai'\n",
      " 'Vishnu Garden, Delhi' 'Jayanagar 1 Block, Bangalore'\n",
      " 'Sion Koliwada, Mumbai' 'Marol, Mumbai' 'Kalkere, Bangalore'\n",
      " 'Sindhi Colony, Hyderabad' 'Silampur, Delhi' 'Varthur, Bangalore'\n",
      " 'Model Town 2, Delhi' 'Surajmal Vihar, Delhi' 'Chandni Chowk, Delhi'\n",
      " 'Veerakeralam, Coimbatore' 'T Dasarahalli, Bangalore'\n",
      " 'Kaggalipura, Bangalore' 'Thonnakkal, Thiruvananthapuram'\n",
      " 'Manjapra, Ernakulam' 'Yellareddyguda, Hyderabad'\n",
      " 'Kovilambakkam, Chennai' 'Broadway, Chennai' 'Podanur, Coimbatore'\n",
      " 'Kompally, Hyderabad' 'Kottivakkam, Chennai' 'Mansarover Garden, Delhi'\n",
      " 'Mandapeshwar, Mumbai' 'Rohini Sector 15, Delhi' 'Vaduthala, Ernakulam'\n",
      " 'Hebbal Kempapura, Bangalore' 'Sithalapakkam, Chennai'\n",
      " 'MKB Nagar, Chennai' 'MG Road, Hyderabad' 'Darya Ganj, Delhi'\n",
      " 'Venjaramoodu, Thiruvananthapuram' 'Kotturpuram, Chennai'\n",
      " 'Ramapuram, Chennai' 'Karmanghat, Hyderabad' 'Moula Ali, Hyderabad'\n",
      " 'Netaji Nagar, Delhi' 'Chandra Layout, Bangalore'\n",
      " 'Akshaya nagar, Bangalore' 'Nirman Vihar, Delhi' 'Vasant Enclave, Delhi'\n",
      " 'St Thomas Mount, Chennai' 'Royapuram, Chennai' 'Abhiramapuram, Chennai'\n",
      " 'Inder Puri, Delhi' 'Edayarpalayam, Coimbatore' 'Deoli, Delhi'\n",
      " 'Mulanthuruthy, Ernakulam' 'Sukhdev Vihar, Delhi' 'e'\n",
      " 'Kothamangalam, Ernakulam' 'Harlur, Bangalore' 'Bolarum, Hyderabad'\n",
      " 'Richards Town, Bangalore' 'Narela, Delhi' 'Nehru Place, Delhi'\n",
      " 'Ramanthapur, Hyderabad' 'Bali Nagar, Delhi' 'Palavakkam, Chennai'\n",
      " 'Balanagar, Hyderabad' 'Hyderguda, Hyderabad' 'Cherannagar, Coimbatore'\n",
      " 'Rohini Sector 11, Delhi' 'Dwarka Sector 4, Delhi'\n",
      " 'Palluruthy, Ernakulam' 'Vizhinjam, Thiruvananthapuram'\n",
      " 'Santacruz, Mumbai' 'Ganesh Nagar, Delhi' 'Vengal Rao Nagar, Hyderabad'\n",
      " 'Deonar, Mumbai' 'Edapally North, Ernakulam' 'Red Hills, Hyderabad'\n",
      " 'IDA Jeedimetla, Hyderabad' 'Mettupalayam, Coimbatore'\n",
      " 'Hayathnagar, Hyderabad' 'Kakkanad West, Ernakulam'\n",
      " 'Khajaguda, Hyderabad' 'Rohini Sector 5, Delhi' 'Saraswati Vihar, Delhi'\n",
      " 'Kingsway Camp, Delhi' 'Ramamangalam, Ernakulam' 'Indirapuram, Delhi'\n",
      " 'Parassala, Thiruvananthapuram' 'Connaught Place, Delhi'\n",
      " 'Gottigerre, Bangalore' 'Shivrampally, Hyderabad' 'Vyasarpadi, Chennai'\n",
      " 'Kovaipudur, Coimbatore' 'Vallakkadavoo, Thiruvananthapuram'\n",
      " 'Kattupakkam, Chennai' 'Nellimoodu, Thiruvananthapuram'\n",
      " 'Pondy Bazaar, Chennai' 'Prashant Vihar, Delhi' 'Chullickal, Ernakulam'\n",
      " 'Murugeshpalya, Bangalore' 'Khanpur, Delhi' 'Madiwala, Bangalore'\n",
      " 'Dwarka Sector 23, Delhi' 'Badarpur, Delhi' 'Peyad, Thiruvananthapuram'\n",
      " 'Gandhi Nagar, Chennai' 'Uday Park, Delhi' 'Bandlaguda, Hyderabad'\n",
      " 'Karukappilli, Ernakulam' 'Rana Pratap Bagh, Delhi'\n",
      " 'Kochi M.G.Road, Ernakulam' 'Gopalapuram, Chennai'\n",
      " 'Puthenvelikkara, Ernakulam' 'Sowcarpet, Chennai' 'Chitlapakkam, Chennai'\n",
      " 'Malumichampatti, Coimbatore' 'Rohini Sector 8, Delhi'\n",
      " 'Rohini Sector 2, Delhi' 'Ram Nagar, Hyderabad' 'Dwarka Sector 10, Delhi'\n",
      " 'Agaram, Chennai' 'Poovachal, Thiruvananthapuram' 'Shanti Niketan, Delhi'\n",
      " 'Pothencode, Thiruvananthapuram' 'Dickenson Road, Bangalore'\n",
      " 'RTC X Road, Hyderabad' 'Film Nagar, Hyderabad' 'Lodhi Colony, Delhi'\n",
      " 'SG Palya (Kormangla), Bangalore' 'Palkulangara, Thiruvananthapuram'\n",
      " 'Mahalingapuram, Chennai' 'Matunga West, Mumbai' 'Nettoor, Ernakulam'\n",
      " 'Rani Khera, Delhi' 'Beeramguda, Hyderabad' 'Ramachandrapuram, Hyderabad'\n",
      " 'Neyyattinkara Town, Thiruvananthapuram' 'Gorai, Mumbai'\n",
      " 'Jayanagar 3 Block, Bangalore' 'Shakti Nagar, Delhi'\n",
      " 'Sangam Vihar, Delhi' 'Shakurpur, Delhi' 'Chaitanyapuri, Hyderabad'\n",
      " 'TVM Fort, Thiruvananthapuram' 'JP Nagar 4 Phase, Bangalore'\n",
      " 'Nayandahalli, Bangalore' 'Valiathura, Thiruvananthapuram'\n",
      " 'Kowdiar, Thiruvananthapuram' 'Cunningham Road, Bangalore'\n",
      " 'Hennur, Bangalore' 'Peenya, Bangalore' 'Pattimattam, Ernakulam'\n",
      " 'HAL, Bangalore']\n",
      "HSR Layout, Bangalore                100\n",
      "Andheri West, Mumbai                  70\n",
      "Dwarka, Delhi                         67\n",
      "Banjara Hills, Hyderabad              64\n",
      "Mulund West, Mumbai                   54\n",
      "                                    ... \n",
      "Surya Niketan, Delhi                   1\n",
      "Karmanghat, Hyderabad                  1\n",
      "Balaramapuram, Thiruvananthapuram      1\n",
      "e                                      1\n",
      "HAL, Bangalore                         1\n",
      "Name: Place, Length: 877, dtype: int64\n",
      "*****************************************************************************************\n",
      "\n",
      "\n",
      "Profile  :  ['Homeopath' 'Ayurveda' 'ENT Specialist' 'Dentist' 'General Medicine'\n",
      " 'Dermatologists']\n",
      "Dentist             1397\n",
      "General Medicine    1173\n",
      "Dermatologists      1034\n",
      "Homeopath            843\n",
      "Ayurveda             786\n",
      "ENT Specialist       728\n",
      "Name: Profile, dtype: int64\n",
      "*****************************************************************************************\n",
      "\n",
      "\n"
     ]
    }
   ],
   "source": [
    "#lets see the object data type columns and see thier unique values.\n",
    "for column in train.columns:\n",
    "    if train[column].dtypes == 'object':\n",
    "        print(str(column)+  '  :  ' +str(train[column].unique()))\n",
    "        print(train[column].value_counts())\n",
    "        print('*****************************************************************************************')\n",
    "        print('\\n')"
   ]
  },
  {
   "cell_type": "markdown",
   "metadata": {},
   "source": [
    "# Exploratory Data Analysis"
   ]
  },
  {
   "cell_type": "code",
   "execution_count": 14,
   "metadata": {},
   "outputs": [
    {
     "data": {
      "image/png": "[encoded data removed]",
      "text/plain": [
       "<Figure size 432x288 with 1 Axes>"
      ]
     },
     "metadata": {
      "needs_background": "light"
     },
     "output_type": "display_data"
    }
   ],
   "source": [
    "# lets check the mean fees\n",
    "Fees = train['Fees'].hist(bins=40)\n",
    "mean_val= np.mean(train['Fees'])\n",
    "plt.axvline(mean_val,linewidth=4, color='red', label='mean Fees')\n",
    "plt.xlabel('Fees')\n",
    "plt.ylabel('count')\n",
    "plt.legend()\n",
    "plt.show()"
   ]
  },
  {
   "cell_type": "raw",
   "metadata": {},
   "source": [
    "observation:\n",
    "    we can observe the mean fees charge by any doctor is 300."
   ]
  },
  {
   "cell_type": "code",
   "execution_count": 15,
   "metadata": {},
   "outputs": [],
   "source": [
    "#before mving further lets explore column and try to delete the alphabetical value.\n",
    "#lets delete the alpha value from experience column and make the dtype int.\n",
    "train['Experience'].replace(regex=True, inplace=True, to_replace=r'[^0-9.\\-]', value=r'')\n",
    "train['Experience'] = train['Experience'].astype('int')\n",
    "#lets delete the alpha value from experience column and make the dtype int.\n",
    "train['Rating'].replace(regex=True, inplace=True, to_replace=r'[^0-9.\\-]', value=r'')\n",
    "train['Rating'] = train['Rating'].astype('int')"
   ]
  },
  {
   "cell_type": "markdown",
   "metadata": {},
   "source": [
    "# univariate analysis"
   ]
  },
  {
   "cell_type": "code",
   "execution_count": 16,
   "metadata": {},
   "outputs": [
    {
     "data": {
      "image/png": "[encoded data removed]",
      "text/plain": [
       "<Figure size 1296x288 with 1 Axes>"
      ]
     },
     "metadata": {
      "needs_background": "light"
     },
     "output_type": "display_data"
    },
    {
     "data": {
      "text/plain": [
       "100    1306\n",
       "500     938\n",
       "200     904\n",
       "300     864\n",
       "400     424\n",
       "250     307\n",
       "150     253\n",
       "600     215\n",
       "700     153\n",
       "800     143\n",
       "350     143\n",
       "50       81\n",
       "450      65\n",
       "750      34\n",
       "550      22\n",
       "650      21\n",
       "900      18\n",
       "70       18\n",
       "80       12\n",
       "60       11\n",
       "30        4\n",
       "10        2\n",
       "260       2\n",
       "130       2\n",
       "180       2\n",
       "40        2\n",
       "380       2\n",
       "220       1\n",
       "280       1\n",
       "499       1\n",
       "5         1\n",
       "920       1\n",
       "299       1\n",
       "125       1\n",
       "230       1\n",
       "430       1\n",
       "630       1\n",
       "850       1\n",
       "950       1\n",
       "20        1\n",
       "Name: Fees, dtype: int64"
      ]
     },
     "execution_count": 16,
     "metadata": {},
     "output_type": "execute_result"
    }
   ],
   "source": [
    "plt.subplots(figsize=(18,4))\n",
    "sns.countplot(x='Fees',data=train)\n",
    "plt.title('Fees charges by the Doctor')\n",
    "plt.xlabel('Fees')\n",
    "plt.ylabel('count of Doctor')\n",
    "plt.show()\n",
    "train['Fees'].value_counts()"
   ]
  },
  {
   "cell_type": "raw",
   "metadata": {},
   "source": [
    "observatio:\n",
    "    1. we can observe that almost 1306 doctor charges Rs.100 for there consultation.\n",
    "    \n",
    "    2. Almost 938 Doctor charges Rs 500 for there consultation.\n",
    "    \n",
    "    4. The maximum charge taken by any doctor is Rs.950, which is 1 in counts."
   ]
  },
  {
   "cell_type": "code",
   "execution_count": 17,
   "metadata": {},
   "outputs": [
    {
     "data": {
      "image/png": "[encoded data removed]",
      "text/plain": [
       "<Figure size 1296x288 with 1 Axes>"
      ]
     },
     "metadata": {
      "needs_background": "light"
     },
     "output_type": "display_data"
    }
   ],
   "source": [
    "plt.subplots(figsize=(18,4))\n",
    "sns.countplot(x='Rating',data=train)\n",
    "plt.title('Rating percentage of Doctors')\n",
    "plt.xlabel('Rating in percentage')\n",
    "plt.ylabel('count of Doctor')\n",
    "plt.show()"
   ]
  },
  {
   "cell_type": "raw",
   "metadata": {},
   "source": [
    "observation:\n",
    "    1. we can observe almost 3986 doctor is having rating 100 %.\n",
    "    \n",
    "    2. Where as the least rating we can observe is 7% for 1 Doctor."
   ]
  },
  {
   "cell_type": "code",
   "execution_count": 18,
   "metadata": {},
   "outputs": [
    {
     "data": {
      "image/png": "[encoded data removed]",
      "text/plain": [
       "<Figure size 1296x288 with 1 Axes>"
      ]
     },
     "metadata": {
      "needs_background": "light"
     },
     "output_type": "display_data"
    },
    {
     "data": {
      "text/plain": [
       "9     323\n",
       "10    294\n",
       "11    288\n",
       "8     282\n",
       "12    279\n",
       "     ... \n",
       "64      1\n",
       "65      1\n",
       "58      1\n",
       "66      1\n",
       "61      1\n",
       "Name: Experience, Length: 64, dtype: int64"
      ]
     },
     "execution_count": 18,
     "metadata": {},
     "output_type": "execute_result"
    }
   ],
   "source": [
    "plt.subplots(figsize=(18,4))\n",
    "sns.countplot(x='Experience',data=train,palette='terrain_r')\n",
    "plt.title('Experience of Doctors in years')\n",
    "plt.xlabel('Experience in years')\n",
    "plt.ylabel('count of Doctor')\n",
    "plt.show()\n",
    "train['Experience'].value_counts()"
   ]
  },
  {
   "cell_type": "raw",
   "metadata": {},
   "source": [
    "obsrvation:\n",
    "    1. maximum experience of Doctor we can observe is 66 years having cout of 1 Doctor in number.\n",
    "    2. 323 numbers of the doctor having experience of 9 years hich is the most count of doctor in numbers.\n",
    "    3. 294 numbers of doctor is having 10 years of experience."
   ]
  },
  {
   "cell_type": "code",
   "execution_count": 19,
   "metadata": {},
   "outputs": [
    {
     "data": {
      "image/png": "[encoded data removed]",
      "text/plain": [
       "<Figure size 1296x288 with 1 Axes>"
      ]
     },
     "metadata": {
      "needs_background": "light"
     },
     "output_type": "display_data"
    },
    {
     "data": {
      "text/plain": [
       "Dentist             1397\n",
       "General Medicine    1173\n",
       "Dermatologists      1034\n",
       "Homeopath            843\n",
       "Ayurveda             786\n",
       "ENT Specialist       728\n",
       "Name: Profile, dtype: int64"
      ]
     },
     "execution_count": 19,
     "metadata": {},
     "output_type": "execute_result"
    }
   ],
   "source": [
    "plt.subplots(figsize=(18,4))\n",
    "sns.countplot(x='Profile',data=train,palette='rainbow')\n",
    "plt.title('Profiles of Doctors')\n",
    "plt.xlabel('Doctor specialisation')\n",
    "plt.ylabel('count of Doctors')\n",
    "plt.show()\n",
    "train['Profile'].value_counts()"
   ]
  },
  {
   "cell_type": "raw",
   "metadata": {},
   "source": [
    "observation:\n",
    "    1. we have more number of Dentist doctor which is 1397 in counts.\n",
    "    2. General medicine doctors 1173 counts in number.\n",
    "    3. the least doctors in count we can observe is ENT Specialist 728 doctors"
   ]
  },
  {
   "cell_type": "markdown",
   "metadata": {},
   "source": [
    "# Bivariate analysis"
   ]
  },
  {
   "cell_type": "markdown",
   "metadata": {},
   "source": [
    "# Fees vs Profile"
   ]
  },
  {
   "cell_type": "code",
   "execution_count": 20,
   "metadata": {},
   "outputs": [
    {
     "data": {
      "image/png": "[encoded data removed]",
      "text/plain": [
       "<Figure size 1296x288 with 1 Axes>"
      ]
     },
     "metadata": {
      "needs_background": "light"
     },
     "output_type": "display_data"
    }
   ],
   "source": [
    "plt.subplots(figsize=(18,4))\n",
    "sns.barplot(x='Profile',y='Fees',data=train,palette='tab20c_r')\n",
    "plt.title('Fees Charge based on diffrent profile of Doctors')\n",
    "plt.xlabel('Doctor Specliasation')\n",
    "plt.ylabel('Fees')\n",
    "plt.show()"
   ]
  },
  {
   "cell_type": "raw",
   "metadata": {},
   "source": [
    "obseration:\n",
    "    1. maximum fees charged on the basis of there profile by the doctor who specilise in the field of:\n",
    "                ** ENT\n",
    "                ** Dermatologists.\n",
    "    2. The least charges we can observe for the Ayurveda and Dentist."
   ]
  },
  {
   "cell_type": "markdown",
   "metadata": {},
   "source": [
    "# Fees vs Experience"
   ]
  },
  {
   "cell_type": "code",
   "execution_count": 21,
   "metadata": {},
   "outputs": [
    {
     "data": {
      "image/png": "[encoded data removed]",
      "text/plain": [
       "<Figure size 1296x288 with 1 Axes>"
      ]
     },
     "metadata": {
      "needs_background": "light"
     },
     "output_type": "display_data"
    }
   ],
   "source": [
    "plt.subplots(figsize=(18,4))\n",
    "sns.barplot(x='Fees',y='Experience',data=train)\n",
    "plt.title('Fees Charge based on Experince')\n",
    "plt.xlabel('Fees')\n",
    "plt.ylabel('Doctor Experience')\n",
    "plt.show()"
   ]
  },
  {
   "cell_type": "raw",
   "metadata": {},
   "source": [
    "obseration:\n",
    "    1. Maximum fees charge by the doctor with Experience more than 25 years of experience."
   ]
  },
  {
   "cell_type": "markdown",
   "metadata": {},
   "source": [
    "# Fees vs Rating"
   ]
  },
  {
   "cell_type": "code",
   "execution_count": 22,
   "metadata": {},
   "outputs": [
    {
     "data": {
      "image/png": "[encoded data removed]",
      "text/plain": [
       "<Figure size 1296x288 with 1 Axes>"
      ]
     },
     "metadata": {
      "needs_background": "light"
     },
     "output_type": "display_data"
    }
   ],
   "source": [
    "plt.subplots(figsize=(18,4))\n",
    "sns.barplot(x='Rating',y='Fees',data=train)\n",
    "plt.title('Fees Charge based on Rating')\n",
    "plt.xlabel('Rating')\n",
    "plt.ylabel('Fees')\n",
    "plt.show()"
   ]
  },
  {
   "cell_type": "raw",
   "metadata": {},
   "source": [
    "observation:\n",
    "    1. we can observe that the doctor rating with 100 % having minimum charge 300."
   ]
  },
  {
   "cell_type": "markdown",
   "metadata": {},
   "source": [
    "# Profile vs experience"
   ]
  },
  {
   "cell_type": "code",
   "execution_count": 23,
   "metadata": {},
   "outputs": [
    {
     "data": {
      "image/png": "[encoded data removed]",
      "text/plain": [
       "<Figure size 1080x360 with 1 Axes>"
      ]
     },
     "metadata": {
      "needs_background": "light"
     },
     "output_type": "display_data"
    }
   ],
   "source": [
    "plt.subplots(figsize=(18,4))\n",
    "train.groupby('Profile')['Experience'].sum().sort_values(ascending=False).plot(kind=\"bar\",figsize=(15,5))\n",
    "plt.title('Experience of doctor on the basis of there profile in ascending order')\n",
    "plt.xlabel('Doctor Specliasation')\n",
    "plt.ylabel('Experience in years')\n",
    "plt.show()"
   ]
  },
  {
   "cell_type": "raw",
   "metadata": {},
   "source": [
    "observation:\n",
    "    1. we can observe the maximum experience by the Greneral medicine doctors, where as the least experience we can observe f          from the profile beongs to Ayurveda."
   ]
  },
  {
   "cell_type": "markdown",
   "metadata": {},
   "source": [
    "# Profile vs Fees in ascending order"
   ]
  },
  {
   "cell_type": "code",
   "execution_count": 24,
   "metadata": {},
   "outputs": [
    {
     "data": {
      "image/png": "[encoded data removed]",
      "text/plain": [
       "<Figure size 1080x360 with 1 Axes>"
      ]
     },
     "metadata": {
      "needs_background": "light"
     },
     "output_type": "display_data"
    }
   ],
   "source": [
    "plt.subplots(figsize=(18,4))\n",
    "train.groupby('Profile')['Fees'].sum().sort_values(ascending=False).plot(kind=\"bar\",figsize=(15,5))\n",
    "plt.title('Fees charges by doctor on the basis of there profile in ascending order')\n",
    "plt.xlabel('Doctor Specliasation')\n",
    "plt.ylabel('Fees in Rs')\n",
    "plt.show()"
   ]
  },
  {
   "cell_type": "raw",
   "metadata": {},
   "source": [
    "observation:\n",
    "    1. we can observe above that based on profile the maximum consulattion fees is taken by the doctor who is in the field of          Dermotologists followed by General medicine\n",
    "    2. The least fee charged by Ayurveda profile Doctor."
   ]
  },
  {
   "cell_type": "markdown",
   "metadata": {},
   "source": [
    "# Profile vs Rating in ascending order"
   ]
  },
  {
   "cell_type": "code",
   "execution_count": 25,
   "metadata": {},
   "outputs": [
    {
     "data": {
      "image/png": "[encoded data removed]",
      "text/plain": [
       "<Figure size 1080x360 with 1 Axes>"
      ]
     },
     "metadata": {
      "needs_background": "light"
     },
     "output_type": "display_data"
    }
   ],
   "source": [
    "plt.subplots(figsize=(18,4))\n",
    "train.groupby('Profile')['Rating'].sum().sort_values(ascending=False).plot(kind=\"bar\",figsize=(15,5))\n",
    "plt.title('Rating of Doctor on basis of there profile')\n",
    "plt.xlabel('Doctor Specliasation')\n",
    "plt.ylabel('ratings')\n",
    "plt.show()"
   ]
  },
  {
   "cell_type": "raw",
   "metadata": {},
   "source": [
    "observation:\n",
    "    1. we can observe that the best rating of doctor in the profile of Dentists.\n",
    "    2. Least rating we can observe by the ENT specialist."
   ]
  },
  {
   "cell_type": "markdown",
   "metadata": {},
   "source": [
    "# Multivariate Analysis\n",
    "\n"
   ]
  },
  {
   "cell_type": "code",
   "execution_count": 26,
   "metadata": {},
   "outputs": [
    {
     "data": {
      "text/plain": [
       "<seaborn.axisgrid.PairGrid at 0x179dfcef850>"
      ]
     },
     "execution_count": 26,
     "metadata": {},
     "output_type": "execute_result"
    },
    {
     "data": {
      "image/png": "[encoded data removed]",
      "text/plain": [
       "<Figure size 540x540 with 12 Axes>"
      ]
     },
     "metadata": {
      "needs_background": "light"
     },
     "output_type": "display_data"
    }
   ],
   "source": [
    "sns.pairplot(train)"
   ]
  },
  {
   "cell_type": "code",
   "execution_count": 27,
   "metadata": {},
   "outputs": [],
   "source": [
    "#lets drop Qualification and Place and convert the profile to int datatypes.\n",
    "train.drop(['Qualification','Place'],inplace=True,axis=1)"
   ]
  },
  {
   "cell_type": "code",
   "execution_count": 28,
   "metadata": {},
   "outputs": [
    {
     "data": {
      "text/html": [
       "<div>\n",
       "<style scoped>\n",
       "    .dataframe tbody tr th:only-of-type {\n",
       "        vertical-align: middle;\n",
       "    }\n",
       "\n",
       "    .dataframe tbody tr th {\n",
       "        vertical-align: top;\n",
       "    }\n",
       "\n",
       "    .dataframe thead th {\n",
       "        text-align: right;\n",
       "    }\n",
       "</style>\n",
       "<table border=\"1\" class=\"dataframe\">\n",
       "  <thead>\n",
       "    <tr style=\"text-align: right;\">\n",
       "      <th></th>\n",
       "      <th>Experience</th>\n",
       "      <th>Rating</th>\n",
       "      <th>Profile</th>\n",
       "      <th>Fees</th>\n",
       "    </tr>\n",
       "  </thead>\n",
       "  <tbody>\n",
       "    <tr>\n",
       "      <th>0</th>\n",
       "      <td>24</td>\n",
       "      <td>100</td>\n",
       "      <td>5</td>\n",
       "      <td>100</td>\n",
       "    </tr>\n",
       "    <tr>\n",
       "      <th>1</th>\n",
       "      <td>12</td>\n",
       "      <td>98</td>\n",
       "      <td>0</td>\n",
       "      <td>350</td>\n",
       "    </tr>\n",
       "    <tr>\n",
       "      <th>2</th>\n",
       "      <td>9</td>\n",
       "      <td>100</td>\n",
       "      <td>3</td>\n",
       "      <td>300</td>\n",
       "    </tr>\n",
       "    <tr>\n",
       "      <th>3</th>\n",
       "      <td>12</td>\n",
       "      <td>100</td>\n",
       "      <td>0</td>\n",
       "      <td>250</td>\n",
       "    </tr>\n",
       "    <tr>\n",
       "      <th>4</th>\n",
       "      <td>20</td>\n",
       "      <td>100</td>\n",
       "      <td>0</td>\n",
       "      <td>250</td>\n",
       "    </tr>\n",
       "    <tr>\n",
       "      <th>...</th>\n",
       "      <td>...</td>\n",
       "      <td>...</td>\n",
       "      <td>...</td>\n",
       "      <td>...</td>\n",
       "    </tr>\n",
       "    <tr>\n",
       "      <th>5956</th>\n",
       "      <td>19</td>\n",
       "      <td>98</td>\n",
       "      <td>3</td>\n",
       "      <td>300</td>\n",
       "    </tr>\n",
       "    <tr>\n",
       "      <th>5957</th>\n",
       "      <td>33</td>\n",
       "      <td>100</td>\n",
       "      <td>4</td>\n",
       "      <td>100</td>\n",
       "    </tr>\n",
       "    <tr>\n",
       "      <th>5958</th>\n",
       "      <td>41</td>\n",
       "      <td>97</td>\n",
       "      <td>4</td>\n",
       "      <td>600</td>\n",
       "    </tr>\n",
       "    <tr>\n",
       "      <th>5959</th>\n",
       "      <td>15</td>\n",
       "      <td>90</td>\n",
       "      <td>4</td>\n",
       "      <td>100</td>\n",
       "    </tr>\n",
       "    <tr>\n",
       "      <th>5960</th>\n",
       "      <td>17</td>\n",
       "      <td>100</td>\n",
       "      <td>1</td>\n",
       "      <td>200</td>\n",
       "    </tr>\n",
       "  </tbody>\n",
       "</table>\n",
       "<p>5961 rows × 4 columns</p>\n",
       "</div>"
      ],
      "text/plain": [
       "      Experience  Rating  Profile  Fees\n",
       "0             24     100        5   100\n",
       "1             12      98        0   350\n",
       "2              9     100        3   300\n",
       "3             12     100        0   250\n",
       "4             20     100        0   250\n",
       "...          ...     ...      ...   ...\n",
       "5956          19      98        3   300\n",
       "5957          33     100        4   100\n",
       "5958          41      97        4   600\n",
       "5959          15      90        4   100\n",
       "5960          17     100        1   200\n",
       "\n",
       "[5961 rows x 4 columns]"
      ]
     },
     "execution_count": 28,
     "metadata": {},
     "output_type": "execute_result"
    }
   ],
   "source": [
    "#lets convert the the profile categorical data to int type using label encoder.\n",
    "from sklearn.preprocessing import LabelEncoder\n",
    "le=LabelEncoder()\n",
    "train['Profile']=le.fit_transform(train['Profile'])\n",
    "train"
   ]
  },
  {
   "cell_type": "raw",
   "metadata": {},
   "source": [
    "Now we have converted all the necessary columns to numeric type lets check the summary statistics"
   ]
  },
  {
   "cell_type": "markdown",
   "metadata": {},
   "source": [
    "# summary statistics"
   ]
  },
  {
   "cell_type": "code",
   "execution_count": 29,
   "metadata": {},
   "outputs": [
    {
     "data": {
      "text/html": [
       "<div>\n",
       "<style scoped>\n",
       "    .dataframe tbody tr th:only-of-type {\n",
       "        vertical-align: middle;\n",
       "    }\n",
       "\n",
       "    .dataframe tbody tr th {\n",
       "        vertical-align: top;\n",
       "    }\n",
       "\n",
       "    .dataframe thead th {\n",
       "        text-align: right;\n",
       "    }\n",
       "</style>\n",
       "<table border=\"1\" class=\"dataframe\">\n",
       "  <thead>\n",
       "    <tr style=\"text-align: right;\">\n",
       "      <th></th>\n",
       "      <th>Experience</th>\n",
       "      <th>Rating</th>\n",
       "      <th>Profile</th>\n",
       "      <th>Fees</th>\n",
       "    </tr>\n",
       "  </thead>\n",
       "  <tbody>\n",
       "    <tr>\n",
       "      <th>count</th>\n",
       "      <td>5961.000000</td>\n",
       "      <td>5961.000000</td>\n",
       "      <td>5961.000000</td>\n",
       "      <td>5961.000000</td>\n",
       "    </tr>\n",
       "    <tr>\n",
       "      <th>mean</th>\n",
       "      <td>17.303976</td>\n",
       "      <td>97.610636</td>\n",
       "      <td>2.441872</td>\n",
       "      <td>307.944640</td>\n",
       "    </tr>\n",
       "    <tr>\n",
       "      <th>std</th>\n",
       "      <td>11.142798</td>\n",
       "      <td>5.881539</td>\n",
       "      <td>1.658014</td>\n",
       "      <td>190.920373</td>\n",
       "    </tr>\n",
       "    <tr>\n",
       "      <th>min</th>\n",
       "      <td>0.000000</td>\n",
       "      <td>7.000000</td>\n",
       "      <td>0.000000</td>\n",
       "      <td>5.000000</td>\n",
       "    </tr>\n",
       "    <tr>\n",
       "      <th>25%</th>\n",
       "      <td>9.000000</td>\n",
       "      <td>98.000000</td>\n",
       "      <td>1.000000</td>\n",
       "      <td>150.000000</td>\n",
       "    </tr>\n",
       "    <tr>\n",
       "      <th>50%</th>\n",
       "      <td>14.000000</td>\n",
       "      <td>100.000000</td>\n",
       "      <td>2.000000</td>\n",
       "      <td>300.000000</td>\n",
       "    </tr>\n",
       "    <tr>\n",
       "      <th>75%</th>\n",
       "      <td>23.000000</td>\n",
       "      <td>100.000000</td>\n",
       "      <td>4.000000</td>\n",
       "      <td>500.000000</td>\n",
       "    </tr>\n",
       "    <tr>\n",
       "      <th>max</th>\n",
       "      <td>66.000000</td>\n",
       "      <td>100.000000</td>\n",
       "      <td>5.000000</td>\n",
       "      <td>950.000000</td>\n",
       "    </tr>\n",
       "  </tbody>\n",
       "</table>\n",
       "</div>"
      ],
      "text/plain": [
       "        Experience       Rating      Profile         Fees\n",
       "count  5961.000000  5961.000000  5961.000000  5961.000000\n",
       "mean     17.303976    97.610636     2.441872   307.944640\n",
       "std      11.142798     5.881539     1.658014   190.920373\n",
       "min       0.000000     7.000000     0.000000     5.000000\n",
       "25%       9.000000    98.000000     1.000000   150.000000\n",
       "50%      14.000000   100.000000     2.000000   300.000000\n",
       "75%      23.000000   100.000000     4.000000   500.000000\n",
       "max      66.000000   100.000000     5.000000   950.000000"
      ]
     },
     "execution_count": 29,
     "metadata": {},
     "output_type": "execute_result"
    }
   ],
   "source": [
    "train.describe()"
   ]
  },
  {
   "cell_type": "raw",
   "metadata": {},
   "source": [
    "observation:\n",
    "    1. we can observe in the Experience column ,that minimum experience 0 and maximum experience we can obsrve 66 years, here          the mean is greater than the median so we can say that the data is right skewed, we can also observe that the diffrence \n",
    "       between 75 and max is quite large so we can say that there must be outliers.\n",
    "    \n",
    "    2. lets observe the rating column we can observe that the minimum rating is 7 and maximum rating is 100% the mean is lesser        than the median so we can say that the data is left skewed.\n",
    "    \n",
    "    3. Lets explore Profile column we can say that the minimum profle value i 0 and maximum is 5.\n",
    "    \n",
    "    4. We can observe in the fees column that the minmum fees is 5 where as the maximum fees we can observe is 950 Rs, the mean        is greater than the median so my data is right skewed, we can also observe that the diffrence betwwen 75 and max so we          can say that there must be outliers present."
   ]
  },
  {
   "cell_type": "markdown",
   "metadata": {},
   "source": [
    "# Test data"
   ]
  },
  {
   "cell_type": "code",
   "execution_count": 30,
   "metadata": {},
   "outputs": [
    {
     "data": {
      "text/html": [
       "<div>\n",
       "<style scoped>\n",
       "    .dataframe tbody tr th:only-of-type {\n",
       "        vertical-align: middle;\n",
       "    }\n",
       "\n",
       "    .dataframe tbody tr th {\n",
       "        vertical-align: top;\n",
       "    }\n",
       "\n",
       "    .dataframe thead th {\n",
       "        text-align: right;\n",
       "    }\n",
       "</style>\n",
       "<table border=\"1\" class=\"dataframe\">\n",
       "  <thead>\n",
       "    <tr style=\"text-align: right;\">\n",
       "      <th></th>\n",
       "      <th>Qualification</th>\n",
       "      <th>Experience</th>\n",
       "      <th>Rating</th>\n",
       "      <th>Place</th>\n",
       "      <th>Profile</th>\n",
       "      <th>Miscellaneous_Info</th>\n",
       "    </tr>\n",
       "  </thead>\n",
       "  <tbody>\n",
       "    <tr>\n",
       "      <th>0</th>\n",
       "      <td>MBBS</td>\n",
       "      <td>35 years experience</td>\n",
       "      <td>NaN</td>\n",
       "      <td>Ghatkopar East, Mumbai</td>\n",
       "      <td>General Medicine</td>\n",
       "      <td>NaN</td>\n",
       "    </tr>\n",
       "    <tr>\n",
       "      <th>1</th>\n",
       "      <td>MBBS, Diploma in Otorhinolaryngology (DLO)</td>\n",
       "      <td>31 years experience</td>\n",
       "      <td>NaN</td>\n",
       "      <td>West Marredpally, Hyderabad</td>\n",
       "      <td>ENT Specialist</td>\n",
       "      <td>NaN</td>\n",
       "    </tr>\n",
       "    <tr>\n",
       "      <th>2</th>\n",
       "      <td>MBBS, DDVL</td>\n",
       "      <td>40 years experience</td>\n",
       "      <td>70%</td>\n",
       "      <td>KK Nagar, Chennai</td>\n",
       "      <td>Dermatologists</td>\n",
       "      <td>70% 4 Feedback KK Nagar, Chennai</td>\n",
       "    </tr>\n",
       "    <tr>\n",
       "      <th>3</th>\n",
       "      <td>BAMS</td>\n",
       "      <td>0 years experience</td>\n",
       "      <td>NaN</td>\n",
       "      <td>New Ashok Nagar, Delhi</td>\n",
       "      <td>Ayurveda</td>\n",
       "      <td>NaN</td>\n",
       "    </tr>\n",
       "    <tr>\n",
       "      <th>4</th>\n",
       "      <td>BDS, MDS - Conservative Dentistry &amp; Endodontics</td>\n",
       "      <td>16 years experience</td>\n",
       "      <td>100%</td>\n",
       "      <td>Kanakpura Road, Bangalore</td>\n",
       "      <td>Dentist</td>\n",
       "      <td>General Dentistry Conservative Dentistry Cosme...</td>\n",
       "    </tr>\n",
       "  </tbody>\n",
       "</table>\n",
       "</div>"
      ],
      "text/plain": [
       "                                     Qualification           Experience  \\\n",
       "0                                             MBBS  35 years experience   \n",
       "1       MBBS, Diploma in Otorhinolaryngology (DLO)  31 years experience   \n",
       "2                                       MBBS, DDVL  40 years experience   \n",
       "3                                             BAMS   0 years experience   \n",
       "4  BDS, MDS - Conservative Dentistry & Endodontics  16 years experience   \n",
       "\n",
       "  Rating                        Place           Profile  \\\n",
       "0    NaN       Ghatkopar East, Mumbai  General Medicine   \n",
       "1    NaN  West Marredpally, Hyderabad    ENT Specialist   \n",
       "2    70%            KK Nagar, Chennai    Dermatologists   \n",
       "3    NaN       New Ashok Nagar, Delhi          Ayurveda   \n",
       "4   100%    Kanakpura Road, Bangalore           Dentist   \n",
       "\n",
       "                                  Miscellaneous_Info  \n",
       "0                                                NaN  \n",
       "1                                                NaN  \n",
       "2                   70% 4 Feedback KK Nagar, Chennai  \n",
       "3                                                NaN  \n",
       "4  General Dentistry Conservative Dentistry Cosme...  "
      ]
     },
     "execution_count": 30,
     "metadata": {},
     "output_type": "execute_result"
    }
   ],
   "source": [
    "test.head()"
   ]
  },
  {
   "cell_type": "raw",
   "metadata": {},
   "source": [
    "now we can repeat the same procedure with the test data once again so i am just copying all the code in single columns"
   ]
  },
  {
   "cell_type": "code",
   "execution_count": 31,
   "metadata": {},
   "outputs": [
    {
     "data": {
      "text/plain": [
       "(1987, 6)"
      ]
     },
     "execution_count": 31,
     "metadata": {},
     "output_type": "execute_result"
    }
   ],
   "source": [
    "#lets check the shape\n",
    "test.shape"
   ]
  },
  {
   "cell_type": "code",
   "execution_count": 32,
   "metadata": {},
   "outputs": [
    {
     "data": {
      "text/plain": [
       "Qualification         object\n",
       "Experience            object\n",
       "Rating                object\n",
       "Place                 object\n",
       "Profile               object\n",
       "Miscellaneous_Info    object\n",
       "dtype: object"
      ]
     },
     "execution_count": 32,
     "metadata": {},
     "output_type": "execute_result"
    }
   ],
   "source": [
    "#lets check the data types\n",
    "test.dtypes"
   ]
  },
  {
   "cell_type": "code",
   "execution_count": 33,
   "metadata": {},
   "outputs": [
    {
     "data": {
      "text/plain": [
       "Qualification            0\n",
       "Experience               0\n",
       "Rating                1090\n",
       "Place                    6\n",
       "Profile                  0\n",
       "Miscellaneous_Info     834\n",
       "dtype: int64"
      ]
     },
     "execution_count": 33,
     "metadata": {},
     "output_type": "execute_result"
    }
   ],
   "source": [
    "#lets check the null value present in our data set\n",
    "test.isnull().sum()"
   ]
  },
  {
   "cell_type": "raw",
   "metadata": {},
   "source": [
    "observation:\n",
    "   ** we can observe that out of total 1987 data there is 1090 data which is null in Rating columns.\n",
    "   ** place columns having null value present 6\n",
    "   ** miscellaneous_info is having 834 null values, lets drop this columns cause this columns doesnt has impact on my target.       variable."
   ]
  },
  {
   "cell_type": "code",
   "execution_count": 34,
   "metadata": {},
   "outputs": [
    {
     "data": {
      "text/html": [
       "<div>\n",
       "<style scoped>\n",
       "    .dataframe tbody tr th:only-of-type {\n",
       "        vertical-align: middle;\n",
       "    }\n",
       "\n",
       "    .dataframe tbody tr th {\n",
       "        vertical-align: top;\n",
       "    }\n",
       "\n",
       "    .dataframe thead th {\n",
       "        text-align: right;\n",
       "    }\n",
       "</style>\n",
       "<table border=\"1\" class=\"dataframe\">\n",
       "  <thead>\n",
       "    <tr style=\"text-align: right;\">\n",
       "      <th></th>\n",
       "      <th>Qualification</th>\n",
       "      <th>Experience</th>\n",
       "      <th>Rating</th>\n",
       "      <th>Place</th>\n",
       "      <th>Profile</th>\n",
       "    </tr>\n",
       "  </thead>\n",
       "  <tbody>\n",
       "    <tr>\n",
       "      <th>0</th>\n",
       "      <td>MBBS</td>\n",
       "      <td>35 years experience</td>\n",
       "      <td>NaN</td>\n",
       "      <td>Ghatkopar East, Mumbai</td>\n",
       "      <td>General Medicine</td>\n",
       "    </tr>\n",
       "    <tr>\n",
       "      <th>1</th>\n",
       "      <td>MBBS, Diploma in Otorhinolaryngology (DLO)</td>\n",
       "      <td>31 years experience</td>\n",
       "      <td>NaN</td>\n",
       "      <td>West Marredpally, Hyderabad</td>\n",
       "      <td>ENT Specialist</td>\n",
       "    </tr>\n",
       "    <tr>\n",
       "      <th>2</th>\n",
       "      <td>MBBS, DDVL</td>\n",
       "      <td>40 years experience</td>\n",
       "      <td>70%</td>\n",
       "      <td>KK Nagar, Chennai</td>\n",
       "      <td>Dermatologists</td>\n",
       "    </tr>\n",
       "    <tr>\n",
       "      <th>3</th>\n",
       "      <td>BAMS</td>\n",
       "      <td>0 years experience</td>\n",
       "      <td>NaN</td>\n",
       "      <td>New Ashok Nagar, Delhi</td>\n",
       "      <td>Ayurveda</td>\n",
       "    </tr>\n",
       "    <tr>\n",
       "      <th>4</th>\n",
       "      <td>BDS, MDS - Conservative Dentistry &amp; Endodontics</td>\n",
       "      <td>16 years experience</td>\n",
       "      <td>100%</td>\n",
       "      <td>Kanakpura Road, Bangalore</td>\n",
       "      <td>Dentist</td>\n",
       "    </tr>\n",
       "    <tr>\n",
       "      <th>...</th>\n",
       "      <td>...</td>\n",
       "      <td>...</td>\n",
       "      <td>...</td>\n",
       "      <td>...</td>\n",
       "      <td>...</td>\n",
       "    </tr>\n",
       "    <tr>\n",
       "      <th>1982</th>\n",
       "      <td>BAMS, Doctor of Medicine</td>\n",
       "      <td>10 years experience</td>\n",
       "      <td>NaN</td>\n",
       "      <td>Basavanagudi, Bangalore</td>\n",
       "      <td>Ayurveda</td>\n",
       "    </tr>\n",
       "    <tr>\n",
       "      <th>1983</th>\n",
       "      <td>MD - Dermatology , Venereology &amp; Leprosy, MBBS</td>\n",
       "      <td>4 years experience</td>\n",
       "      <td>NaN</td>\n",
       "      <td>Choolai, Chennai</td>\n",
       "      <td>Dermatologists</td>\n",
       "    </tr>\n",
       "    <tr>\n",
       "      <th>1984</th>\n",
       "      <td>MBBS, MD / MS - Obstetrics &amp; Gynaecology</td>\n",
       "      <td>9 years experience</td>\n",
       "      <td>NaN</td>\n",
       "      <td>Porur, Chennai</td>\n",
       "      <td>General Medicine</td>\n",
       "    </tr>\n",
       "    <tr>\n",
       "      <th>1985</th>\n",
       "      <td>BDS</td>\n",
       "      <td>12 years experience</td>\n",
       "      <td>98%</td>\n",
       "      <td>Arekere, Bangalore</td>\n",
       "      <td>Dentist</td>\n",
       "    </tr>\n",
       "    <tr>\n",
       "      <th>1986</th>\n",
       "      <td>MBBS, MD - Dermatology , Venereology &amp; Leprosy</td>\n",
       "      <td>8 years experience</td>\n",
       "      <td>NaN</td>\n",
       "      <td>Pallikaranai, Chennai</td>\n",
       "      <td>Dermatologists</td>\n",
       "    </tr>\n",
       "  </tbody>\n",
       "</table>\n",
       "<p>1987 rows × 5 columns</p>\n",
       "</div>"
      ],
      "text/plain": [
       "                                        Qualification           Experience  \\\n",
       "0                                                MBBS  35 years experience   \n",
       "1          MBBS, Diploma in Otorhinolaryngology (DLO)  31 years experience   \n",
       "2                                          MBBS, DDVL  40 years experience   \n",
       "3                                                BAMS   0 years experience   \n",
       "4     BDS, MDS - Conservative Dentistry & Endodontics  16 years experience   \n",
       "...                                               ...                  ...   \n",
       "1982                         BAMS, Doctor of Medicine  10 years experience   \n",
       "1983   MD - Dermatology , Venereology & Leprosy, MBBS   4 years experience   \n",
       "1984         MBBS, MD / MS - Obstetrics & Gynaecology   9 years experience   \n",
       "1985                                              BDS  12 years experience   \n",
       "1986   MBBS, MD - Dermatology , Venereology & Leprosy   8 years experience   \n",
       "\n",
       "     Rating                        Place           Profile  \n",
       "0       NaN       Ghatkopar East, Mumbai  General Medicine  \n",
       "1       NaN  West Marredpally, Hyderabad    ENT Specialist  \n",
       "2       70%            KK Nagar, Chennai    Dermatologists  \n",
       "3       NaN       New Ashok Nagar, Delhi          Ayurveda  \n",
       "4      100%    Kanakpura Road, Bangalore           Dentist  \n",
       "...     ...                          ...               ...  \n",
       "1982    NaN      Basavanagudi, Bangalore          Ayurveda  \n",
       "1983    NaN             Choolai, Chennai    Dermatologists  \n",
       "1984    NaN               Porur, Chennai  General Medicine  \n",
       "1985    98%           Arekere, Bangalore           Dentist  \n",
       "1986    NaN        Pallikaranai, Chennai    Dermatologists  \n",
       "\n",
       "[1987 rows x 5 columns]"
      ]
     },
     "execution_count": 34,
     "metadata": {},
     "output_type": "execute_result"
    }
   ],
   "source": [
    "test.drop(columns='Miscellaneous_Info',inplace=True)\n",
    "test\n",
    "# below we can observe Miscellaneous_Info is dropped."
   ]
  },
  {
   "cell_type": "code",
   "execution_count": 35,
   "metadata": {},
   "outputs": [
    {
     "data": {
      "text/plain": [
       "Qualification    0\n",
       "Experience       0\n",
       "Rating           0\n",
       "Place            0\n",
       "Profile          0\n",
       "dtype: int64"
      ]
     },
     "execution_count": 35,
     "metadata": {},
     "output_type": "execute_result"
    }
   ],
   "source": [
    "#lets fill the null value with the most frequent value\n",
    "from sklearn.impute import SimpleImputer\n",
    "imp = SimpleImputer(strategy='most_frequent')\n",
    "col=['Rating','Place']\n",
    "for i in col:\n",
    "    test[i]=imp.fit_transform(test[i].values.reshape(-1,1))\n",
    "#lets check the null value again\n",
    "test.isnull().sum()\n",
    "# we can observe there is no null value present in the dataset"
   ]
  },
  {
   "cell_type": "code",
   "execution_count": 36,
   "metadata": {},
   "outputs": [
    {
     "name": "stdout",
     "output_type": "stream",
     "text": [
      "Qualification  :  ['MBBS' 'MBBS, Diploma in Otorhinolaryngology (DLO)' 'MBBS, DDVL' 'BAMS'\n",
      " 'BDS, MDS - Conservative Dentistry & Endodontics' 'BDS, MDS'\n",
      " 'BDS, MDS - Pedodontics'\n",
      " 'MD - Ayurveda Medicine, BAMS, Yoga Teachers Training Course, M. D. IN KAYACHIKISTA'\n",
      " 'BHMS' 'BDS' 'MBBS, FCD - Diabetology' 'MBBS, DDV'\n",
      " 'MBBS, MD - Dermatology' 'MS - ENT'\n",
      " 'MBBS, Diploma in Otorhinolaryngology (DLO), MS - ENT, DNB - ENT, MNAMS (Membership of the National Academy)'\n",
      " 'BHMS, Diploma in Naturopathy & Yogic Science (DNYS), Diploma in Diet and Nutrition, Diploma in Cosmetology'\n",
      " 'MBBS, PG Diploma In Clinical Cosmetology (PGDCC)'\n",
      " 'BDS, MDS - Periodontics' 'BDS, MDS- Oral Pathology'\n",
      " 'MBBS, MD - General Medicine' 'MS - ENT, MBBS'\n",
      " 'MBBS, Diploma in Otorhinolaryngology (DLO), DNB - ENT'\n",
      " 'MBBS, MS - ENT, DNB - Otorhinolaryngology'\n",
      " 'BDS, PhD - Endodontics, MDS - Conservative Dentistry & Endodontics'\n",
      " 'BSc, LCEH' 'BAMS, MD - Ayurveda Medicine'\n",
      " 'MBBS, DGO, MD - Obstetrics & Gynaecology' 'BHMS, MD - Homeopathy'\n",
      " 'BHMS, DM - Oncology'\n",
      " 'MBBS, DNB - Dermatology, Venereology & Leprosy, DVD'\n",
      " 'MBBS, MS - Otorhinolaryngology'\n",
      " 'Fellowship in Aesthetic Medicine, MD - Dermatology'\n",
      " 'BDS, Fellowship in Oral implantlogy'\n",
      " 'MBBS, MD - Dermatology, Fellowship in Aesthetic Medicine'\n",
      " 'MBBS, MS - Ophthalmology'\n",
      " 'MDS - Conservative Dentistry & Endodontics, BDS'\n",
      " 'MBBS, MS - Otorhinolaryngology, Diploma in Otorhinolaryngology (DLO)'\n",
      " 'BAMS, PGCR'\n",
      " 'BHMS, MS - Counselling and Psychotherapy, Certificate Course in Advanced Homoeopathy (C.C.A.H)'\n",
      " 'MBBS, MS - ENT, Diploma in Otorhinolaryngology (DLO)'\n",
      " 'MBBS, FRCS - Otolaryngology, Diploma in Otorhinolaryngology (DLO), Diploma in Acupuncture'\n",
      " 'MBBS, MD - Medicine, DM - Cardiology'\n",
      " 'BDS, Post-Graduate Certificate in Oral Implantology (PGCOI), MDS - Periodontology and Oral Implantology'\n",
      " 'LCEH' 'MBBS, MS - ENT' 'MBBS, MD - Medicine'\n",
      " 'DM - Nephrology, MD - Internal Medicine, MBBS' 'MBBS, DDVL, FRGUHS'\n",
      " 'MBBS, Diploma in Otorhinolaryngology (DLO), FRCS - General Surgery'\n",
      " 'BDS, MDS - Oral & Maxillofacial Surgery, Fellowship in Cleft Lip & Palate, Fellowship in TMJ Surgery'\n",
      " 'MBBS, DNB - Otorhinolaryngology'\n",
      " 'Post Graduate Diploma in Diabetology (PGDD)(Madras Medical College), MBBS'\n",
      " 'Certificate in Dental Implants, MDS - Oral Medicine and Radiology, Certification in Aesthetic Dentistry, Certification in Full Mouth Rehabilitation, BDS'\n",
      " 'BDS, MDS - Orthodontics and Dentofacial Orthopaedics'\n",
      " 'MBBS, MD - Internal Medicine'\n",
      " 'MBBS, MD - General Medicine, DNB - General Medicine, Fellowship in Diabetology, DAA - Diploma in Allergy Asthma and Immunology, Certificate in Pulmonology'\n",
      " 'MD - Tuberculosis & Respiratory Diseases/Medicine, MBBS'\n",
      " 'MBBS, DDV, MD - Dermatology, Fellowship In Cosmetic Dermatology'\n",
      " 'B.Sc, MBBS, FCCP - Pulmonary Medicine' 'MBBS, MS - General Surgery'\n",
      " 'MBBS, MRCOG(UK), Diploma of the Faculty of Family Planning (DFFP), DRCOG, Member of the Royal College of General Practitioners UK (MRCGP), Fellowship in Diabetes (UK)'\n",
      " 'BDS, MDS - Paedodontics And Preventive Dentistry'\n",
      " 'BHMS, MS - Psychology' 'MD - General Medicine'\n",
      " 'BDS, Fellow of Academy of General Education (FAGE)' 'MD - Skin & VD'\n",
      " 'MBBS, MD - Dermatology , Venereology & Leprosy'\n",
      " 'BDS, MDS - Periodontology and Oral Implantology' 'MBBS, DNB'\n",
      " 'MDS - Orthodontics, BDS' 'BHMS, Diploma in Dermatology'\n",
      " 'MBBS, MD - Pulmonary Medicine, MD - Tuberculosis & Respiratory Diseases / Pulmonary Medicine'\n",
      " 'MDS - Prosthodontist And Crown Bridge, BDS'\n",
      " 'MBBS, Diploma in Orthopaedics'\n",
      " 'MBBS, DNB - ENT, Diploma in Otorhinolaryngology (DLO)'\n",
      " 'BDS, MDS - Prosthodontics'\n",
      " 'MD - Dermatology, MBBS, DNB - Dermatology, Venereology & Leprosy, FRGUHS'\n",
      " 'MDS - Oral & Maxillofacial Surgery, BDS' 'MBBS, MD - Dermatology, DDV'\n",
      " 'MBBS, Diploma in Aesthetic Medicine, DDV'\n",
      " 'MBBS, Diploma in Tuberculosis and Chest Diseases (DTCD), DNB -Chest, Post Graduate Diploma in Diabetes'\n",
      " 'BDS, MDS - Orthodontics' 'BDS, Diploma in Laser Dentistry, MDS'\n",
      " 'BDS, MDS - Oral Medicine and Radiology'\n",
      " 'MBBS, Diploma in Anesthesiology, Certificate in Acupuncture'\n",
      " \"BAMS, Yoga Instructor's Course, Diploma in Nutrition and Health Education\"\n",
      " 'MD - Dermatology, DDV, MBBS'\n",
      " 'MBBS, DNB - Family Medicine, Fellowship in Diabetology'\n",
      " 'MBBS, MS - ENT, MRCS (UK), Diploma in Otorhinolaryngology (DLO)'\n",
      " 'DVD, MBBS' 'DDVL, MBBS' 'MBBS, MD - Obstetrics & Gynaecology'\n",
      " 'MBBS, Diploma in Dermatology'\n",
      " 'BHMS, PGDPC (Post Graduation Diploma In Psychological Counselling)'\n",
      " 'BAMS, PGD Yoga' 'MDS - Prosthodontics, BDS'\n",
      " 'BAMS, MBA - Healthcare Services' 'DNB - ENT, MD - Physician'\n",
      " 'MDS - Paedodontics And Preventive Dentistry, Membership of the Faculty of Dental Surgeons(MFDS)'\n",
      " 'MBBS, PGDHHM, PGDMLS' 'MBBS, DNB - Dermatology & Venereology'\n",
      " 'MBBS, MD - Obstetrics & Gynaecology, MRCOG(UK)'\n",
      " 'DNB - Otorhinolaryngology, MNAMS - General Surgery, MS - Otorhinolaryngology, MBBS'\n",
      " 'BDS, PhD - Orthodontics & Dentofacial Orthopaedics'\n",
      " 'MBBS, MD - Pediatrics' 'MD - Dermatology, MBBS'\n",
      " 'MBBS, MD - Internal Medicine, Post Graduate Diploma in Diabetology (PGDD)'\n",
      " 'BDS, Certificate of Oral Implantology'\n",
      " 'BDS, Doctor of Dental Surgery (DDS)'\n",
      " 'MBBS, Diploma in Dermatology, DDVL, DDV' 'MBBS, MD - Skin & VD, DDVL'\n",
      " 'MDS - Orthodontics and Dentofacial Orthopaedics'\n",
      " 'BHMS, Diploma in Cosmetology'\n",
      " 'MBBS, DDVL, DNB - Dermatology & Venereology, Fellowship In Dermatosurgery'\n",
      " 'BAMS, MBA - Hospital Management' 'MBBS, DDVL, MD - Dermatology'\n",
      " 'MBBS, Diploma in Otorhinolaryngology (DLO), MS - ENT'\n",
      " 'MBBS, MD - Dermatology, Fellowship In Dermatosurgery'\n",
      " 'MD - Dermatology , Venereology & Leprosy, MBBS'\n",
      " 'MDS - Oral & Maxillofacial Surgery'\n",
      " 'MBBS, MD - Dermatology, FRGUHS, Fellowship in Cosmetology'\n",
      " 'MBBS, MS - ENT, FRCS, MRCS (UK), Dip Otolaryngology and Head and neck Surgery'\n",
      " 'MBBS, DNB - General Medicine, MF- Homeopathy, MSc - Psychotherapy And Counselling, Post Graduate Diploma in Diabetology (PGDD)'\n",
      " 'MBBS, DNB - Family Medicine, CCEBDM'\n",
      " 'MBBS, Diploma in Laparoscopy, FRCS - General Surgery (Upper GI)'\n",
      " 'MBBS, DNB - General Medicine, Post Graduate Diploma in Diabetology (PGDD)'\n",
      " 'Doctor of Homeopathic Medicine (HMD)'\n",
      " 'DHMS (Diploma in Homeopathic Medicine and Surgery), Diploma in Clinical Cosmetology, Diploma in Trichology - Cosmetology'\n",
      " 'BHMS, Post Graduate Diploma in Clinical Research (PGDCR)'\n",
      " 'BHMS, Certificate in Child Health (CCH)'\n",
      " 'MDS, Advanced Certificate Course in Dental Implants, BDS'\n",
      " 'BDS, MDS - Prosthodontist And Crown Bridge'\n",
      " 'DNB - General Medicine, MBBS' 'MBBS, MNAMS- Family Medicine'\n",
      " 'MBBS, MD - Internal Medicine, FACP (USA)'\n",
      " 'MBBS, Diploma in Otorhinolaryngology (DLO), MD - Anatomy' 'BDS, FICD'\n",
      " 'FRCP, MRCPS, MBBS, MD - General Medicine, Diploma in Medical Law and Ethics (PGDMLE)'\n",
      " 'MBBS, MD - (Dermatology & STD)' 'MBBS, DVD, MD - Dermatology'\n",
      " 'MBBS, Diploma in Emergency Medicine'\n",
      " 'BDS, MBA, Certification in Aesthetic Dentistry'\n",
      " 'MBBS, Fellow of Academy of General Education (FAGE), MS - ENT, Fellowship in Advanced Endoscopic Sinus Surgery'\n",
      " 'BSc, DHMS (Diploma in Homeopathic Medicine and Surgery)'\n",
      " 'BHMS, Doctor of Homeopathic Medicine (HMD), MBA'\n",
      " 'MDS - Oral & Maxillofacial Surgery, Fellowship Program in Oral Implantology and LASER Dentistry, BDS'\n",
      " 'MBBS, MS - ENT, Fellowship in Head & Neck Surgery'\n",
      " 'BDS, MDS - Prosthodontist & Oral Implantologist'\n",
      " 'MD - Internal Medicine, MBBS, Diplomate from the American Board of Internal Medicine'\n",
      " 'BAMS, MD - Ayurveda Medicine, PhD- Ayurveda'\n",
      " \"BAMS, PGD ND, Yoga Instructor's Course\"\n",
      " 'BDS, Fellowship Program in Aesthetic Dentistry and Occlusion'\n",
      " 'MBBS, Diploma in Public Health, MD - Community Medicine, Fellowship in Lifestyle Medicine'\n",
      " 'BAMS, MS - Ayurveda'\n",
      " 'Diploma in Otorhinolaryngology (DLO), Ph. D - ENT, MBBS, DNB - ENT'\n",
      " 'MDS - Orthodontics and Dentofacial Orthopaedics, BDS'\n",
      " 'MBBS, Diploma in Otorhinolaryngology (DLO), MS - Otorhinolaryngology'\n",
      " 'BSAM, BAMS, Fellow of Academy of General Education (FAGE)'\n",
      " 'MD - Homeopathy, BHMS' 'MBBS, DNB - Otorhinolaryngology, DLO'\n",
      " 'Get inspired by remarkable stories of people like you'\n",
      " 'MBBS, MD - General Medicine, Diploma in Diabetology'\n",
      " 'MD - Ayurveda Medicine'\n",
      " 'MD - Homeopathy, PG Diploma In Clinical Cosmetology (PGDCC), BHMS'\n",
      " 'DHMS (Diploma in Homeopathic Medicine and Surgery)' 'MD - Dermatology'\n",
      " 'MBBS, DDV, DNB' 'BDS, Post graduate diploma in Hospital Management'\n",
      " 'MBBS, Diploma in Anesthesiology'\n",
      " 'BDS, MDS - Oral & Maxillofacial Surgery, FDSRCS - Fellowship in Dental Surgery'\n",
      " 'MBBS, MD - Internal Medicine, Post Graduate Diploma in Diabetology (PGDD), DNB - General Medicine'\n",
      " 'BHMS, PG - Homeo, Integrated therapy in Cancer, Basic Course in Palliative Care'\n",
      " 'BHMS, Fellowship Course in Homoeopathic Dermatology, Masters in Counselling and Psychotherapy'\n",
      " 'MBBS, MD - Medicine, FCPS - General Surgery' 'BHMS, CSD'\n",
      " 'BHMS, MD (HOM) - Paeditrics, Fellowship Course in Homoeopathic Dermatology'\n",
      " 'M.S. (Ayurved) Stri Roga & Prasuti Tantra, BAMS'\n",
      " 'MBBS, MD - General Medicine, DNB - General Medicine'\n",
      " 'MBBS, MS - Otorhinolaryngology, Fellowship in laryngology'\n",
      " 'BDS, MDS - Prosthodontist And Crown Bridge, Certificate Course in Orthodontics'\n",
      " 'B.Sc, BAMS, MD - Ayurveda Medicine' 'DO, MS - Ophthalmology, MBBS'\n",
      " 'FRCS - General Surgery' 'BDS, MDS- Periodontist & Implantalogist'\n",
      " 'MBBS, MCh - Surgical Gastroenterology/G.I. Surgery'\n",
      " 'BDS, Certificate in Dental Implants' 'MBBS, DNB - General Medicine'\n",
      " 'MDS - Paedodontics And Preventive Dentistry, BDS'\n",
      " 'MBBS, Diploma in Tuberculosis and Chest Diseases (DTCD)'\n",
      " 'BAMS, MS - Ayurvedic General Surgery'\n",
      " 'MBBS, MD - Physician, DNB - General Medicine, Fellowship in Diabetology'\n",
      " 'MBBS, DNB - Internal Medicine' 'MBBS, FICA, MD - General Medicine'\n",
      " 'BDS, MDS - Periodontology and Oral Implantology, Current Concepts in American Dentistry Advances in Implantology and Oral Rehabilitation, Comprehensive Course in Modern Endodontics'\n",
      " 'MBBS, FACC, FCCP - Pulmonary Medicine' 'FWFO, FPFA'\n",
      " 'MBBS, MD - Internal Medicine, DM - Gastroenterology'\n",
      " 'MBBS, MD - General Medicine, DM - Cardiology' 'MBBS, DLO, MS - ENT'\n",
      " 'MS - ENT, Diploma in Otorhinolaryngology (DLO)'\n",
      " 'MBBS, Diploma in Family Medicine (DFM), Fellowship in Diabetology'\n",
      " 'BHMS, Diploma in Medical Cosmetology'\n",
      " 'MBBS, Diploma in Otorhinolaryngology (DLO), DNB - Otorhinolaryngology'\n",
      " 'MBBS, DDVL, Fellowship in Dermatological Laser Surgery, Fellowship In Cosmetic Dermatology'\n",
      " 'MBBS, MD - Family Medicine, Post Graduate Diploma in Diabetology (PGDD)'\n",
      " 'MBBS, MSc' 'Diploma in Otorhinolaryngology (DLO), MS - ENT, MBBS'\n",
      " 'MBBS, Diploma in Family Medicine (DFM)' 'MD - General Medicine, MBBS'\n",
      " 'DNB - ENT, Diploma in Otorhinolaryngology (DLO), MBBS'\n",
      " 'MBBS, MD - Dermatology, MD - Dermatology , Venereology & Leprosy'\n",
      " 'MBBS, Diploma in Child Health (DCH), DNB - Paediatrics' 'BSc, BHMS'\n",
      " 'BAMS, MD- Ayurveda Rasashastra'\n",
      " 'BAMS, PG Dip (Medical Education), Fellow of Academy of General Education (FAGE), MBA (Health Care)'\n",
      " 'MS - Otorhinolaryngology, MBBS'\n",
      " 'BAMS, MD - Alternate Medicine, Fellow of Academy of General Education (FAGE), Diploma in Preventive & Promotive Healthcare'\n",
      " 'BHMS, MD - General Medicine'\n",
      " 'MDS - Oral & Maxillofacial Surgery, Implant Training Course- Nobel Biocare, BDS'\n",
      " 'MBBS, Diploma in Dermatology, MD - Dermatology'\n",
      " 'MBBS, Certificate Course in Evidence Based Diabetes Management (CCEBDM)'\n",
      " 'DDVL' 'BHMS, DNHE' 'BAMS, Diploma in Clinical Nutrition'\n",
      " 'BHMS, MD - Alternate Medicine, Masters in Counselling and Psychotherapy'\n",
      " 'MBBS, MD - Internal Medicine, Post Graduate Diploma in Diabetology (PGDD), Fellowship in Diabetology'\n",
      " 'Diploma in Otorhinolaryngology (DLO), MBBS'\n",
      " 'MBBS, DNB - ENT, MS - ENT, FCPS - Oto-Rhino-Laryngology, Diploma in Otorhinolaryngology (DLO)'\n",
      " 'BDS, MDS - Paedodontics And Preventive Dentistry, Certification for Professional Chemical Peel Workshop'\n",
      " 'BHMS, Diploma in Cosmetology, MD - Dermatology'\n",
      " 'BAMS, M. D. IN KAYACHIKISTA' 'MBBS, MD - Pharmacology'\n",
      " 'MBBS, Fellowship of College of General Practice (FCGP)'\n",
      " 'MDS - Periodontology and Oral Implantology, BDS'\n",
      " 'MD - Homeopathy, PGDPC (Post Graduation Diploma In Psychological Counselling)'\n",
      " 'MBBS, DNB - Family Medicine'\n",
      " 'MBBS, MS - ENT, Diploma in Aesthetic Medicine'\n",
      " 'BDS, Post-Graduate Certificate in Oral Implantology (PGCOI)'\n",
      " 'BDS, MDS - Oral & Maxillofacial Surgery'\n",
      " 'MDS - Prosthodontist And Crown Bridge' 'MD - Homeopathy, BHMS, DNHE'\n",
      " 'MBBS, MD - Dermatology, Fellow of the American Academy of Dermatology (FAAD)'\n",
      " 'BAMS, MBA (HCS)' 'MBBS, DVD'\n",
      " 'MBBS, Diploma in Anesthesiology, Postgraduate Diploma Clinical Cardiology (PGDCC)'\n",
      " 'BHMS, MD - Ayurveda Medicine'\n",
      " 'MBBS, MASTERS IN MEDICAL SCIENCE AND TECHNOLOGY'\n",
      " 'DNB - Dermatology & Venereology, MBBS'\n",
      " 'BDS, MDS-Oral Pathology and Oral Microbiology' 'MBBS, MS - ENT, DNB'\n",
      " 'MBBS, Post Graduate Diploma in Diabetes, Fellowship in Diabetology'\n",
      " 'MD - Homeopathy, DHMS (Diploma in Homeopathic Medicine and Surgery)'\n",
      " 'MBBS, MS - ENT, DNB - ENT' 'MBBS, DDV, Diploma in Health Administration'\n",
      " 'BDS, Advanced Certificate Course in Dental Implants'\n",
      " 'MBBS, Diploma in Otorhinolaryngology (DLO), Fellow of Academy of General Education (FAGE), FRCS - General Surgery'\n",
      " 'BDS, MDS - Periodontics, Fellowship and Diplomate in Implantology from ICOI (USA), DICOI'\n",
      " 'MD - Dermatology , Venereology & Leprosy' 'BHMS, PGDHA'\n",
      " 'MBBS, MD - General Medicine, MRCP - General Medicine'\n",
      " 'BDS, MDS - Periodontics, MSc'\n",
      " 'BDS, Certification in Aesthetic Dentistry'\n",
      " 'MBBS, MD - Homeopathy, MD - General Medicine' 'MDS - Pedodontics, BDS'\n",
      " 'MBBS, MD - Dermatology, DNB - Dermatology & Venereology, F.C.P.S (Dermatology)'\n",
      " 'MD - Homeopathy'\n",
      " 'BDS, MDS - Oral & Maxillofacial Surgery, Training in Surgical Oncology'\n",
      " 'MBBS, MD - General Medicine, FCD - Diabetology'\n",
      " 'MBBS, Post Graduate Course in Diabetology, DipFM'\n",
      " 'Diploma in Child Health (DCH), MBBS'\n",
      " 'MD - General Medicine, DNB, Diploma in Geriatric Medicine'\n",
      " 'BAMS, Certificate Course in Kshar Sutra Surgery'\n",
      " 'MBBS, DORL (ENT), MS - ENT' 'MBBS, MD - Dermatology, DNB'\n",
      " 'MBBS, MD - General Medicine, Diploma in Cardiology'\n",
      " 'MBBS, MD - Oncology' 'BHMS, MD - Homeopathy, MA - Clinical Psychology'\n",
      " 'Diploma in Dermatology, MD - Dermatology'\n",
      " 'MBBS, PG in Diabetology, FCCP'\n",
      " 'MBBS, Diploma in Child Health (DCH), Diploma of The Australian Institute of Dermatology, PG Diploma in Endocrinology'\n",
      " 'MBBS, MD - Medicine, DM - Cardiology, FACC, FESC'\n",
      " 'BSc - Dietitics / Nutrition, MBBS, Diploma in Child Health (DCH)'\n",
      " 'MBBS, Diploma in Tuberculosis and Chest Diseases (DTCD), DNB - General Medicine'\n",
      " 'BHMS, MSc' 'MBBS, MD - General Medicine, CCEDM'\n",
      " 'BDS, MDS, Fellowship in Oral implantlogy'\n",
      " 'MBBS, MD - General Medicine, DM - Cardiology, FIAMS'\n",
      " 'BAMS, Certificate in Food and Nutrition, Diploma in Dietatics & Clinical Nutrition'\n",
      " 'MBBS, DNB - General Medicine, Fellowship in Diabetology(Johns Hopkins University School of Medicine, USA)'\n",
      " 'DDVL, Diploma in Dermatology' 'Diploma in Hospital Administration, BAMS'\n",
      " 'BAMS, MS - Ayurveda, Certificate in Child Health (CCH)'\n",
      " 'MBBS, MD - Internal Medicine, DNB - General Medicine, Post Graduate Diploma in Diabetology (PGDD)'\n",
      " 'MBBS, DDVL, Fellowship in Cosmetology and Dermatosurgery, Fellowship in Aesthetic Medicine'\n",
      " 'MBBS, MS - General Surgery, MS - Paediatrics Surgery'\n",
      " 'MBBS, MD - Dermatology, DVL - Dermatology & Venereology'\n",
      " 'MBBS, Post Graduate Course in Diabetology, FCPS - General Surgery'\n",
      " 'DMS, MD - Homeopathy' 'MDS, BDS' 'MDS - Pedodontics'\n",
      " 'BAMS, BSAM, MS - Counselling & Psychotherapy'\n",
      " 'MBBS, Advanced Certificate Course In Diabetes, PG in Diabetology, Post Graduate Diploma in Diabetology (PGDD)(University of Leicester, UK)'\n",
      " 'B.Sc, MBBS, MD - General Medicine, Master of Clinical Embryology, Diploma of Clinical Hypnotherapy'\n",
      " 'BDS, B.Sc - Zoology (Hons.)'\n",
      " 'MBBS, Fellowship in Diabetology, Diploma in Emergency Medicine'\n",
      " 'MBBS, PGD ND'\n",
      " 'DHMS (Diploma in Homeopathic Medicine and Surgery), MD - Homeopathy'\n",
      " 'MBBS, MD - Skin & VD'\n",
      " 'BHMS, Certificate Course in Advanced Homoeopathy (C.C.A.H), Post Graduate Diploma in Emergency Medical Services'\n",
      " 'BHMS, PG - Homeo' 'MBBS, DDV, FCPS - Dermatology, Venereology & Leprosy'\n",
      " 'B.Sc, BHMS, Certificate in Food and Nutrition, Certificate Course in Advanced Homoeopathy (C.C.A.H)'\n",
      " 'MBBS, MD - General Medicine, DNB - Nephrology'\n",
      " 'MBBS, MD - Dermatology, MNAMS - DERMATOLOGY, Diploma in Dermatology'\n",
      " 'MBBS, MD - Family Medicine'\n",
      " 'BAMS, Post Graduate Diploma in Emergency Services (PGDEMS), MS - Psychology'\n",
      " 'BHMS, CGO' 'MBBS, Post Graduate Diploma in Diabetology (PGDD)'\n",
      " 'MBBS, MD - General Medicine, DDV'\n",
      " 'MBBS, Fellowship in Emergency Medicine, Post Graduate Diploma in Diabetology (PGDD)(Madras Medical College), PG Diploma in Endocrinology'\n",
      " 'BDS, Professional Implantology Training Course (PITC), Advanced Surgical Training In Implants, Certification in Full Mouth Rehabilitation'\n",
      " 'MS - ENT, DNB - ENT' 'MBBS, MS - General Surgery, MCh - Neuro Surgery'\n",
      " 'MS - Otorhinolaryngology, DNB - Otorhinolaryngology, FCPS - Mid. & Gynae, MBBS'\n",
      " 'MBBS, Post Graduate Diploma in Diabetology (PGDD), MD - General Medicine'\n",
      " 'DNB - Family Medicine, MBBS, DHM' 'MBBS, Diploma in Child Health (DCH)'\n",
      " 'MDS - Operative Dentistry, BDS'\n",
      " 'BDS, Post Graduate Diploma In Aesthetic & Restorative Dentistry'\n",
      " 'MBBS, DDV, MD - Skin & VD' 'MBBS, DNB - ENT, DNB - Otorhinolaryngology'\n",
      " 'MBBS, MS - ENT, MCh - Oncology'\n",
      " 'MD - General Medicine, FRCP, FIAMS, MBBS'\n",
      " 'BDS, Diploma in Hospital Administration' 'MBBS, DM - Neurology'\n",
      " 'MS - ENT, DNB - ENT, MBBS'\n",
      " 'MBBS, MS - Otorhinolaryngology, MS - ENT, Fellowship in Rhinology and Endoscopic Skull Base Surgery, Fellowship in Head & Neck Surgery'\n",
      " 'MBBS, DDV, MD - Skin,VD & Leprosy'\n",
      " 'Post Graduate Certificate in Endodontics (PGCE), BDS'\n",
      " 'MBBS, D.D, MD - Dermatology'\n",
      " 'MBBS, MD - Dermatology, PhD - Dermatology & Venereology' 'BSAM'\n",
      " 'MBBS, MD - Dermatology, Fellowship in Dermatological Laser Surgery'\n",
      " 'MBBS, MD - Microbiology' 'BAMS, PG in Clinical Nutrition and Dietetics'\n",
      " 'MD-DVL, MBBS, DNB - Dermatology & Venereology'\n",
      " 'MBBS, MS - General Surgery, Diploma in Otorhinolaryngology (DLO)'\n",
      " 'MBBS, DNB - Obstetrics & Gynecology'\n",
      " 'MBBS, Diploma of the Faculty of Family Planning (DFFP), Diploma in Practical Dermatology, MRCGP'\n",
      " 'MBBS, DDV, Fellow of Academy of General Education (FAGE)'\n",
      " 'MBBS, Diploma in Cosmetology'\n",
      " 'MS - ENT, MBBS, DNB - Otorhinolaryngology' 'MS - Ayurveda, BAMS'\n",
      " 'MBBS, DDVL, Certificate of Completion of Specialist Training- Transplant Surgery (CCST-TS)'\n",
      " 'MBBS, MD - General Medicine, DM - Cardiology, Fellowship In Interventional Cardiology'\n",
      " 'MBBS, DNB - Dermatology & Venereology, Fellow of the American Academy of Dermatology (FAAD), DVD'\n",
      " 'MBBS, Fellowship in Diabetology' 'BAMS, MS - Psychology'\n",
      " 'MBBS, MS - MS.Medicine'\n",
      " 'MBBS, MD - Dermatology, Diploma in Medical Law and Ethics (PGDMLE), Diploma in Medical Cosmetology'\n",
      " 'MBBS, MD - Dermatology , Venereology & Leprosy, FRGUHS'\n",
      " 'MBBS, Diploma in Otorhinolaryngology (DLO), FAMS - Fellowship of the Academy Medicine'\n",
      " 'BDS, MDS - Prosthodontist & Oral Implantologist, Fellowship in Oral implantlogy'\n",
      " 'Diploma in Otorhinolaryngology (DLO), MBBS, DNB'\n",
      " 'BHMS, Post Graduate Diploma in Emergency Services (PGDEMS), PGDPC (Post Graduation Diploma In Psychological Counselling)'\n",
      " 'MBBS, DDV, DDVL' 'MBBS, MS - Orthopaedics' 'BDS, MDS - Endodontics'\n",
      " 'MBBS, Post Graduate Diploma in Maternity and Child Health (PGDMCH)'\n",
      " 'B.Sc, MSc, MBBS' 'BDS, Master of Public Health (MPH)'\n",
      " 'BHMS, Diploma in Nutrition and Health Education' 'MBBS, DGO'\n",
      " 'MBBS, Fellowship in Nephrology' 'MBBS, Diploma in Diabetology'\n",
      " 'BAMS, Post Graduate Diploma in Clinical Research (PGDCR)'\n",
      " 'BDS, Certificate Course in Implantology'\n",
      " 'BDS, Diploma in Health Administration' 'BDS, MBA (Health Care)'\n",
      " 'Diploma in Aesthetic Medicine, Certificate in Aesthetic Medicine, Diploma in Practical Dermatology, MBBS'\n",
      " 'MDS - Paedodontics And Preventive Dentistry, BDS, Certified in Inhalational Sedation'\n",
      " 'BHMS, PG Diploma in Preventive and Promotive Health Care (PGD PPHC), MSc. - Food Service Management & Dietetics, Certificate in Yoga & Meditation'\n",
      " 'MBBS, MD - Physiology, AFIH, Diploma in Diabetes Management Certificate Program'\n",
      " 'MBBS, MD - General Medicine, Post Graduate Diploma in Diabetology (PGDD), Post Graduate Diploma in Diabetology (PGDD)'\n",
      " 'MD - Ayurveda Medicine, BAMS'\n",
      " 'MBBS, DVD, DNB - Dermatology & Venereology'\n",
      " 'BDS, Certificate in Dental Implants, Certificate in Cosmetic Dentistry'\n",
      " 'MBBS, DDVL, DNB - Dermatology & Venereology, MNAMS (Membership of the National Academy)'\n",
      " 'BAMS, Post Graduate Diploma in Psychological Counseling'\n",
      " 'Diploma in Dermatology' 'BDS, MDS - Public Health Dentistry'\n",
      " 'MD - Dermatology , Venereology & Leprosy, DNB - Dermatology & Venereology'\n",
      " 'MBBS, DDVL, Certificate in Cosmetology'\n",
      " 'BHMS, PG - Homeo, Diploma in Diet and Nutrition' 'MBBS, DOMS'\n",
      " 'MS - Otorhinolaryngology, DNB - ENT, MBBS'\n",
      " 'BSc - Zoology, MBBS, Diploma in ENT, MS - ENT'\n",
      " 'MBBS, Diploma in Clinical Dermatology (UK)'\n",
      " 'Diploma in Ayurvedic Medicine (DAM)'\n",
      " 'MBBS, M.Med in Family Medicine, post graduate diploma in health Sciences in diabetology'\n",
      " 'MBBS, MS - ENT, Diploma in ENT'\n",
      " 'MBBS, Post Graduate Diploma in Dermotology (PGDD)'\n",
      " 'BAMS, MD - Alternate Medicine, Post Graduate Diploma in Clinical Research (PGDCR), Certificate in Aesthetic Medicine, Yoga Teachers Training Course, Certified in Ayurveda Approach to Diabetes mellitus, Certified in Ayurveda Beauty care'\n",
      " 'MBBS, DNB, DDVL' 'BAMS, PG Diploma in Panchakarma'\n",
      " 'MBBS, DNB, Master of Hospital Administration' 'BHMS, MD - Medicine'\n",
      " 'MBBS, DNB - Respiratory Diseases, FCCP - Pulmonary Medicine, DAA - Diploma in Allergy Asthma and Immunology, P.G Diploma in Diabetes Management, Fellowship in Clinical Cardiology'\n",
      " 'MBBS, MD - Dermatology, Diploma in Aesthetic Medicine, Diploma in International Academy of Aesthestic Medicine'\n",
      " 'MBBS, MD - Dermatology , Venereology & Leprosy, DNB - Dermatology & Venereology'\n",
      " 'MBBS, MS - General Surgery, DNB, FRCS - General Surgery, MCh - Surgical Gastroenterology/G.I. Surgery'\n",
      " 'BPTh/BPT, Masters Of Physiotheraphy, BAMS'\n",
      " 'MBBS, MD - Dermatology, Diploma in Dermatology'\n",
      " 'MBBS, MRCGP, Diploma in Child Health (DCH), DRCOG, Diploma of the Faculty of Family Planning (DFFP)'\n",
      " 'BDS, MDS - Operative Dentistry'\n",
      " 'MBBS, MD - Dermatology, Fellow of Academy of General Education (FAGE)'\n",
      " 'MBBS, MD - Dermatology, FRGUHS' 'BAMS, Diploma in Hospital Management'\n",
      " 'DDVL, MD - Dermatology , Venereology & Leprosy'\n",
      " 'BDS, Certificate in Orthodontics'\n",
      " 'MD - General Medicine, DNB - General Medicine, MBBS, European Diploma in Intensive Care Medicine (EDIC), Fellowship in Diabetology'\n",
      " 'MBBS, MD - TB & Chest' 'MBBS, DDVL, DNB - Dermatology & Venereology'\n",
      " 'MBBS, FRCS - Otolaryngology' 'BDS, MDS - Oral Medicine'\n",
      " 'MBBS, Diploma in Orthopaedics, MS - Orthopaedics'\n",
      " 'MD - Homeopathy, Diploma in Acupuncture'\n",
      " 'BDS, Fellowship in Aesthetic Medicine' 'MBBS, MD - Physician'\n",
      " 'MBBS, MD - General Medicine, Post Graduate Diploma in Diabetology (PGDD), Fellowship In Critical Care, Fellowship in Rheumatology'\n",
      " 'BDS, Fellowship in Oral implantlogy, Diploma in Laser Dentistry, Fellowship and Diplomate in Implantology from ICOI (USA)'\n",
      " 'MBBS, MD - Skin,VD & Leprosy' 'BAMS, Diploma in Emergency Medicine'\n",
      " 'BDS, PG Diploma in Conservative, Endodontics and Aesthetic Dentistry, Fellowship In Clinical Cosmetology, PG Diploma In Clinical Cosmetology (PGDCC), MBA - Hospital Management, Diploma in Cosmetic Dentistry, Fellow of Academy of General Education (FAGE), Advanced Retreatment Course in RCT, Advanced Endotontic Course On Root Canal, Certified Course in Oral Surgery, MIDA, Certification in Prosthodontics & Periodontology, Certified Advanced Course in Wisdom Tooth Extraction, Certificate in Cosmetic Dentistry, Fellowship in Aesthetic Dentistry (FAD), Post Graduate Certificate in Endodontics (PGCE)'\n",
      " 'FAMS - Fellowship of the Academy Medicine, MBBS, MS - ENT, Diploma in ENT, Specialized Training in Otology, Fellowship in Head & Neck Oncology Surgery, Advanced Endoscopy Training, Cochlear Implant Surgery, Advance Course on Diagnosis of Allergy and Immunotherapy'\n",
      " 'BDS, MDS - Conservative Dentistry & Endodontics, MD - Dental Laser'\n",
      " 'BHMS, MD - Homeopathy, MS - Counselling and Psychotherapy'\n",
      " 'BAMS, Fellowship in Medical Cosmetology' 'MDS - Periodontics, BDS, MDS'\n",
      " 'MBBS, MD - General Medicine, DM - Gastroenterology'\n",
      " 'MBBS, MS - Otorhinolaryngology, DNB'\n",
      " 'Diploma in Dermatology, MD - Skin,VD & Leprosy, MBBS'\n",
      " 'MBBS, MD - Alternate Medicine'\n",
      " 'BHMS, BHMS, Certificate in Child Health (CCH)'\n",
      " 'MBBS, MD - Aerospace Medicine, DIH, Diploma in Hospital Administration, Fellowship of College of General Practice (FCGP)'\n",
      " 'BDS, MDS - Orthodontics and Dentofacial Orthopaedics, Certificate of Oral Implantology'\n",
      " 'BHMS, MD - Alternate Medicine' 'MD - Skin & VD, MBBS'\n",
      " 'BAMS, Fellow of Academy of General Education (FAGE), Post Graduate Diploma In Yoga'\n",
      " 'MBBS, MSc - Clinical Dermatology'\n",
      " 'MBBS, Post Graduate Diploma in Medical Law and Ethics, Msc Clinical Research & Regulatory Affairs, Diploma in Family Medicine (DFM)'\n",
      " 'BDS, PGCAD'\n",
      " 'MBBS, MD - Cardiology, DM - Cardiology, FCCP - Pulmonary Medicine'\n",
      " 'DHMS (Diploma in Homeopathic Medicine and Surgery), Diploma in Trichology - Cosmetology, Diploma in Obesity & Pain management'\n",
      " 'BHMS, Diploma in Diet and Nutrition'\n",
      " 'MBBS, FCPS - Dermatology, Venereology & Leprosy'\n",
      " 'BDS, Certification in Clear Aligners, MDS - Orthodontics'\n",
      " 'MBBS, MD - General Medicine, Fellowship in Diabetes (UK), CCEBDM, CCT - Endocrinology and Diabetes Mellitus'\n",
      " 'MBBS, DNB - Dermatology & Venereology, DDV, DVD'\n",
      " 'MBBS, Fellowship in Diabetology, Certificate Course in Gestational Diabetes Mellitus'\n",
      " 'BHMS, MD - Homeopathy, MBA - Hospital Management'\n",
      " 'MBBS, DNB - Internal Medicine, M.H.Sc-Diabetology'\n",
      " 'DNB - Dermatology, Venereology & Leprosy, MBBS, DDVL'\n",
      " 'DNB - Pediatrics, MBBS'\n",
      " 'M.D. (Ayu.), Panchkarma, Consultant Rheumatologist (Ayu.), DYSc., BAMS'\n",
      " 'MBBS, Diploma in Clinical Dermatology (UK), Diploma In Skin Aesthetics'\n",
      " 'MBBS, MD - Medicine, DM - Nephrology'\n",
      " 'MBBS, MS - General Surgery, MD - Medicine'\n",
      " 'MD - Dermatology , Venereology & Leprosy, DNB, MRCP (UK)'\n",
      " 'MBBS, DDV, DNB, MD - Dermatology'\n",
      " 'MBBS, MS - ENT, Fellowship In Phonosurgery' 'Diploma in ENT, MBBS'\n",
      " 'BHMS, MD - Medicine, PhD - Medicine'\n",
      " 'BHMS, Certificate in Food and Nutrition'\n",
      " 'BAMS, DNHE, Certification In Yoga' 'MBBS, DLO, DNB - ENT'\n",
      " 'MBBS, MD - General Medicine, DM - Medical Oncology'\n",
      " 'MBBS, MD - Dermatology , Venereology & Leprosy, Fellowship In Dermatosurgery, Certificate Course In Cosmetic Dermatology & Lasers'\n",
      " 'MD - Practice Of Medicine, BHMS, Diploma in Trichology - Cosmetology, Certificate in Child Health (CCH), CGO, MBBS'\n",
      " 'MBBS, DPM (Psychiatry)'\n",
      " 'MBBS, Diploma in Otorhinolaryngology (DLO), MS - ENT, FRCS - General Surgery'\n",
      " 'MBBS, MD - Community Medicine'\n",
      " 'MBBS, MD - General Medicine, Post Graduate Diploma in Diabetology (PGDD)(Madras Medical College)'\n",
      " 'MD - Dermatology, DNB - Dermatology & Venereology, MBBS'\n",
      " 'MS - Otorhinolaryngology, DNB - ENT, DHM, MBBS'\n",
      " 'B.Sc, BAMS, MD - Yoga and Rehab' 'MBBS, MD - Skin & VD, MAMS'\n",
      " 'MBBS, PG Diploma In Emergency Trauma Care, ACLS'\n",
      " 'MBBS, DDVL, Fellowship in Pediatric Dermatology'\n",
      " 'MBBS, DNB - Dermatology, Venereology & Leprosy'\n",
      " 'MBBS, DDVL, Fellowship IN FUE Hair Transplant Technique'\n",
      " 'MBBS, Postgraduate Diploma Clinical Cardiology (PGDCC), PG Diploma in Human Rights'\n",
      " 'MBBS, DNB - Paediatrics, Diploma in Child Health (DCH)'\n",
      " 'MBBS, Diploma in Dermatology, Diploma in Medical Cosmetology'\n",
      " 'MBBS, DDVL, AFIH' 'MBBS, MS - Otorhinolaryngology, MS - ENT'\n",
      " 'MD - Panchakarma, BAMS' 'DNB - General Medicine, MD - Physician'\n",
      " 'MBBS, MD - Family Medicine, Post Graduate Diploma in Diabetes, Certification Course In Diabetes'\n",
      " 'MD - Dermatology , Venereology & Leprosy, Fellow of the American Academy of Dermatology (FAAD), MBBS'\n",
      " 'MD - Homeopathy, PGCR'\n",
      " 'BDS, MDS - Endodontics, Certification in Laser Dentistry'\n",
      " 'MBBS, Diploma in Otorhinolaryngology (DLO), DNB - Ophthalmology'\n",
      " 'BAMS, MD - Ayurveda Medicine, Fellowship in Sexual Medicine, Fellowship in Rheumatology'\n",
      " 'MBBS, MD - Dermatology, DNB - Dermatology & Venereology, Fellowship in Cosmetology'\n",
      " 'MDS - Community Dentistry, BDS' 'MBBS, DNB - Nephrology'\n",
      " 'MBBS, MD - General Medicine, Post Graduate Diploma in Diabetology (PGDD)'\n",
      " 'MBBS, MD - General Medicine, Post Graduate Diploma in Diabetology (PGDD), Certificate Course in Evidence Based Diabetes Management (CCEBDM), FRCP'\n",
      " 'BAMS, MD-Ayurvedic Vachaspati'\n",
      " 'BAMS, MD - Ayurveda Medicine, MBA - Hospital Management'\n",
      " 'MBBS, DNB - ENT, Fellowship in Neuro-Otology and Skull Base Surgery (USA)'\n",
      " 'BDS, MDS - Orthodontics and Dentofacial Orthopaedics, Certificate of Oral Implantology, Fellowship in Aesthetic Medicine, Invisalign Training Course'\n",
      " 'MBBS, MS - General Surgery, FRCS - General Surgery, MCh - Urology, DNB - Urology/Genito - Urinary Surgery'\n",
      " 'MBBS, AFIH, Fellowship in Diabetology'\n",
      " 'BDS, MDS - Prosthodontist And Crown Bridge, Fellowship in Oral implantlogy'\n",
      " 'MBBS, DVL, MD - Dermatology , Venereology & Leprosy'\n",
      " 'BHMS, Fellowship in Medical Cosmetology (FMC)'\n",
      " 'MBBS, MD - Dermatology, DNB - Dermatology & Venereology'\n",
      " 'MBBS, DDVL, Fellowship In Dermatosurgery'\n",
      " \"BAMS, Master of Arts - Yoga, Yoga Instructor's Course\"\n",
      " 'MBBS, MS - Otorhinolaryngology, Fellowship in Head & Neck Oncology Surgery, Fellowship in Skull Base Surgery, Fellowship in Head & Neck Oncology Surgery'\n",
      " 'PhD - Orthodontics & Dentofacial Orthopaedics, BDS' 'FICD'\n",
      " 'MBBS, BDS, FDSRCS - Fellowship in Dental Surgery'\n",
      " 'MDS - Endodontics, BDS'\n",
      " 'MS - ENT, Diploma in Otorhinolaryngology (DLO), Diploma in Opthalmology, MBBS'\n",
      " 'BHMS, M.Phil - Psychology, MSc - Applied Psychology'\n",
      " 'MS - Otorhinolaryngology, Diploma in Otorhinolaryngology (DLO)'\n",
      " 'MBBS, DNB - ENT'\n",
      " 'MBBS, MS - Otrohinolaryngology, DNB - Otorhinolaryngology'\n",
      " 'MD - Internal Medicine, MBBS' 'DNB - ENT, MS - ENT, MBBS'\n",
      " 'BDS, MDS - Prosthodontist And Crown Bridge, FICOI'\n",
      " 'MBBS, MS - Otorhinolaryngology, Diploma in Otorhinolaryngology (DLO), Diploma in Health Administration'\n",
      " 'DEHM, BEMS' 'BDS, MDS - Conservative Dentistry & Endodontics, DNB'\n",
      " 'MBBS, MD - Dermatology , Venereology & Leprosy, DDV' 'BAMS, MSc - Yoga'\n",
      " 'MBBS, DPH & H'\n",
      " 'BHMS, Certificate Course in Advanced Homoeopathy (C.C.A.H)'\n",
      " 'MD - Medicine, MBBS'\n",
      " 'MBBS, DDV, Fellowship in Dermatological Laser Surgery'\n",
      " 'MBBS, DNB - Pediatrics, Fellowship in Paediatric gastroenterology & Hepatology, Fellowship In Transplant Hepatology'\n",
      " 'DNB - Dermatology & Venereology, MNAMS - DERMATOLOGY, F.C.P.S (Dermatology), DDV, MBBS'\n",
      " 'MS - Otorhinolaryngology, DNB - Otorhinolaryngology, MBBS'\n",
      " 'MBBS, MD - General Medicine, DNB' 'DDVL, MBBS, F.A.M'\n",
      " 'BAMS, MD - Internal Medicine, Diploma in Emergency Medicine, Post Graduate Diploma In Yoga'\n",
      " 'MBBS, Post Graduate Diploma in Diabetology (PGDD), PG in Diabetology(Johns Hopkins University School of Medicine, USA)'\n",
      " 'BHMS, Post Graduate Diploma In Yoga'\n",
      " 'MBBS, MD - General Medicine, DNB - Neurology' 'LCEH, MD - Homeopathy'\n",
      " 'MRCGP, Post Graduate Diploma in Diabetology (PGDD)(University of Leicester, UK), MBBS'\n",
      " 'MBBS, MD - Dermatology , Venereology & Leprosy, MRCPS' 'MDS'\n",
      " 'MBBS, Post Graduate Diploma in Diabetology (PGDD), Certificate Course in Evidence Based Diabetes Management (CCEBDM)'\n",
      " 'MBBS, MS - ENT, Diploma in Otorhinolaryngology (DLO), FRCS - General Surgery'\n",
      " 'MBBS, MD - General Medicine, DM - Nephrology'\n",
      " 'MBBS, MD - Dermatology, DVL'\n",
      " 'BHMS, MD - Homeopathy Psychiatry, Post Graduate Diploma in Clinical Research (PGDCR), MS - Psychology'\n",
      " 'BAMS, MS - Counselling and Psychotherapy'\n",
      " 'FPFA, BDS, FPFA, MDS - Conservative Dentistry & Endodontics'\n",
      " 'MBBS, MD - Internal Medicine, DNB - General Medicine'\n",
      " 'DHMS (Diploma in Homeopathic Medicine and Surgery), PhD - Homoeopathy'\n",
      " 'MBBS, Fellow of Academy of General Education (FAGE), BSc - Dietitics / Nutrition'\n",
      " 'MBBS, MS - Otorhinolaryngology, DNB - Otorhinolaryngology'\n",
      " 'MBBS, Post Graduate Diploma in Diabetology (PGDD), MD - Diabetology'\n",
      " 'MBBS, M.D. (Psychiatry)'\n",
      " 'MBBS, MBBS, MD - General Medicine, MD - Community Medicine, MD - Medicine'\n",
      " 'BDS, Certificate in Dental Implants, Certificate in Dental Implants'\n",
      " 'Diploma in Cardiology, MBBS, MD - General Medicine, PG in Diabetology'\n",
      " 'MBBS, MRCGP, Diploma in Diabetes'\n",
      " 'DHMS, DHMS (Diploma in Homeopathic Medicine and Surgery)'\n",
      " 'MBBS, MS - ENT, Specialized Training in Otology'\n",
      " 'MBBS, MD - Dermatology , Venereology & Leprosy, DLO'\n",
      " 'MBBS, MS - General Surgery, MCh - Plastic Surgery'\n",
      " 'MBBS, MD - Dermatology, DDV, DNB' 'MBBS, Diploma in Acupuncture'\n",
      " 'MBBS, Post Graduate Diploma in Diabetology (PGDD), Diploma in Family Medicine (DFM)'\n",
      " 'MRCS (UK), MBBS, MS - Otorhinolaryngology'\n",
      " 'MS - Otorhinolaryngology, DNB - ENT'\n",
      " 'MBBS, Graduate Diploma in Family Medicine, Singapore'\n",
      " 'BDS, Certification in Full Mouth Rehabilitation'\n",
      " 'MRCP (UK), Diploma in Dermatology, MBBS' 'MBBS, DDVL, MD - Skin & VD'\n",
      " 'BDS, Diploma in Laser Dentistry'\n",
      " 'DM - Pulmonary Medicine, MBBS, DM - Critical Care Medicine'\n",
      " 'BHMS, Diploma in Dermatology (Alt)'\n",
      " 'BDS, Certificate in Dental Implantology'\n",
      " 'MBBS, MS - General Surgery, Fellow of Academy of General Education (FAGE), Diploma in Laparoscopy'\n",
      " 'MBBS, MD - Skin,VD & Leprosy, Fellow of the American Academy of Dermatology (FAAD), DNB - Dermatology & Venereology'\n",
      " 'BHMS, PGDPC (Post Graduation Diploma In Psychological Counselling), Post Graduate Diploma in Emergency Services (PGDEMS)'\n",
      " 'BDS, MDS - Oral Pathology & Bacteriology'\n",
      " 'MDS - Orthodontics, BDS, MOrth' 'BAMS, DNHE'\n",
      " 'MBBS, MD - Tuberculosis & Respiratory Diseases / Pulmonary Medicine'\n",
      " 'MBBS, Post Graduate Diploma in Family Medicine (PGDFM)'\n",
      " 'MD - Physician, FDIAB, Post Graduate Diploma in Diabetology (PGDD)'\n",
      " 'MBBS, FCCP, CCEBDM' 'MS - Otorhinolaryngology, MBBS, DNB - ENT'\n",
      " 'MBBS, DM - Cardiology, MD - Medicine'\n",
      " 'MD - General Medicine, MBBS, DM - Cardiology'\n",
      " 'MDS - Prosthodontist And Crown Bridge, Certificate of Oral Implantology, BDS'\n",
      " 'MBBS, MD - Rheumatology'\n",
      " 'MD - Physician, PGDHSc, Diploma in Diabetology, Postgraduate Diploma Clinical Cardiology (PGDCC), Fellowship in Diabetology(Johns Hopkins University School of Medicine, USA)'\n",
      " 'MS - ENT, DNB - ENT, MBBS, MRCS (UK), MNAMS (Membership of the National Academy)'\n",
      " 'BDS, Fellowship in Oral implantlogy, Certificate of Oral Implantology'\n",
      " 'BAMS, D-Pharm' 'MBBS, MD - Medicine, Fellowship in Diabetes Management'\n",
      " 'BAMS, Diploma in Cosmetology, Diploma in Health Administration'\n",
      " 'MS - General Surgery, MBBS'\n",
      " 'BAMS, M.S. (Ayurved) Stri Roga & Prasuti Tantra'\n",
      " 'MBBS, DNB - Neurology, DNB - General Medicine' 'MBBS, DDVL, DDV'\n",
      " 'BHMS, Post Graduate Diploma in Emergency Medical Services, DHMS (Diploma in Homeopathic Medicine and Surgery)'\n",
      " 'Certification in Aesthetic Dentistry, MDS - Orthodontics, BDS'\n",
      " 'DPM (Psychiatry), MBBS' 'MBBS, MD - Dermatology, DDVL'\n",
      " 'BDS, MDS - Orthodontics, Certificate of Oral Implantology'\n",
      " 'MD - Acupuncture, PG Diploma In Clinical Cosmetology (PGDCC), BDS'\n",
      " 'MBBS, PGDHA'\n",
      " 'BDS, MDS - Prosthodontist And Crown Bridge, Certificate of Oral Implantology'\n",
      " 'MBBS, MRCOG(UK)'\n",
      " 'MD - Medicine, Post Graduate Diploma in Diabetology (PGDD), MBBS, FRCP - Internal Medicine'\n",
      " 'MDS - Periodontics' 'MBBS, MS - General Surgery, FAIS, FIAGES'\n",
      " 'MBBS, MD - Dermatology , Venereology & Leprosy, DNB - Dermatology, Venereology & Leprosy'\n",
      " 'BAMS, Doctor of Medicine' 'MBBS, MD / MS - Obstetrics & Gynaecology']\n",
      "BAMS                                                                       153\n",
      "BHMS                                                                       150\n",
      "BDS                                                                        144\n",
      "MBBS                                                                       107\n",
      "MBBS, MD - Dermatology                                                      64\n",
      "                                                                          ... \n",
      "BHMS, MD - Alternate Medicine, Masters in Counselling and Psychotherapy      1\n",
      "MBBS, MS - General Surgery, MD - Medicine                                    1\n",
      "MBBS, MD - Medicine, FCPS - General Surgery                                  1\n",
      "Diploma in Child Health (DCH), MBBS                                          1\n",
      "BDS, Fellowship in Oral implantlogy, Certificate of Oral Implantology        1\n",
      "Name: Qualification, Length: 630, dtype: int64\n",
      "*****************************************************************************************\n",
      "\n",
      "\n",
      "Experience  :  ['35 years experience' '31 years experience' '40 years experience'\n",
      " '0 years experience' '16 years experience' '14 years experience'\n",
      " '23 years experience' '9 years experience' '11 years experience'\n",
      " '44 years experience' '4 years experience' '34 years experience'\n",
      " '13 years experience' '28 years experience' '6 years experience'\n",
      " '32 years experience' '3 years experience' '8 years experience'\n",
      " '43 years experience' '27 years experience' '22 years experience'\n",
      " '25 years experience' '36 years experience' '17 years experience'\n",
      " '20 years experience' '18 years experience' '29 years experience'\n",
      " '5 years experience' '19 years experience' '10 years experience'\n",
      " '2 years experience' '30 years experience' '24 years experience'\n",
      " '26 years experience' '41 years experience' '46 years experience'\n",
      " '21 years experience' '12 years experience' '45 years experience'\n",
      " '33 years experience' '38 years experience' '7 years experience'\n",
      " '59 years experience' '15 years experience' '39 years experience'\n",
      " '42 years experience' '54 years experience' '49 years experience'\n",
      " '48 years experience' '52 years experience' '51 years experience'\n",
      " '50 years experience' '37 years experience' '47 years experience'\n",
      " '53 years experience' '56 years experience' '65 years experience']\n",
      "10 years experience    110\n",
      "8 years experience      98\n",
      "9 years experience      96\n",
      "19 years experience     92\n",
      "7 years experience      89\n",
      "11 years experience     86\n",
      "13 years experience     83\n",
      "14 years experience     81\n",
      "12 years experience     79\n",
      "17 years experience     72\n",
      "18 years experience     70\n",
      "6 years experience      62\n",
      "15 years experience     57\n",
      "16 years experience     51\n",
      "5 years experience      50\n",
      "23 years experience     49\n",
      "21 years experience     48\n",
      "20 years experience     48\n",
      "29 years experience     46\n",
      "4 years experience      44\n",
      "22 years experience     37\n",
      "24 years experience     34\n",
      "25 years experience     33\n",
      "3 years experience      33\n",
      "26 years experience     32\n",
      "0 years experience      31\n",
      "28 years experience     29\n",
      "27 years experience     27\n",
      "34 years experience     27\n",
      "36 years experience     27\n",
      "31 years experience     26\n",
      "38 years experience     23\n",
      "30 years experience     18\n",
      "44 years experience     16\n",
      "32 years experience     16\n",
      "40 years experience     15\n",
      "37 years experience     14\n",
      "35 years experience     13\n",
      "39 years experience     13\n",
      "41 years experience     12\n",
      "33 years experience     11\n",
      "2 years experience      11\n",
      "46 years experience     11\n",
      "42 years experience     10\n",
      "43 years experience     10\n",
      "47 years experience      9\n",
      "49 years experience      8\n",
      "45 years experience      7\n",
      "48 years experience      6\n",
      "59 years experience      4\n",
      "50 years experience      3\n",
      "51 years experience      3\n",
      "52 years experience      2\n",
      "54 years experience      2\n",
      "56 years experience      1\n",
      "65 years experience      1\n",
      "53 years experience      1\n",
      "Name: Experience, dtype: int64\n",
      "*****************************************************************************************\n",
      "\n",
      "\n",
      "Rating  :  ['100%' '70%' '90%' '94%' '99%' '98%' '87%' '64%' '96%' '95%' '97%' '93%'\n",
      " '69%' '71%' '83%' '92%' '80%' '86%' '88%' '67%' '85%' '84%' '55%' '89%'\n",
      " '82%' '81%' '60%' '73%' '65%' '77%' '91%' '78%' '79%' '76%' '52%' '53%']\n",
      "100%    1313\n",
      "98%      112\n",
      "97%       84\n",
      "99%       68\n",
      "96%       65\n",
      "94%       51\n",
      "95%       47\n",
      "93%       34\n",
      "92%       29\n",
      "90%       29\n",
      "91%       26\n",
      "88%       13\n",
      "89%       11\n",
      "87%       11\n",
      "83%       11\n",
      "82%        9\n",
      "85%        8\n",
      "80%        7\n",
      "84%        7\n",
      "71%        7\n",
      "86%        6\n",
      "67%        5\n",
      "73%        5\n",
      "76%        4\n",
      "70%        4\n",
      "60%        4\n",
      "55%        3\n",
      "81%        3\n",
      "79%        2\n",
      "69%        2\n",
      "64%        2\n",
      "65%        1\n",
      "78%        1\n",
      "77%        1\n",
      "52%        1\n",
      "53%        1\n",
      "Name: Rating, dtype: int64\n",
      "*****************************************************************************************\n",
      "\n",
      "\n",
      "Place  :  ['Ghatkopar East, Mumbai' 'West Marredpally, Hyderabad'\n",
      " 'KK Nagar, Chennai' 'New Ashok Nagar, Delhi' 'Kanakpura Road, Bangalore'\n",
      " 'Velachery, Chennai' 'Frazer Town, Bangalore' 'Attapur, Hyderabad'\n",
      " 'Banashankari, Bangalore' 'Mayur Vihar Ph-I, Delhi'\n",
      " 'Erragadda, Hyderabad' 'Gandhipuram, Coimbatore' 'Kemps Corner, Mumbai'\n",
      " 'Banjara Hills, Hyderabad' 'Madandapuram, Chennai'\n",
      " 'Mukherjee Nagar, Delhi' 'Tis Hazari, Delhi'\n",
      " 'Banashankari 2nd Stage, Bangalore' 'Nagawara, Bangalore'\n",
      " 'Basavanagudi, Bangalore' 'Dadar, Mumbai' 'Kattakada, Thiruvananthapuram'\n",
      " 'Villivakkam, Chennai' 'Begumpet, Hyderabad' 'Kottivakkam, Chennai'\n",
      " 'Jeedimetla, Hyderabad' 'Gachibowli, Hyderabad' 'Chromepet, Chennai'\n",
      " 'Mulund West, Mumbai' 'Bellandur, Bangalore' 'Kukatpally, Hyderabad'\n",
      " 'Chandni Chowk, Delhi' 'Vileparle West, Mumbai' 'Sakinaka, Mumbai'\n",
      " 'Bannerghatta Road, Bangalore' 'Marathahalli, Bangalore'\n",
      " 'Kolathur, Chennai' 'Jayanagar 9 Block, Bangalore'\n",
      " 'Dilsukhnagar, Hyderabad' 'Dahisar East, Mumbai' 'Keelkattalai, Chennai'\n",
      " 'LB Nagar, Hyderabad' 'Jayanagar 4 Block, Bangalore' 'Patparganj, Delhi'\n",
      " 'Andheri East, Mumbai' 'Ganesh Nagar, Delhi' 'Powai, Mumbai'\n",
      " 'Whitefield, Bangalore' 'Andheri West, Mumbai' 'Thanisandra, Bangalore'\n",
      " 'Gulmohar Park, Delhi' 'Aminjikarai, Chennai' 'HSR Layout, Bangalore'\n",
      " 'Greater Kailash Part 2, Delhi' 'Tripunithura, Ernakulam'\n",
      " 'Tambaram East, Chennai' 'Chembur, Mumbai' 'Aluva, Ernakulam'\n",
      " 'Madhavaram, Chennai' 'Ramakrishna Puram, Hyderabad'\n",
      " 'Rajarajeshwarinagar, Bangalore' 'Krishna Nagar, Delhi'\n",
      " 'Vikas Nagar, Delhi' 'Ashok Vihar, Delhi' 'Shahdara, Delhi'\n",
      " 'Malleshpalya, Bangalore' 'Karapakkam, Chennai'\n",
      " 'Richmond Town, Bangalore' 'Malviya Nagar, Delhi' 'Adyar, Chennai'\n",
      " 'Kothapet, Hyderabad' 'RT Nagar, Bangalore' 'Malleswaram, Bangalore'\n",
      " 'Sahakaranagar, Bangalore' 'Chamarajpet, Bangalore'\n",
      " 'Kalyan Nagar, Bangalore' 'Nagarbhavi, Bangalore' 'Teynampet, Chennai'\n",
      " 'Balkampet, Hyderabad' 'Mehrauli, Delhi' 'Goregaon East, Mumbai'\n",
      " 'Goregaon West, Mumbai' 'Badarpur, Delhi' 'Navalur, Chennai'\n",
      " 'Chandrayangutta, Hyderabad' 'Prabhadevi, Mumbai' 'Ernakulam, Ernakulam'\n",
      " 'Peddar Road, Mumbai' 'Ashok Nagar, Chennai' 'Edayarpalayam, Coimbatore'\n",
      " 'Saket, Delhi' 'Old Rajendra Nagar, Delhi' 'T Nagar, Chennai'\n",
      " 'Miyapur, Hyderabad' 'Rohini, Delhi' 'Tolichowki, Hyderabad'\n",
      " 'Bhandup East, Mumbai' 'BTM Layout 2nd Stage, Bangalore'\n",
      " 'Kandivali West, Mumbai' 'Bandra West, Mumbai'\n",
      " 'Saravanampatti, Coimbatore' 'Jeevanbhimanagar, Bangalore'\n",
      " 'Yeshwanthpur, Bangalore' 'Koramangala 5 Block, Bangalore'\n",
      " 'Himayat Nagar, Hyderabad' 'Horamavu, Bangalore' 'KPHB, Hyderabad'\n",
      " 'Dwarka Sector 6, Delhi' 'Peeragarhi, Delhi' 'Green Park, Delhi'\n",
      " 'Aroor, Ernakulam' 'Adambakkam, Chennai' 'Pitampura, Delhi'\n",
      " 'Shalimar Bagh, Delhi' 'Nangloi, Delhi' 'Borivali West, Mumbai'\n",
      " 'Safdarjung Enclave, Delhi' 'Ganapathy, Coimbatore'\n",
      " 'Thoraipakkam, Chennai' 'Edapally, Ernakulam' 'Rohini West, Delhi'\n",
      " 'Uttarahalli, Bangalore' 'Churchgate, Mumbai' 'Malad West, Mumbai'\n",
      " 'Warasiguda, Hyderabad' 'Palluruthy, Ernakulam' 'Manikonda, Hyderabad'\n",
      " 'Juhu, Mumbai' 'Borivali East, Mumbai' 'Kondapur, Hyderabad'\n",
      " 'Anna Nagar, Chennai' 'Secunderabad, Hyderabad'\n",
      " 'Kammana Halli, Bangalore' 'Nungambakkam, Chennai' 'Vishwas Nagar, Delhi'\n",
      " 'Vasant Vihar, Delhi' 'Preet Vihar, Delhi' 'Nanganallur, Chennai'\n",
      " 'Indiranagar, Bangalore' 'Gujranwala Town, Delhi' 'Lower Parel, Mumbai'\n",
      " 'Santosh Nagar, Hyderabad' 'Dahisar West, Mumbai' 'Dwarka, Delhi'\n",
      " 'South Extension 2, Delhi' 'Vikhroli East, Mumbai' 'Porur, Chennai'\n",
      " 'Goregaon, Mumbai' 'Paschim Vihar, Delhi' 'Ghatkopar West, Mumbai'\n",
      " 'Madinaguda, Hyderabad' 'Chembur East, Mumbai'\n",
      " 'Mayur Vihar Ph-III, Delhi' 'Padmarao Nagar, Hyderabad'\n",
      " 'Punjabi Bagh, Delhi' 'Bhandup, Mumbai' 'Shivaji Nagar, Bangalore'\n",
      " 'Parel, Mumbai' 'Defence Colony, Delhi' 'Seshadripuram, Bangalore'\n",
      " 'Mahim, Mumbai' 'East Of Kailash, Delhi' 'Velandipalayam, Coimbatore'\n",
      " 'Rajakilpakkam, Chennai' 'Dadar West, Mumbai' 'Muvattupuzha, Ernakulam'\n",
      " 'New BEL Road, Bangalore' 'Okhla, Delhi' 'JP Nagar 7 Phase, Bangalore'\n",
      " 'Kilpauk, Chennai' 'Srinagar Colony, Hyderabad' 'Hitech City, Hyderabad'\n",
      " 'Perungudi, Chennai' 'Khar West, Mumbai' 'IP Extension, Delhi'\n",
      " 'Vidyanagar, Hyderabad' 'Chickpet, Bangalore' 'Madambakkam, Chennai'\n",
      " 'Delhi, Delhi' 'Vileparle East, Mumbai' 'Sadashivanagar, Bangalore'\n",
      " 'Kadavanthra, Ernakulam' 'Jubilee Hills, Hyderabad'\n",
      " 'R.S. Puram, Coimbatore' 'Perurkada, Thiruvananthapuram'\n",
      " 'Darya Ganj, Delhi' 'Madhapur, Hyderabad' 'Vijaynagar Colony, Hyderabad'\n",
      " 'Chanda Nagar, Hyderabad' 'South Extension 1, Delhi'\n",
      " 'Ullal Upanagara, Bangalore' 'Greams Road, Chennai' 'Neb Sarai, Delhi'\n",
      " 'Kaudiar, Thiruvananthapuram' 'ECR Road, Chennai' 'Kamla Nagar, Delhi'\n",
      " 'Patel Nagar, Delhi' 'Gandhinagar, Hyderabad' 'Sion, Mumbai'\n",
      " 'Rajajinagar, Bangalore' 'Vijayanagar, Bangalore' 'Besant Nagar, Chennai'\n",
      " 'Vasant Kunj, Delhi' 'Sholinganallur, Chennai' 'Janak Puri, Delhi'\n",
      " 'Punjagutta, Hyderabad' 'Cunningham Road, Bangalore'\n",
      " 'Millers Road, Bangalore' 'Rajouri Garden, Delhi'\n",
      " 'Old Airport Road, Bangalore' 'Ambattur, Chennai'\n",
      " 'Sanjay Nagar, Bangalore' 'Matunga, Mumbai' 'Mulund, Mumbai'\n",
      " 'Somajiguda, Hyderabad' 'Rohini Sector 7, Delhi' 'Ramesh Nagar, Delhi'\n",
      " 'Alwal, Hyderabad' 'Thrikkakara, Ernakulam' 'Aya Nagar, Delhi'\n",
      " 'Rani Bagh, Delhi' 'Bhayandar West, Mumbai' 'Hennur, Bangalore'\n",
      " 'Koramangala, Bangalore' 'Trimulgherry, Hyderabad' 'Yelahanka, Bangalore'\n",
      " 'Mira Road, Mumbai' 'Khar East, Mumbai' 'Nagole, Hyderabad'\n",
      " 'Kirti Nagar, Delhi' 'Uppilipalayam, Coimbatore' 'Kalkere, Bangalore'\n",
      " 'Wilson Garden, Bangalore' 'Shaikpet, Hyderabad' 'Malkajgiri, Hyderabad'\n",
      " 'JB Nagar, Mumbai' 'Virugambakkam, Chennai' 'Alwarpet, Chennai'\n",
      " 'Tavarekere, Bangalore' 'RK Puram, Delhi' 'Santacruz West, Mumbai'\n",
      " 'Sanath Nagar, Hyderabad' 'Vadavalli, Coimbatore' 'Kurla East, Mumbai'\n",
      " 'Munirka, Delhi' 'Kurla, Mumbai' 'Basaveshwaranagar, Bangalore'\n",
      " 'Mahavir Enclave, Delhi' 'Jayanagar 2 Block, Bangalore'\n",
      " 'Malad East, Mumbai' 'Kundalahalli, Bangalore' 'Sarita Vihar, Delhi'\n",
      " 'Ameerpet, Hyderabad' 'Nacharam, Hyderabad' 'Colaba, Mumbai'\n",
      " 'Mazgaon, Mumbai' 'Peenya, Bangalore' 'Panchsheel Park, Delhi'\n",
      " 'Chetpet, Chennai' 'Kandivali East, Mumbai' 'Sarjapur Road, Bangalore'\n",
      " 'Vikhroli, Mumbai' 'Vanasthalipuram, Hyderabad' 'Cheranalloor, Ernakulam'\n",
      " 'Ramanathapuram, Coimbatore' 'Saibaba Colony, Coimbatore'\n",
      " 'Anand Lok, Delhi' 'Laxmi Nagar, Delhi' 'Jangpura, Delhi'\n",
      " 'Ayanambakkam, Chennai' 'Nirman Vihar, Delhi' 'Mylapore, Chennai'\n",
      " 'Kasturi nagar, Bangalore' 'Tarnaka, Hyderabad' 'Bandra East, Mumbai'\n",
      " 'Jogeshwari East, Mumbai' 'Dindarpur, Delhi' 'Moti Nagar, Delhi'\n",
      " 'Banashankari 3rd Stage, Bangalore' 'Sion East, Mumbai'\n",
      " 'Chikkadpally, Hyderabad' 'Arekere, Bangalore' 'Thoppumpady, Ernakulam'\n",
      " 'Nariman Point, Mumbai' 'Pragathi Nagar, Hyderabad' 'Tardeo, Mumbai'\n",
      " 'Varthur, Bangalore' 'Mumbai Central, Mumbai'\n",
      " 'JP Nagar 2 Phase, Bangalore' 'Anna Nagar West, Chennai'\n",
      " 'Mogappair East, Chennai' 'Dilshad Garden, Delhi'\n",
      " 'HAL 2nd Stage, Bangalore' 'Arumbakkam, Chennai' 'Kandanchavadi, Chennai'\n",
      " 'Khanpur, Delhi' 'Vyasarpadi, Chennai' 'Dwarka Sector 3, Delhi'\n",
      " 'Medavakkam, Chennai' 'Cuffe Parade, Mumbai' 'Lajpat Nagar, Delhi'\n",
      " 'Iyyappanthangal, Chennai' 'Bhandup West, Mumbai' 'Domlur, Bangalore'\n",
      " 'Nanjundapuram, Coimbatore' 'Yousufguda, Hyderabad'\n",
      " 'New Friends Colony, Delhi' 'Koramangala 4 Block, Bangalore'\n",
      " 'Malakpet, Hyderabad' 'Pallikaranai, Chennai' 'Worli, Mumbai'\n",
      " 'Chintal, Hyderabad' 'Sarvapriya Vihar, Delhi' 'Pattabiram, Chennai'\n",
      " 'Kengeri, Bangalore' 'AS Rao Nagar, Hyderabad' 'Kachiguda, Hyderabad'\n",
      " 'SR Nagar, Hyderabad' 'Kakkanad, Ernakulam' 'CR Park, Delhi'\n",
      " 'Mehdipatnam, Hyderabad' 'Neelankarai, Chennai' 'Patel Nagar West, Delhi'\n",
      " 'Kumarapuram, Thiruvananthapuram' 'New Rajendra Nagar, Delhi'\n",
      " 'Mulanthuruthy, Ernakulam' 'West Of Chord Road, Bangalore'\n",
      " 'Kudlu, Bangalore' 'Padmanabhanagar, Bangalore' 'Vikas Puri, Delhi'\n",
      " 'Hauz Khas, Delhi' 'Basheerbagh, Hyderabad' 'Kadubeesanahalli, Bangalore'\n",
      " 'Vijaynagar, Delhi' 'Hyderguda, Hyderabad' 'Vanagaram, Chennai'\n",
      " 'Ganganagar, Bangalore' 'Mulund East, Mumbai' 'Kishanbagh, Hyderabad'\n",
      " 'Pusa Road, Delhi' 'Suchitra Circle, Hyderabad' 'Triplicane, Chennai'\n",
      " 'Nemom, Thiruvananthapuram' 'Panampilly Nagar, Ernakulam'\n",
      " 'Vasundhra Enclave, Delhi' 'Dwarka Sector 5, Delhi'\n",
      " 'Thiruvanmiyur, Chennai' 'Agaram, Chennai' 'Bilekahalli, Bangalore'\n",
      " 'Shenoy Nagar, Chennai' 'Jakkur, Bangalore' 'Hebbal, Bangalore'\n",
      " 'Shastri Nagar, Delhi' 'Jayamahal, Bangalore' 'Naraina Vihar, Delhi'\n",
      " 'Alipur, Delhi' 'Ramnagar, Coimbatore' 'Ambalamukku, Thiruvananthapuram'\n",
      " 'Pappanaickenpalayam, Coimbatore' 'Domalguda, Hyderabad'\n",
      " 'Shakti Nagar, Delhi' 'Adarsh Nagar, Delhi' 'Karkhana, Hyderabad'\n",
      " 'Ramamurthy Nagar, Bangalore' 'Kanjurmarg, Mumbai' 'Palam Colony, Delhi'\n",
      " 'Girgaon, Mumbai' 'Dwarka Sector 23, Delhi' 'Jayanagar, Bangalore'\n",
      " 'Shantinagar, Bangalore' 'Uday Park, Delhi' 'Pattom, Thiruvananthapuram'\n",
      " 'Anand Vihar, Delhi' 'Kanjoor, Ernakulam' 'Nedumbassery, Ernakulam'\n",
      " 'Madipakkam, Chennai' 'Sundarapuram, Coimbatore'\n",
      " 'Koramangala 8 Block, Bangalore' 'Mogappair West, Chennai'\n",
      " 'Kodambakkam, Chennai' 'Sion West, Mumbai'\n",
      " 'Sasthamangalam, Thiruvananthapuram' 'Kochi M.G.Road, Ernakulam'\n",
      " 'Kalamassery, Ernakulam' 'Safilguda, Hyderabad' 'Hegde Nagar, Bangalore'\n",
      " 'Kilkattalai, Chennai' 'Tilak Nagar, Delhi' 'Gopalapuram, Chennai'\n",
      " 'Electronics City, Bangalore' 'Hazrat Nizamuddin, Delhi'\n",
      " 'Kattupakkam, Chennai' 'Tuglakabad, Delhi' 'JP Nagar 3 Phase, Bangalore'\n",
      " 'KR Puram, Bangalore' 'Guduvanchery, Chennai' 'Kotturpuram, Chennai'\n",
      " 'Hastsal, Delhi' 'Tambaram West, Chennai'\n",
      " 'Tv Thampanoor, Thiruvananthapuram' 'Bhayandar East, Mumbai'\n",
      " 'Saroor Nagar, Hyderabad' 'Singanallur, Coimbatore' 'Mahipalpur, Delhi'\n",
      " 'Mathikere - BEL, Bangalore' 'Pappanaickenpudur, Coimbatore'\n",
      " 'Jayanagar 5 Block, Bangalore' 'Mahalakshmi Layout, Bangalore'\n",
      " 'Narayanguda, Hyderabad' 'Grant Road, Mumbai' 'Dadar East, Mumbai'\n",
      " 'Vidyaranyapura, Bangalore' 'Washermenpet, Chennai'\n",
      " 'Marine Lines, Mumbai' 'Tondiarpet, Chennai' 'Kurla West, Mumbai'\n",
      " 'Mugalivakkam, Chennai' 'Vidyanagar, Bangalore'\n",
      " 'Outer Ring Road, Bangalore' 'Kodungaiyur, Chennai' 'Bhogal, Delhi'\n",
      " 'Balanagar, Hyderabad' 'Gulabi Bagh, Delhi' 'Vadapalani, Chennai'\n",
      " 'Dommasandra, Bangalore' 'Peelamedu, Coimbatore' 'Marol, Mumbai'\n",
      " 'Byculla, Mumbai' 'Nallagandla, Hyderabad'\n",
      " 'Nedumangad, Thiruvananthapuram' 'Valasaravakkam, Chennai'\n",
      " 'Mandaveli, Chennai' 'Chattarpur, Delhi' 'Koramangala 1 Block, Bangalore'\n",
      " 'Perumbakkam, Chennai' 'Greater Kailash Part 1, Delhi'\n",
      " 'Matunga West, Mumbai' 'Viveknagar, Bangalore'\n",
      " 'Lingarajapuram, Bangalore' 'Mansarover Garden, Delhi'\n",
      " 'Paradise, Hyderabad' 'BTM Layout, Bangalore' 'Kalapatti, Coimbatore'\n",
      " 'JP Nagar, Bangalore' 'Burari, Delhi' 'Ulsoor, Bangalore'\n",
      " 'Andheri, Mumbai' 'Kavundampalayam, Coimbatore' 'Thiruvottiyur, Chennai'\n",
      " 'Seeranaickenpalayam, Coimbatore' 'Periyar Nagar, Chennai'\n",
      " 'Kailash Colony, Delhi' 'HRBR Layout, Bangalore' 'Abhiramapuram, Chennai'\n",
      " 'JP Nagar 9 Phase, Bangalore' 'Ecil, Hyderabad' 'Moti Nagar, Hyderabad'\n",
      " 'Choolaimedu, Chennai' 'Bachupally, Hyderabad' 'Kalkaji, Delhi'\n",
      " 'Perambur, Chennai' 'Pahar Ganj, Delhi' 'Vyttila, Ernakulam'\n",
      " 'T Dasarahalli, Bangalore' 'BTM Layout 1st Stage, Bangalore'\n",
      " 'JP Nagar 6 Phase, Bangalore' 'Chaitanyapuri, Hyderabad'\n",
      " 'Greater Kailash, Delhi' 'Jafferkhanpet, Chennai'\n",
      " 'Kumara Park West, Bangalore' 'Barkatpura, Hyderabad'\n",
      " 'Yellareddyguda, Hyderabad' 'Oshiwara, Mumbai' 'Nesapakkam, Chennai'\n",
      " 'Vennala, Ernakulam' 'Vaduthala, Ernakulam' 'Nallakunta, Hyderabad'\n",
      " 'Angamaly, Ernakulam' 'Nandambakkam, Chennai' 'Rohini Sector 20, Delhi'\n",
      " 'Yamuna Vihar, Delhi' 'Abids, Hyderabad' 'Madhu Vihar, Delhi'\n",
      " 'Banashankari 1st Stage, Bangalore' 'Jalahalli, Bangalore'\n",
      " 'HBR Layout, Bangalore' 'Tagore Garden, Delhi' 'Alaknanda, Delhi'\n",
      " 'RMV 2nd Stage, Bangalore' 'Thudiyalur, Coimbatore'\n",
      " 'Khairatabad, Hyderabad' 'Sriniwaspuri, Delhi' 'Mira Bhayandar, Mumbai'\n",
      " 'Pammal, Chennai' 'Habsiguda, Hyderabad' 'Palghar, Mumbai'\n",
      " 'Lingampally, Hyderabad' 'Kapra, Hyderabad'\n",
      " 'Qutab Institutional Area, Delhi' 'Kadugodi, Bangalore'\n",
      " 'Sagar Road, Hyderabad' 'Kumaraswamy Layout, Bangalore'\n",
      " 'Saidabad, Hyderabad' 'Wadala, Mumbai' 'Inder Puri, Delhi'\n",
      " 'Siddhapudur, Coimbatore' 'Yelahanka New Town, Bangalore'\n",
      " 'Gamdevi, Mumbai' 'Saidapet, Chennai' 'JP Nagar 1 Phase, Bangalore'\n",
      " 'East Marredpally, Hyderabad' 'Poothotta, Ernakulam'\n",
      " 'Chandra Layout, Bangalore' 'Karamana, Thiruvananthapuram'\n",
      " 'Koramangala 7 Block, Bangalore' 'Hari Nagar, Delhi'\n",
      " 'Tilak Nagar, Mumbai' 'Vileparle, Mumbai' 'KH Road, Bangalore'\n",
      " 'Neredmet, Hyderabad' 'Kanchanbagh, Hyderabad' 'Bali Nagar, Delhi'\n",
      " 'Jhilmil Colony, Delhi' 'Charni Road, Mumbai'\n",
      " 'Coimbatore Racecourse, Coimbatore' 'Rohini Sector 3, Delhi'\n",
      " 'Champapet, Hyderabad' 'Srirampuram, Bangalore' 'Nizampet, Hyderabad'\n",
      " 'Sukhdev Vihar, Delhi' 'Hope College, Coimbatore' 'Nandanam, Chennai'\n",
      " 'Malabar Hill, Mumbai' 'Tambaram, Chennai' 'Perungalathur, Chennai'\n",
      " 'Delhi Cantonment, Delhi' 'Vanchiyur, Thiruvananthapuram'\n",
      " 'Kaggadasapura, Bangalore' 'Prashant Vihar, Delhi' 'Manapakkam, Chennai'\n",
      " 'Hasthinapuram, Chennai' 'Jogeshwari West, Mumbai'\n",
      " 'Palarivattom, Ernakulam' 'Balapur, Hyderabad' 'OMR Road, Chennai'\n",
      " 'Uppal, Hyderabad' 'Ayanavaram, Chennai' 'Moosapet, Hyderabad'\n",
      " 'Periyanaickenpalayam, Coimbatore' 'Marine Drive, Ernakulam'\n",
      " 'Manchavilakom, Thiruvananthapuram' 'Najafgarh, Delhi' 'Govandi, Mumbai'\n",
      " 'Yemalur, Bangalore' 'Banaswadi, Bangalore' 'Meerpet, Hyderabad'\n",
      " 'Moosarambagh, Hyderabad' 'Begum Bazar, Hyderabad' 'Kaloor, Ernakulam'\n",
      " 'Sewri, Mumbai' 'Anna Nagar East, Chennai' 'Padi, Chennai'\n",
      " 'Patel Nagar East, Delhi' 'Kazhakuttam, Thiruvananthapuram'\n",
      " 'Ayyappankavu, Ernakulam' 'Kingsway Camp, Delhi' 'Model Town, Delhi'\n",
      " 'Chintalmet, Hyderabad' 'Kalu Sarai, Delhi'\n",
      " 'Sreekaryam, Thiruvananthapuram' 'Broadway, Chennai'\n",
      " 'Pratap Nagar, Delhi' 'Kapashera, Delhi' 'Raja Annamalai Puram, Chennai'\n",
      " 'Shadipur, Delhi' 'Ramapuram, Chennai' 'Hongasandra, Bangalore'\n",
      " 'Bakkarwala, Delhi' 'Dwarka Sector 12, Delhi' 'August Kranti Marg, Delhi'\n",
      " 'Pollachi, Coimbatore' 'Vikhroli West, Mumbai'\n",
      " 'JP Nagar 5 Phase, Bangalore' 'BHEL, Hyderabad' 'Purasawakkam, Chennai'\n",
      " 'Selvapuram, Coimbatore' 'Boduppal, Hyderabad' 'Abbigere, Bangalore'\n",
      " 'Sultanpur, Delhi' 'Hosur Road, Bangalore' 'Choolai, Chennai'\n",
      " 'Lajpat Nagar III, Delhi']\n",
      "Andheri West, Mumbai       33\n",
      "Mulund West, Mumbai        27\n",
      "Dwarka, Delhi              26\n",
      "Whitefield, Bangalore      23\n",
      "HSR Layout, Bangalore      22\n",
      "                           ..\n",
      "Thudiyalur, Coimbatore      1\n",
      "Delhi Cantonment, Delhi     1\n",
      "Dahisar West, Mumbai        1\n",
      "Malleshpalya, Bangalore     1\n",
      "Sultanpur, Delhi            1\n",
      "Name: Place, Length: 592, dtype: int64\n",
      "*****************************************************************************************\n",
      "\n",
      "\n",
      "Profile  :  ['General Medicine' 'ENT Specialist' 'Dermatologists' 'Ayurveda' 'Dentist'\n",
      " 'Homeopath']\n",
      "General Medicine    444\n",
      "Dentist             441\n",
      "Dermatologists      339\n",
      "Homeopath           277\n",
      "Ayurveda            251\n",
      "ENT Specialist      235\n",
      "Name: Profile, dtype: int64\n",
      "*****************************************************************************************\n",
      "\n",
      "\n"
     ]
    }
   ],
   "source": [
    "#lets see the object data type columns and see thier unique values.\n",
    "for column in test.columns:\n",
    "    if test[column].dtypes == 'object':\n",
    "        print(str(column)+  '  :  ' +str(test[column].unique()))\n",
    "        print(test[column].value_counts())\n",
    "        print('*****************************************************************************************')\n",
    "        print('\\n')"
   ]
  },
  {
   "cell_type": "markdown",
   "metadata": {},
   "source": [
    "# Exploratory Data Analysis"
   ]
  },
  {
   "cell_type": "code",
   "execution_count": 37,
   "metadata": {},
   "outputs": [],
   "source": [
    "#before moving further lets explore column and try to delete the alphabetical value.\n",
    "#lets delete the alpha value from experience column and make the dtype int.\n",
    "test['Experience'].replace(regex=True, inplace=True, to_replace=r'[^0-9.\\-]', value=r'')\n",
    "test['Experience'] =test['Experience'].astype('int')\n",
    "#lets delete the alpha value from experience column and make the dtype int.\n",
    "test['Rating'].replace(regex=True, inplace=True, to_replace=r'[^0-9.\\-]', value=r'')\n",
    "test['Rating'] = test['Rating'].astype('int')"
   ]
  },
  {
   "cell_type": "code",
   "execution_count": 38,
   "metadata": {},
   "outputs": [
    {
     "data": {
      "image/png": "[encoded data removed]",
      "text/plain": [
       "<Figure size 1296x288 with 1 Axes>"
      ]
     },
     "metadata": {
      "needs_background": "light"
     },
     "output_type": "display_data"
    },
    {
     "data": {
      "text/plain": [
       "100    1313\n",
       "98      112\n",
       "97       84\n",
       "99       68\n",
       "96       65\n",
       "94       51\n",
       "95       47\n",
       "93       34\n",
       "92       29\n",
       "90       29\n",
       "91       26\n",
       "88       13\n",
       "83       11\n",
       "89       11\n",
       "87       11\n",
       "82        9\n",
       "85        8\n",
       "84        7\n",
       "80        7\n",
       "71        7\n",
       "86        6\n",
       "73        5\n",
       "67        5\n",
       "76        4\n",
       "70        4\n",
       "60        4\n",
       "81        3\n",
       "55        3\n",
       "79        2\n",
       "69        2\n",
       "64        2\n",
       "78        1\n",
       "77        1\n",
       "65        1\n",
       "53        1\n",
       "52        1\n",
       "Name: Rating, dtype: int64"
      ]
     },
     "execution_count": 38,
     "metadata": {},
     "output_type": "execute_result"
    }
   ],
   "source": [
    "plt.subplots(figsize=(18,4))\n",
    "sns.countplot(x='Rating',data=test)\n",
    "plt.title('Rating percentage of Doctors')\n",
    "plt.xlabel('Rating in percentage')\n",
    "plt.ylabel('count of Doctor')\n",
    "plt.show()\n",
    "test['Rating'].value_counts()"
   ]
  },
  {
   "cell_type": "raw",
   "metadata": {},
   "source": [
    "observation:\n",
    "    1. we can observe almost 1313 doctor is having rating 100%.\n",
    "    \n",
    "    2. Where as the least rating we can observe is 52% for 1 Doctor."
   ]
  },
  {
   "cell_type": "code",
   "execution_count": 39,
   "metadata": {},
   "outputs": [
    {
     "data": {
      "image/png": "[encoded data removed]",
      "text/plain": [
       "<Figure size 1296x288 with 1 Axes>"
      ]
     },
     "metadata": {
      "needs_background": "light"
     },
     "output_type": "display_data"
    },
    {
     "data": {
      "text/plain": [
       "10    110\n",
       "8      98\n",
       "9      96\n",
       "19     92\n",
       "7      89\n",
       "11     86\n",
       "13     83\n",
       "14     81\n",
       "12     79\n",
       "17     72\n",
       "18     70\n",
       "6      62\n",
       "15     57\n",
       "16     51\n",
       "5      50\n",
       "23     49\n",
       "21     48\n",
       "20     48\n",
       "29     46\n",
       "4      44\n",
       "22     37\n",
       "24     34\n",
       "3      33\n",
       "25     33\n",
       "26     32\n",
       "0      31\n",
       "28     29\n",
       "27     27\n",
       "34     27\n",
       "36     27\n",
       "31     26\n",
       "38     23\n",
       "30     18\n",
       "32     16\n",
       "44     16\n",
       "40     15\n",
       "37     14\n",
       "39     13\n",
       "35     13\n",
       "41     12\n",
       "33     11\n",
       "2      11\n",
       "46     11\n",
       "42     10\n",
       "43     10\n",
       "47      9\n",
       "49      8\n",
       "45      7\n",
       "48      6\n",
       "59      4\n",
       "50      3\n",
       "51      3\n",
       "52      2\n",
       "54      2\n",
       "53      1\n",
       "56      1\n",
       "65      1\n",
       "Name: Experience, dtype: int64"
      ]
     },
     "execution_count": 39,
     "metadata": {},
     "output_type": "execute_result"
    }
   ],
   "source": [
    "plt.subplots(figsize=(18,4))\n",
    "sns.countplot(x='Experience',data=test,palette='terrain_r')\n",
    "plt.title('Experience of Doctors in years')\n",
    "plt.xlabel('Experience in years')\n",
    "plt.ylabel('count of Doctor')\n",
    "plt.show()\n",
    "test['Experience'].value_counts()"
   ]
  },
  {
   "cell_type": "raw",
   "metadata": {},
   "source": [
    "obsrvation:\n",
    "    1. maximum experience of Doctor we can observe is 65 years having count of 1 Doctor in number.\n",
    "    2. 110 numbers of the doctor having experience of 10 years which is the most count of doctor in numbers.\n",
    "    3. 98 numbers of doctor is having 8 years of experience."
   ]
  },
  {
   "cell_type": "code",
   "execution_count": 40,
   "metadata": {},
   "outputs": [
    {
     "data": {
      "image/png": "[encoded data removed]",
      "text/plain": [
       "<Figure size 1296x288 with 1 Axes>"
      ]
     },
     "metadata": {
      "needs_background": "light"
     },
     "output_type": "display_data"
    },
    {
     "data": {
      "text/plain": [
       "General Medicine    444\n",
       "Dentist             441\n",
       "Dermatologists      339\n",
       "Homeopath           277\n",
       "Ayurveda            251\n",
       "ENT Specialist      235\n",
       "Name: Profile, dtype: int64"
      ]
     },
     "execution_count": 40,
     "metadata": {},
     "output_type": "execute_result"
    }
   ],
   "source": [
    "plt.subplots(figsize=(18,4))\n",
    "sns.countplot(x='Profile',data=test,palette='rainbow')\n",
    "plt.title('Profiles of Doctors')\n",
    "plt.xlabel('Doctor specialisation')\n",
    "plt.ylabel('count of Doctors')\n",
    "plt.show()\n",
    "test['Profile'].value_counts()"
   ]
  },
  {
   "cell_type": "raw",
   "metadata": {},
   "source": [
    "observation:\n",
    "    1. we have more number of General medicine doctor which is 444 in counts.\n",
    "    2. Dentist doctors 441 counts in number.\n",
    "    3. the least doctors in count we can observe is ENT Specialist 235 doctors"
   ]
  },
  {
   "cell_type": "markdown",
   "metadata": {},
   "source": [
    "# Bivariate analysis"
   ]
  },
  {
   "cell_type": "markdown",
   "metadata": {},
   "source": [
    "# Rating vs Profile"
   ]
  },
  {
   "cell_type": "code",
   "execution_count": 41,
   "metadata": {},
   "outputs": [
    {
     "data": {
      "image/png": "[encoded data removed]",
      "text/plain": [
       "<Figure size 1080x360 with 1 Axes>"
      ]
     },
     "metadata": {
      "needs_background": "light"
     },
     "output_type": "display_data"
    }
   ],
   "source": [
    "plt.subplots(figsize=(18,4))\n",
    "test.groupby('Profile')['Rating'].sum().sort_values(ascending=False).plot(kind=\"bar\",figsize=(15,5))\n",
    "plt.title('Rating based doctor profile in ascending order')\n",
    "plt.xlabel('Doctor Specliasation')\n",
    "plt.ylabel('Rating in percentage')\n",
    "plt.show()"
   ]
  },
  {
   "cell_type": "raw",
   "metadata": {},
   "source": [
    "observation:\n",
    "    1. we can observe the profile based on rating the best rating we can observe for Dentist followed by General medicine, and        the least rating we can observe for ENT specialist."
   ]
  },
  {
   "cell_type": "markdown",
   "metadata": {},
   "source": [
    "# Experience vs Profile"
   ]
  },
  {
   "cell_type": "code",
   "execution_count": 42,
   "metadata": {},
   "outputs": [
    {
     "data": {
      "image/png": "[encoded data removed]",
      "text/plain": [
       "<Figure size 1080x360 with 1 Axes>"
      ]
     },
     "metadata": {
      "needs_background": "light"
     },
     "output_type": "display_data"
    }
   ],
   "source": [
    "plt.subplots(figsize=(18,4))\n",
    "test.groupby('Profile')['Experience'].sum().sort_values(ascending=False).plot(kind=\"bar\",figsize=(15,5))\n",
    "plt.title('Experience of doctor on the basis of there profile in ascending order')\n",
    "plt.xlabel('Doctor Specliasation')\n",
    "plt.ylabel('Experience in years')\n",
    "plt.show()"
   ]
  },
  {
   "cell_type": "raw",
   "metadata": {},
   "source": [
    "observation:\n",
    "    1. we can oobserve the maximum experience doctor are from the background General Medicine.\n",
    "    2. where as the least experience we can observe for the Homeopath.    "
   ]
  },
  {
   "cell_type": "markdown",
   "metadata": {},
   "source": [
    "# Thats all with test data lets start the process of building model."
   ]
  },
  {
   "cell_type": "markdown",
   "metadata": {},
   "source": [
    "# To check distribution of skewness"
   ]
  },
  {
   "cell_type": "code",
   "execution_count": 43,
   "metadata": {},
   "outputs": [
    {
     "data": {
      "image/png": "[encoded data removed]",
      "text/plain": [
       "<Figure size 432x288 with 1 Axes>"
      ]
     },
     "metadata": {
      "needs_background": "light"
     },
     "output_type": "display_data"
    },
    {
     "data": {
      "image/png": "[encoded data removed]",
      "text/plain": [
       "<Figure size 432x288 with 1 Axes>"
      ]
     },
     "metadata": {
      "needs_background": "light"
     },
     "output_type": "display_data"
    },
    {
     "data": {
      "image/png": "[encoded data removed]",
      "text/plain": [
       "<Figure size 432x288 with 1 Axes>"
      ]
     },
     "metadata": {
      "needs_background": "light"
     },
     "output_type": "display_data"
    },
    {
     "data": {
      "image/png": "[encoded data removed]",
      "text/plain": [
       "<Figure size 432x288 with 1 Axes>"
      ]
     },
     "metadata": {
      "needs_background": "light"
     },
     "output_type": "display_data"
    }
   ],
   "source": [
    "for i in train.columns:\n",
    "    sns.distplot(train[i])\n",
    "    plt.show()"
   ]
  },
  {
   "cell_type": "code",
   "execution_count": 44,
   "metadata": {},
   "outputs": [
    {
     "data": {
      "text/plain": [
       "Experience    0.991089\n",
       "Rating       -4.701646\n",
       "Profile       0.108803\n",
       "Fees          0.751870\n",
       "dtype: float64"
      ]
     },
     "execution_count": 44,
     "metadata": {},
     "output_type": "execute_result"
    }
   ],
   "source": [
    "# Now let check the skewness and try to remove the skewness.\n",
    "train.skew()\n",
    "#observation: we can oberve the data is skewed."
   ]
  },
  {
   "cell_type": "code",
   "execution_count": 45,
   "metadata": {},
   "outputs": [],
   "source": [
    "# lets apply log transformation and treat the skewed data\n",
    "for col in train.columns:\n",
    "    if train.skew().loc[col]>0.55:\n",
    "        train[col]=np.sqrt(train[col])"
   ]
  },
  {
   "cell_type": "code",
   "execution_count": 46,
   "metadata": {},
   "outputs": [
    {
     "data": {
      "text/plain": [
       "Experience    0.082582\n",
       "Rating       -4.701646\n",
       "Profile       0.108803\n",
       "Fees          0.245176\n",
       "dtype: float64"
      ]
     },
     "execution_count": 46,
     "metadata": {},
     "output_type": "execute_result"
    }
   ],
   "source": [
    "train.skew()"
   ]
  },
  {
   "cell_type": "markdown",
   "metadata": {},
   "source": [
    "# Removing Outliers"
   ]
  },
  {
   "cell_type": "code",
   "execution_count": 47,
   "metadata": {},
   "outputs": [
    {
     "data": {
      "image/png": "[encoded data removed]",
      "text/plain": [
       "<Figure size 432x288 with 1 Axes>"
      ]
     },
     "metadata": {
      "needs_background": "light"
     },
     "output_type": "display_data"
    },
    {
     "data": {
      "image/png": "[encoded data removed]",
      "text/plain": [
       "<Figure size 432x288 with 1 Axes>"
      ]
     },
     "metadata": {
      "needs_background": "light"
     },
     "output_type": "display_data"
    },
    {
     "data": {
      "image/png": "[encoded data removed]",
      "text/plain": [
       "<Figure size 432x288 with 1 Axes>"
      ]
     },
     "metadata": {
      "needs_background": "light"
     },
     "output_type": "display_data"
    },
    {
     "data": {
      "image/png": "[encoded data removed]",
      "text/plain": [
       "<Figure size 432x288 with 1 Axes>"
      ]
     },
     "metadata": {
      "needs_background": "light"
     },
     "output_type": "display_data"
    }
   ],
   "source": [
    "#lets plot the boxplot to identify the outliers.\n",
    "for i in train.columns:\n",
    "    sns.boxplot(train[i])\n",
    "    plt.show()"
   ]
  },
  {
   "cell_type": "code",
   "execution_count": 48,
   "metadata": {},
   "outputs": [
    {
     "name": "stdout",
     "output_type": "stream",
     "text": [
      "(5961, 4)\n",
      "(5821, 4)\n"
     ]
    }
   ],
   "source": [
    "#lets remove the outliers using zscore\n",
    "from scipy.stats import zscore\n",
    "z=abs(zscore(train))\n",
    "print(train.shape)\n",
    "new=train.loc[(z<3).all(axis=1)]\n",
    "print(new.shape)\n",
    "# we can observe the new zscore down below."
   ]
  },
  {
   "cell_type": "raw",
   "metadata": {},
   "source": [
    "Now the EDA process is been completed"
   ]
  },
  {
   "cell_type": "markdown",
   "metadata": {},
   "source": [
    "# Model Training\n",
    "\n",
    "As we can observe in this data set , that we have to predict the consulatation Fees by taking target variable as Fees.\n"
   ]
  },
  {
   "cell_type": "markdown",
   "metadata": {},
   "source": [
    "# Lets apply various regression to predict the Deaths."
   ]
  },
  {
   "cell_type": "code",
   "execution_count": 49,
   "metadata": {},
   "outputs": [],
   "source": [
    "# lets sepearate input output columns\n",
    "df_x=new.drop(columns=['Fees']) # Input variable.\n",
    "y=pd.DataFrame(new['Fees']) #Target Variable."
   ]
  },
  {
   "cell_type": "code",
   "execution_count": 50,
   "metadata": {},
   "outputs": [
    {
     "data": {
      "text/html": [
       "<div>\n",
       "<style scoped>\n",
       "    .dataframe tbody tr th:only-of-type {\n",
       "        vertical-align: middle;\n",
       "    }\n",
       "\n",
       "    .dataframe tbody tr th {\n",
       "        vertical-align: top;\n",
       "    }\n",
       "\n",
       "    .dataframe thead th {\n",
       "        text-align: right;\n",
       "    }\n",
       "</style>\n",
       "<table border=\"1\" class=\"dataframe\">\n",
       "  <thead>\n",
       "    <tr style=\"text-align: right;\">\n",
       "      <th></th>\n",
       "      <th>Experience</th>\n",
       "      <th>Rating</th>\n",
       "      <th>Profile</th>\n",
       "    </tr>\n",
       "  </thead>\n",
       "  <tbody>\n",
       "    <tr>\n",
       "      <th>0</th>\n",
       "      <td>0.733975</td>\n",
       "      <td>0.484987</td>\n",
       "      <td>1.541260</td>\n",
       "    </tr>\n",
       "    <tr>\n",
       "      <th>1</th>\n",
       "      <td>-0.329524</td>\n",
       "      <td>-0.083329</td>\n",
       "      <td>-1.454891</td>\n",
       "    </tr>\n",
       "    <tr>\n",
       "      <th>2</th>\n",
       "      <td>-0.673506</td>\n",
       "      <td>0.484987</td>\n",
       "      <td>0.342800</td>\n",
       "    </tr>\n",
       "    <tr>\n",
       "      <th>3</th>\n",
       "      <td>-0.329524</td>\n",
       "      <td>0.484987</td>\n",
       "      <td>-1.454891</td>\n",
       "    </tr>\n",
       "    <tr>\n",
       "      <th>4</th>\n",
       "      <td>0.417608</td>\n",
       "      <td>0.484987</td>\n",
       "      <td>-1.454891</td>\n",
       "    </tr>\n",
       "  </tbody>\n",
       "</table>\n",
       "</div>"
      ],
      "text/plain": [
       "   Experience    Rating   Profile\n",
       "0    0.733975  0.484987  1.541260\n",
       "1   -0.329524 -0.083329 -1.454891\n",
       "2   -0.673506  0.484987  0.342800\n",
       "3   -0.329524  0.484987 -1.454891\n",
       "4    0.417608  0.484987 -1.454891"
      ]
     },
     "execution_count": 50,
     "metadata": {},
     "output_type": "execute_result"
    }
   ],
   "source": [
    "# lets scale the input variable\n",
    "from sklearn.preprocessing import StandardScaler\n",
    "sc=StandardScaler()\n",
    "x=sc.fit_transform(df_x)\n",
    "x=pd.DataFrame(x,columns=df_x.columns)\n",
    "x.head()\n",
    "# WE CAN NOTICE OUR DATA IS BEEN SCALED."
   ]
  },
  {
   "cell_type": "code",
   "execution_count": 51,
   "metadata": {},
   "outputs": [
    {
     "data": {
      "text/plain": [
       "Experience    0.086901\n",
       "Rating       -2.697737\n",
       "Profile       0.126566\n",
       "dtype: float64"
      ]
     },
     "execution_count": 51,
     "metadata": {},
     "output_type": "execute_result"
    }
   ],
   "source": [
    "#lets again check the skewness\n",
    "x.skew()"
   ]
  },
  {
   "cell_type": "raw",
   "metadata": {},
   "source": [
    "lets apply various regression to the model"
   ]
  },
  {
   "cell_type": "code",
   "execution_count": 52,
   "metadata": {},
   "outputs": [],
   "source": [
    "# let import diffrent model library\n",
    "from sklearn.linear_model import LinearRegression,Lasso,ElasticNet,Ridge\n",
    "from sklearn.neighbors import KNeighborsRegressor\n",
    "from sklearn.svm import SVR\n",
    "from sklearn.tree import DecisionTreeRegressor\n",
    "#import ensemble technique\n",
    "from sklearn.ensemble import GradientBoostingRegressor\n",
    "from sklearn.ensemble import AdaBoostRegressor\n",
    "from sklearn.ensemble import RandomForestRegressor\n",
    "\n",
    "\n",
    "\n",
    "#importing error matrics\n",
    "from sklearn.metrics import mean_absolute_error,mean_squared_error,r2_score"
   ]
  },
  {
   "cell_type": "code",
   "execution_count": 53,
   "metadata": {},
   "outputs": [],
   "source": [
    "#lets apply regression to datasets\n",
    "from sklearn.metrics import mean_absolute_error,mean_squared_error,r2_score\n",
    "from sklearn.model_selection import train_test_split\n",
    "def maxr2_score(regr,x,y): #Def is used such that we can call it later\n",
    "    max_r_score=0\n",
    "    for r_state in range(42,100):\n",
    "        x_train,x_test,y_train,y_test=train_test_split(x,y,random_state=r_state,test_size=0.20)\n",
    "        regr.fit(x_train,y_train)\n",
    "        y_pred=regr.predict(x_test)\n",
    "        r2_scr=r2_score(y_test,y_pred)\n",
    "        if r2_scr>max_r_score:\n",
    "            max_r_score=r2_scr\n",
    "            final_r_state=r_state\n",
    "    print()\n",
    "    print('max r2 score correponding to',final_r_state,'is',max_r_score)\n",
    "    print()\n",
    "    print('Error:')\n",
    "    print('Mean absolute error:',mean_absolute_error(y_test,y_pred))\n",
    "    print('Mean Squared error:',mean_squared_error(y_test,y_pred))\n",
    "    print('Root Mean Squared error:',np.sqrt(mean_squared_error(y_test,y_pred)))\n",
    "    print('*******************************************************************')\n",
    "    print()\n",
    "    return final_r_state"
   ]
  },
  {
   "cell_type": "code",
   "execution_count": 54,
   "metadata": {},
   "outputs": [
    {
     "name": "stdout",
     "output_type": "stream",
     "text": [
      "----->> LinearRegression() <<-----\n",
      "\n",
      "max r2 score correponding to 99 is 0.06260063261624194\n",
      "\n",
      "Error:\n",
      "Mean absolute error: 4.420063444711879\n",
      "Mean Squared error: 28.22529508751013\n",
      "Root Mean Squared error: 5.312748355372211\n",
      "*******************************************************************\n",
      "\n",
      "----->> KNeighborsRegressor() <<-----\n",
      "\n",
      "max r2 score correponding to 99 is 0.04536374061198045\n",
      "\n",
      "Error:\n",
      "Mean absolute error: 4.34631442541824\n",
      "Mean Squared error: 28.74430158584997\n",
      "Root Mean Squared error: 5.361371241189139\n",
      "*******************************************************************\n",
      "\n",
      "----->> SVR() <<-----\n",
      "\n",
      "max r2 score correponding to 99 is 0.16629536343432005\n",
      "\n",
      "Error:\n",
      "Mean absolute error: 4.06822761210823\n",
      "Mean Squared error: 25.103024603662035\n",
      "Root Mean Squared error: 5.010291868111281\n",
      "*******************************************************************\n",
      "\n",
      "----->> GradientBoostingRegressor() <<-----\n",
      "\n",
      "max r2 score correponding to 77 is 0.17478597770445692\n",
      "\n",
      "Error:\n",
      "Mean absolute error: 4.095732951683561\n",
      "Mean Squared error: 25.034012142661194\n",
      "Root Mean Squared error: 5.003400058226525\n",
      "*******************************************************************\n",
      "\n",
      "----->> RandomForestRegressor() <<-----\n",
      "\n",
      "max r2 score correponding to 95 is 0.06328637180146568\n",
      "\n",
      "Error:\n",
      "Mean absolute error: 4.304216142228513\n",
      "Mean Squared error: 28.48827314305884\n",
      "Root Mean Squared error: 5.337440692228705\n",
      "*******************************************************************\n",
      "\n",
      "----->> Ridge() <<-----\n",
      "\n",
      "max r2 score correponding to 99 is 0.06259501320455407\n",
      "\n",
      "Error:\n",
      "Mean absolute error: 4.420079816117048\n",
      "Mean Squared error: 28.225464289195802\n",
      "Root Mean Squared error: 5.312764279468439\n",
      "*******************************************************************\n",
      "\n",
      "----->> ElasticNet() <<-----\n",
      "\n",
      "max r2 score correponding to 79 is 0.02051609594925896\n",
      "\n",
      "Error:\n",
      "Mean absolute error: 4.5540224005247865\n",
      "Mean Squared error: 29.539388417435312\n",
      "Root Mean Squared error: 5.435015033781904\n",
      "*******************************************************************\n",
      "\n",
      "----->> AdaBoostRegressor() <<-----\n",
      "\n",
      "max r2 score correponding to 99 is 0.14574012233942857\n",
      "\n",
      "Error:\n",
      "Mean absolute error: 4.206876738994527\n",
      "Mean Squared error: 25.72194730159118\n",
      "Root Mean Squared error: 5.071680914804398\n",
      "*******************************************************************\n",
      "\n"
     ]
    }
   ],
   "source": [
    "model=[LinearRegression(),KNeighborsRegressor(),SVR(),GradientBoostingRegressor(),RandomForestRegressor(),Ridge(),ElasticNet(),AdaBoostRegressor()]\n",
    "for m in model:\n",
    "    print('----->>',m,'<<-----')\n",
    "    r_state=maxr2_score(m,x,y)"
   ]
  },
  {
   "cell_type": "code",
   "execution_count": 55,
   "metadata": {},
   "outputs": [
    {
     "name": "stdout",
     "output_type": "stream",
     "text": [
      "Cross val score of LinearRegression() is:\n",
      "Cross val score is [0.02193288 0.04479331 0.05321    0.04383626 0.03230473 0.05249999\n",
      " 0.03020776 0.04364052 0.05759042 0.04290911]\n",
      "Mean cross val score of LinearRegression() is 0.042292499255463724\n",
      "Standard deviation of LinearRegression() is 0.010623352804151739\n",
      "\n",
      "*******************************************************************\n",
      "Cross val score of KNeighborsRegressor() is:\n",
      "Cross val score is [-0.09586826 -0.00802026  0.002324   -0.02346788 -0.0146777   0.0356623\n",
      "  0.00278874 -0.06732292  0.0173299   0.00023098]\n",
      "Mean cross val score of KNeighborsRegressor() is -0.015102109207409698\n",
      "Standard deviation of KNeighborsRegressor() is 0.037226628352241053\n",
      "\n",
      "*******************************************************************\n",
      "Cross val score of SVR() is:\n",
      "Cross val score is [0.11639553 0.10817707 0.14402998 0.1025982  0.1289636  0.15444599\n",
      " 0.11108825 0.0720617  0.10132443 0.13887092]\n",
      "Mean cross val score of SVR() is 0.11779556731957656\n",
      "Standard deviation of SVR() is 0.02309480888944618\n",
      "\n",
      "*******************************************************************\n",
      "Cross val score of GradientBoostingRegressor() is:\n",
      "Cross val score is [0.13263418 0.14154706 0.1514692  0.10980735 0.15456638 0.16578407\n",
      " 0.13306531 0.11873534 0.11561035 0.14090765]\n",
      "Mean cross val score of GradientBoostingRegressor() is 0.13641269041487677\n",
      "Standard deviation of GradientBoostingRegressor() is 0.017158238574195614\n",
      "\n",
      "*******************************************************************\n",
      "Cross val score of Ridge() is:\n",
      "Cross val score is [0.02193728 0.04479473 0.05320603 0.04383627 0.03230636 0.05249839\n",
      " 0.03021043 0.0436417  0.05758628 0.04290915]\n",
      "Mean cross val score of Ridge() is 0.04229266164112171\n",
      "Standard deviation of Ridge() is 0.010620944432126267\n",
      "\n",
      "*******************************************************************\n",
      "Cross val score of ElasticNet() is:\n",
      "Cross val score is [0.01376479 0.01972218 0.01808033 0.01695182 0.01514695 0.01911331\n",
      " 0.01457635 0.01888796 0.01988127 0.01631365]\n",
      "Mean cross val score of ElasticNet() is 0.01724386026376893\n",
      "Standard deviation of ElasticNet() is 0.0021109886159985623\n",
      "\n",
      "*******************************************************************\n",
      "Cross val score of AdaBoostRegressor() is:\n",
      "Cross val score is [0.11281157 0.10310392 0.14418655 0.09661366 0.14971607 0.12967055\n",
      " 0.11682243 0.12075276 0.10749366 0.11932891]\n",
      "Mean cross val score of AdaBoostRegressor() is 0.12005000707307274\n",
      "Standard deviation of AdaBoostRegressor() is 0.016165156833294166\n",
      "\n",
      "*******************************************************************\n"
     ]
    }
   ],
   "source": [
    "#lets cross validate all the model uing FOR loop.\n",
    "from sklearn.model_selection import cross_val_score\n",
    "model=[LinearRegression(),KNeighborsRegressor(),SVR(),GradientBoostingRegressor(),Ridge(),ElasticNet(),AdaBoostRegressor()]\n",
    "for m in model:\n",
    "    cvs=cross_val_score(m,x,y,cv=10,scoring='r2')\n",
    "    print('Cross val score of',m,'is:')\n",
    "    print('Cross val score is',cvs)\n",
    "    print('Mean cross val score of',m,'is',cvs.mean())\n",
    "    print('Standard deviation of',m,'is',cvs.std())\n",
    "    print()\n",
    "    print('*******************************************************************')"
   ]
  },
  {
   "cell_type": "raw",
   "metadata": {},
   "source": [
    "observation:\n",
    "    1. From checking above we can conclude that Gradient boosting is working well among all but the RMSE score 5, any how lets        check it with grid search cv and lets see the predicted output."
   ]
  },
  {
   "cell_type": "code",
   "execution_count": 56,
   "metadata": {},
   "outputs": [
    {
     "data": {
      "text/plain": [
       "{'learning_rate': 0.01, 'n_estimators': 500}"
      ]
     },
     "execution_count": 56,
     "metadata": {},
     "output_type": "execute_result"
    }
   ],
   "source": [
    "# lets check the best parameter using grid search cv.\n",
    "from sklearn.model_selection import GridSearchCV\n",
    "import warnings\n",
    "warnings.filterwarnings('ignore')\n",
    "gbr=GradientBoostingRegressor()\n",
    "parameters={'learning_rate':[0.001,0.01,0.1,1],'n_estimators':[10,100,500,100]} \n",
    "# use n_estimator with step of 50\n",
    "clf=GridSearchCV(gbr,parameters,cv=5)\n",
    "clf.fit(x,y)\n",
    "clf.best_params_\n"
   ]
  },
  {
   "cell_type": "code",
   "execution_count": 57,
   "metadata": {},
   "outputs": [
    {
     "name": "stdout",
     "output_type": "stream",
     "text": [
      "R2 Score for Ridge :  17.85735271444682\n",
      "Cross Validation Score for Ridge:  14.15498738278727\n",
      "\n",
      "Mean absolute error: 4.088227572626076\n",
      "Mean Squared error: 24.62903877856138\n",
      "Root Mean Squared Error : 4.962765235084305\n"
     ]
    }
   ],
   "source": [
    "x_train,x_test,y_train,y_test=train_test_split(x,y,random_state=77,test_size=0.20)\n",
    "gbr=GradientBoostingRegressor(learning_rate=0.01,n_estimators=500)\n",
    "gbr.fit(x_train,y_train)\n",
    "pred=gbr.predict(x_test)\n",
    "print(\"R2 Score for Ridge : \",r2_score(y_test,pred)*100)\n",
    "print('Cross Validation Score for Ridge: ',cross_val_score(gbr,x,y,cv=5,scoring='r2').mean()*100)\n",
    "print()\n",
    "print('Mean absolute error:',mean_absolute_error(y_test,pred))\n",
    "print('Mean Squared error:',mean_squared_error(y_test,pred))\n",
    "print('Root Mean Squared Error :',np.sqrt(mean_squared_error(y_test,pred)))"
   ]
  },
  {
   "cell_type": "raw",
   "metadata": {},
   "source": [
    "observation:\n",
    "    1. We can observe that the Gradient boosting is giving score of almost 18%\n",
    "    2. We can also observe that the Cross valid score is 14.15 which i can say gradient boosting is giving best result among          all. lets save te model with gradient boosting regressor.  "
   ]
  },
  {
   "cell_type": "code",
   "execution_count": 58,
   "metadata": {},
   "outputs": [],
   "source": [
    "#lets test the model\n",
    "doc_cons_fee=gbr.predict(x)"
   ]
  },
  {
   "cell_type": "code",
   "execution_count": 71,
   "metadata": {},
   "outputs": [
    {
     "name": "stdout",
     "output_type": "stream",
     "text": [
      "AxesSubplot(0.125,0.125;0.775x0.755)\n"
     ]
    },
    {
     "data": {
      "image/png": "[encoded data removed]",
      "text/plain": [
       "<Figure size 432x288 with 1 Axes>"
      ]
     },
     "metadata": {
      "needs_background": "light"
     },
     "output_type": "display_data"
    }
   ],
   "source": [
    "print(sns.distplot([doc_cons_fee]))"
   ]
  },
  {
   "cell_type": "code",
   "execution_count": 60,
   "metadata": {},
   "outputs": [],
   "source": [
    "#lets save the predicted result to excel file.\n",
    "ds=pd.DataFrame(doc_cons_fee)\n",
    "ds.to_csv('doc_cons_fee.csv')"
   ]
  },
  {
   "cell_type": "code",
   "execution_count": 61,
   "metadata": {},
   "outputs": [
    {
     "data": {
      "text/plain": [
       "['doc_cons_fee.pkl']"
      ]
     },
     "execution_count": 61,
     "metadata": {},
     "output_type": "execute_result"
    }
   ],
   "source": [
    "# lets Save the model\n",
    "import joblib\n",
    "joblib.dump(gbr,'doc_cons_fee.pkl')"
   ]
  },
  {
   "cell_type": "raw",
   "metadata": {},
   "source": [
    "conclusion:\n",
    "    1. After Exploring this Doctor consultation prediction fees we came to various conclusion\n",
    "    2. As this dataset was distributed in two parts train and test dataset we explored both the dataset individually, i have          plotted each and every parameter describing the fees pridiction, the isight is mentioned with the plotting above.\n",
    "    3. I checked the skewness , treated them and tried to remove the outliers using zscore.\n",
    "    4. I applied all the possible regression technique to fid the best module, after exploring almost all the algorithm and            finded best parameter using grid search cv come to conclusion that gradient boostig is working well with r2 score of 18%        though its quite less further improvement can be done with this dataset.\n",
    "    5. This is not it we can further improve the data and explore it and we might get better score from what i get."
   ]
  }
 ],
 "metadata": {
  "kernelspec": {
   "display_name": "Python 3",
   "language": "python",
   "name": "python3"
  },
  "language_info": {
   "codemirror_mode": {
    "name": "ipython",
    "version": 3
   },
   "file_extension": ".py",
   "mimetype": "text/x-python",
   "name": "python",
   "nbconvert_exporter": "python",
   "pygments_lexer": "ipython3",
   "version": "3.8.5"
  }
 },
 "nbformat": 4,
 "nbformat_minor": 4
}
